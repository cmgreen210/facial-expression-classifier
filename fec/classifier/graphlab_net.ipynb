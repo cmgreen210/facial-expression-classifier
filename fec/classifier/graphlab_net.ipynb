{
<<<<<<< HEAD
 "metadata": {
  "name": "",
  "signature": "sha256:45e44e0f7fc2af0629ca5e51723b410318de31bf61342df3cc79f25d8df4d349"
 },
 "nbformat": 3,
 "nbformat_minor": 0,
=======
>>>>>>> bc79861cbf0691f851d3145e1a94af6ae0cca89c
 "worksheets": [
  {
   "cells": [
    {
     "cell_type": "code",
<<<<<<< HEAD
     "collapsed": false,
     "input": [
      "import graphlab as gl\n",
      "gl.canvas.set_target('ipynb')"
     ],
     "language": "python",
=======
>>>>>>> bc79861cbf0691f851d3145e1a94af6ae0cca89c
     "metadata": {},
     "outputs": [
      {
       "output_type": "stream",
       "stream": "stderr",
       "text": [
        "A newer version of GraphLab Create (v1.3) is available! Your current version is v1.2.1.\n",
        "You can use pip to upgrade the graphlab-create package. For more information see http://graphlab.com/products/create/upgrade."
       ]
      }
     ],
<<<<<<< HEAD
=======
     "input": [
      "import graphlab as gl\n",
      "gl.canvas.set_target('ipynb')"
     ],
     "language": "python",
>>>>>>> bc79861cbf0691f851d3145e1a94af6ae0cca89c
     "prompt_number": 1
    },
    {
     "cell_type": "code",
<<<<<<< HEAD
     "collapsed": false,
     "input": [
      "data = gl.SFrame('s3://cmgreen210-emotions/sframe-full')"
     ],
     "language": "python",
=======
>>>>>>> bc79861cbf0691f851d3145e1a94af6ae0cca89c
     "metadata": {},
     "outputs": [
      {
       "output_type": "stream",
       "stream": "stderr",
       "text": [
<<<<<<< HEAD
        "[INFO] Start server at: ipc:///tmp/graphlab_server-18650 - Server binary: /usr/local/lib/python2.7/site-packages/graphlab/unity_server - Server log: /tmp/graphlab_server_1425414018.log\n"
=======
        "[INFO] Start server at: ipc:///tmp/graphlab_server-15695 - Server binary: /usr/local/lib/python2.7/site-packages/graphlab/unity_server - Server log: /tmp/graphlab_server_1425348621.log\n"
>>>>>>> bc79861cbf0691f851d3145e1a94af6ae0cca89c
       ]
      },
      {
       "output_type": "stream",
       "stream": "stderr",
       "text": [
        "[INFO] GraphLab Server Version: 1.2.1\n"
       ]
      },
      {
<<<<<<< HEAD
       "html": [
        "<pre>PROGRESS: download: s3://cmgreen210-emotions/sframe-full/dir_archive.ini to ../../var/tmp/graphlab-chris/18650/000000</pre>"
       ],
       "metadata": {},
       "output_type": "display_data",
       "text": [
        "PROGRESS: download: s3://cmgreen210-emotions/sframe-full/dir_archive.ini to ../../var/tmp/graphlab-chris/18650/000000"
       ]
      },
      {
       "html": [
        "<pre>PROGRESS:</pre>"
       ],
       "metadata": {},
       "output_type": "display_data",
       "text": [
        "PROGRESS:"
       ]
      },
      {
       "html": [
        "<pre>PROGRESS: download: s3://cmgreen210-emotions/sframe-full/dir_archive.ini to ../../var/tmp/graphlab-chris/18650/000002/dir_archive.ini\n",
        "Completed 1 of 56 part(s) with 7 file(s) remaining</pre>"
       ],
       "metadata": {},
       "output_type": "display_data",
       "text": [
        "PROGRESS: download: s3://cmgreen210-emotions/sframe-full/dir_archive.ini to ../../var/tmp/graphlab-chris/18650/000002/dir_archive.ini\n",
        "Completed 1 of 56 part(s) with 7 file(s) remaining"
       ]
      },
      {
       "html": [
        "<pre>PROGRESS: Completed 2 of 56 part(s) with 7 file(s) remaining</pre>"
       ],
       "metadata": {},
       "output_type": "display_data",
       "text": [
        "PROGRESS: Completed 2 of 56 part(s) with 7 file(s) remaining"
       ]
      },
      {
       "html": [
        "<pre>PROGRESS: Completed 3 of 56 part(s) with 7 file(s) remaining</pre>"
       ],
       "metadata": {},
       "output_type": "display_data",
       "text": [
        "PROGRESS: Completed 3 of 56 part(s) with 7 file(s) remaining"
       ]
      },
      {
       "html": [
        "<pre>PROGRESS: Completed 4 of 56 part(s) with 7 file(s) remaining</pre>"
       ],
       "metadata": {},
       "output_type": "display_data",
       "text": [
        "PROGRESS: Completed 4 of 56 part(s) with 7 file(s) remaining"
       ]
      },
      {
       "html": [
        "<pre>PROGRESS: Completed 5 of 56 part(s) with 7 file(s) remaining</pre>"
       ],
       "metadata": {},
       "output_type": "display_data",
       "text": [
        "PROGRESS: Completed 5 of 56 part(s) with 7 file(s) remaining"
       ]
      }
     ]
    },
    {
     "cell_type": "code",
     "collapsed": false,
     "input": [
      "data.shape"
     ],
     "language": "python",
     "metadata": {},
     "outputs": [
      {
       "ename": "RuntimeError",
       "evalue": "Communication Failure: 65. ",
       "output_type": "pyerr",
       "traceback": [
        "\u001b[0;31m---------------------------------------------------------------------------\u001b[0m\n\u001b[0;31mRuntimeError\u001b[0m                              Traceback (most recent call last)",
        "\u001b[0;32m<ipython-input-18-4d6baf1a67bf>\u001b[0m in \u001b[0;36m<module>\u001b[0;34m()\u001b[0m\n\u001b[0;32m----> 1\u001b[0;31m \u001b[0mdata\u001b[0m\u001b[0;34m.\u001b[0m\u001b[0mshape\u001b[0m\u001b[0;34m\u001b[0m\u001b[0m\n\u001b[0m",
        "\u001b[0;32m/usr/local/lib/python2.7/site-packages/graphlab/data_structures/sframe.pyc\u001b[0m in \u001b[0;36mshape\u001b[0;34m(self)\u001b[0m\n\u001b[1;32m   4728\u001b[0m         \u001b[0;34m(\u001b[0m\u001b[0;36m3\u001b[0m\u001b[0;34m,\u001b[0m \u001b[0;36m2\u001b[0m\u001b[0;34m)\u001b[0m\u001b[0;34m\u001b[0m\u001b[0m\n\u001b[1;32m   4729\u001b[0m         \"\"\"\n\u001b[0;32m-> 4730\u001b[0;31m         \u001b[0;32mreturn\u001b[0m \u001b[0;34m(\u001b[0m\u001b[0mself\u001b[0m\u001b[0;34m.\u001b[0m\u001b[0mnum_rows\u001b[0m\u001b[0;34m(\u001b[0m\u001b[0;34m)\u001b[0m\u001b[0;34m,\u001b[0m \u001b[0mself\u001b[0m\u001b[0;34m.\u001b[0m\u001b[0mnum_cols\u001b[0m\u001b[0;34m(\u001b[0m\u001b[0;34m)\u001b[0m\u001b[0;34m)\u001b[0m\u001b[0;34m\u001b[0m\u001b[0m\n\u001b[0m\u001b[1;32m   4731\u001b[0m \u001b[0;34m\u001b[0m\u001b[0m\n\u001b[1;32m   4732\u001b[0m     \u001b[0;34m@\u001b[0m\u001b[0mproperty\u001b[0m\u001b[0;34m\u001b[0m\u001b[0m\n",
        "\u001b[0;32m/usr/local/lib/python2.7/site-packages/graphlab/data_structures/sframe.pyc\u001b[0m in \u001b[0;36mnum_rows\u001b[0;34m(self)\u001b[0m\n\u001b[1;32m   1705\u001b[0m         \u001b[0mnum_columns\u001b[0m\u001b[0;34m\u001b[0m\u001b[0m\n\u001b[1;32m   1706\u001b[0m         \"\"\"\n\u001b[0;32m-> 1707\u001b[0;31m         \u001b[0;32mreturn\u001b[0m \u001b[0mself\u001b[0m\u001b[0;34m.\u001b[0m\u001b[0m__proxy__\u001b[0m\u001b[0;34m.\u001b[0m\u001b[0mnum_rows\u001b[0m\u001b[0;34m(\u001b[0m\u001b[0;34m)\u001b[0m\u001b[0;34m\u001b[0m\u001b[0m\n\u001b[0m\u001b[1;32m   1708\u001b[0m \u001b[0;34m\u001b[0m\u001b[0m\n\u001b[1;32m   1709\u001b[0m     \u001b[0;32mdef\u001b[0m \u001b[0mnum_cols\u001b[0m\u001b[0;34m(\u001b[0m\u001b[0mself\u001b[0m\u001b[0;34m)\u001b[0m\u001b[0;34m:\u001b[0m\u001b[0;34m\u001b[0m\u001b[0m\n",
        "\u001b[0;32m/usr/local/lib/python2.7/site-packages/graphlab/cython/cy_sframe.so\u001b[0m in \u001b[0;36mgraphlab.cython.cy_sframe.UnitySFrameProxy.num_rows\u001b[0;34m()\u001b[0m\n",
        "\u001b[0;32m/usr/local/lib/python2.7/site-packages/graphlab/cython/cy_sframe.so\u001b[0m in \u001b[0;36mgraphlab.cython.cy_sframe.UnitySFrameProxy.num_rows\u001b[0;34m()\u001b[0m\n",
        "\u001b[0;31mRuntimeError\u001b[0m: Communication Failure: 65. "
       ]
      }
     ],
     "prompt_number": 18
    },
    {
     "cell_type": "code",
     "collapsed": false,
=======
       "output_type": "pyout",
       "html": [
        "<pre>PROGRESS: download: s3://cmgreen210-emotions/graphlab-35k/dir_archive.ini to ../../var/tmp/graphlab-chris/15695/000000</pre>"
       ],
       "text": [
        "PROGRESS: download: s3://cmgreen210-emotions/graphlab-35k/dir_archive.ini to ../../var/tmp/graphlab-chris/15695/000000"
       ],
       "metadata": {}
      },
      {
       "output_type": "pyout",
       "html": [
        "<pre>PROGRESS:</pre>"
       ],
       "text": [
        "PROGRESS:"
       ],
       "metadata": {}
      },
      {
       "output_type": "pyout",
       "html": [
        "<pre>PROGRESS: download: s3://cmgreen210-emotions/graphlab-35k/dir_archive.ini to ../../var/tmp/graphlab-chris/15695/000002/dir_archive.ini\n",
        "Completed 1 of 8 part(s) with 7 file(s) remaining</pre>"
       ],
       "text": [
        "PROGRESS: download: s3://cmgreen210-emotions/graphlab-35k/dir_archive.ini to ../../var/tmp/graphlab-chris/15695/000002/dir_archive.ini\n",
        "Completed 1 of 8 part(s) with 7 file(s) remaining"
       ],
       "metadata": {}
      },
      {
       "output_type": "pyout",
       "html": [
        "<pre>PROGRESS: download: s3://cmgreen210-emotions/graphlab-35k/m_f724da7936513228.frame_idx to ../../var/tmp/graphlab-chris/15695/000002/m_f724da7936513228.frame_idx\n",
        "Completed 2 of 8 part(s) with 6 file(s) remaining</pre>"
       ],
       "text": [
        "PROGRESS: download: s3://cmgreen210-emotions/graphlab-35k/m_f724da7936513228.frame_idx to ../../var/tmp/graphlab-chris/15695/000002/m_f724da7936513228.frame_idx\n",
        "Completed 2 of 8 part(s) with 6 file(s) remaining"
       ],
       "metadata": {}
      },
      {
       "output_type": "pyout",
       "html": [
        "<pre>PROGRESS: download: s3://cmgreen210-emotions/graphlab-35k/m_f724da7936513228.sidx to ../../var/tmp/graphlab-chris/15695/000002/m_f724da7936513228.sidx\n",
        "Completed 3 of 8 part(s) with 5 file(s) remaining</pre>"
       ],
       "text": [
        "PROGRESS: download: s3://cmgreen210-emotions/graphlab-35k/m_f724da7936513228.sidx to ../../var/tmp/graphlab-chris/15695/000002/m_f724da7936513228.sidx\n",
        "Completed 3 of 8 part(s) with 5 file(s) remaining"
       ],
       "metadata": {}
      },
      {
       "output_type": "pyout",
       "html": [
        "<pre>PROGRESS: download: s3://cmgreen210-emotions/graphlab-35k/objects.bin to ../../var/tmp/graphlab-chris/15695/000002/objects.bin\n",
        "Completed 4 of 8 part(s) with 4 file(s) remaining</pre>"
       ],
       "text": [
        "PROGRESS: download: s3://cmgreen210-emotions/graphlab-35k/objects.bin to ../../var/tmp/graphlab-chris/15695/000002/objects.bin\n",
        "Completed 4 of 8 part(s) with 4 file(s) remaining"
       ],
       "metadata": {}
      },
      {
       "output_type": "pyout",
       "html": [
        "<pre>PROGRESS: Completed 5 of 8 part(s) with 4 file(s) remaining</pre>"
       ],
       "text": [
        "PROGRESS: Completed 5 of 8 part(s) with 4 file(s) remaining"
       ],
       "metadata": {}
      },
      {
       "output_type": "pyout",
       "html": [
        "<pre>PROGRESS: download: s3://cmgreen210-emotions/graphlab-35k/m_f724da7936513228.0002 to ../../var/tmp/graphlab-chris/15695/000002/m_f724da7936513228.0002\n",
        "Completed 5 of 8 part(s) with 3 file(s) remaining</pre>"
       ],
       "text": [
        "PROGRESS: download: s3://cmgreen210-emotions/graphlab-35k/m_f724da7936513228.0002 to ../../var/tmp/graphlab-chris/15695/000002/m_f724da7936513228.0002\n",
        "Completed 5 of 8 part(s) with 3 file(s) remaining"
       ],
       "metadata": {}
      },
      {
       "output_type": "pyout",
       "html": [
        "<pre>PROGRESS: Completed 6 of 8 part(s) with 3 file(s) remaining</pre>"
       ],
       "text": [
        "PROGRESS: Completed 6 of 8 part(s) with 3 file(s) remaining"
       ],
       "metadata": {}
      },
      {
       "output_type": "pyout",
       "html": [
        "<pre>PROGRESS: download: s3://cmgreen210-emotions/graphlab-35k/m_f724da7936513228.0001 to ../../var/tmp/graphlab-chris/15695/000002/m_f724da7936513228.0001\n",
        "Completed 6 of 8 part(s) with 2 file(s) remaining</pre>"
       ],
       "text": [
        "PROGRESS: download: s3://cmgreen210-emotions/graphlab-35k/m_f724da7936513228.0001 to ../../var/tmp/graphlab-chris/15695/000002/m_f724da7936513228.0001\n",
        "Completed 6 of 8 part(s) with 2 file(s) remaining"
       ],
       "metadata": {}
      },
      {
       "output_type": "pyout",
       "html": [
        "<pre>PROGRESS: Completed 7 of 8 part(s) with 2 file(s) remaining</pre>"
       ],
       "text": [
        "PROGRESS: Completed 7 of 8 part(s) with 2 file(s) remaining"
       ],
       "metadata": {}
      },
      {
       "output_type": "pyout",
       "html": [
        "<pre>PROGRESS: download: s3://cmgreen210-emotions/graphlab-35k/m_f724da7936513228.0000 to ../../var/tmp/graphlab-chris/15695/000002/m_f724da7936513228.0000\n",
        "Completed 7 of 8 part(s) with 1 file(s) remaining</pre>"
       ],
       "text": [
        "PROGRESS: download: s3://cmgreen210-emotions/graphlab-35k/m_f724da7936513228.0000 to ../../var/tmp/graphlab-chris/15695/000002/m_f724da7936513228.0000\n",
        "Completed 7 of 8 part(s) with 1 file(s) remaining"
       ],
       "metadata": {}
      },
      {
       "output_type": "pyout",
       "html": [
        "<pre>PROGRESS: Completed 8 of 8 part(s) with 1 file(s) remaining</pre>"
       ],
       "text": [
        "PROGRESS: Completed 8 of 8 part(s) with 1 file(s) remaining"
       ],
       "metadata": {}
      },
      {
       "output_type": "pyout",
       "html": [
        "<pre>PROGRESS: download: s3://cmgreen210-emotions/graphlab-35k/m_f724da7936513228.0003 to ../../var/tmp/graphlab-chris/15695/000002/m_f724da7936513228.0003</pre>"
       ],
       "text": [
        "PROGRESS: download: s3://cmgreen210-emotions/graphlab-35k/m_f724da7936513228.0003 to ../../var/tmp/graphlab-chris/15695/000002/m_f724da7936513228.0003"
       ],
       "metadata": {}
      },
      {
       "output_type": "pyout",
       "html": [
        "<pre>PROGRESS:</pre>"
       ],
       "text": [
        "PROGRESS:"
       ],
       "metadata": {}
      }
     ],
     "input": [
      "data = gl.SFrame('s3://cmgreen210-emotions/graphlab-35k')"
     ],
     "language": "python",
     "prompt_number": 2
    },
    {
     "cell_type": "code",
     "metadata": {},
     "outputs": [
      {
       "output_type": "pyout",
       "prompt_number": 3,
       "text": [
        "(35887, 2)"
       ],
       "metadata": {}
      }
     ],
     "input": [
      "data.shape"
     ],
     "language": "python",
     "prompt_number": 3
    },
    {
     "cell_type": "code",
     "metadata": {},
     "outputs": [],
>>>>>>> bc79861cbf0691f851d3145e1a94af6ae0cca89c
     "input": [
      "net = gl.deeplearning.create(data, target='label')"
     ],
     "language": "python",
<<<<<<< HEAD
     "metadata": {},
     "outputs": [],
=======
>>>>>>> bc79861cbf0691f851d3145e1a94af6ae0cca89c
     "prompt_number": 4
    },
    {
     "cell_type": "code",
<<<<<<< HEAD
     "collapsed": false,
=======
     "metadata": {},
     "outputs": [],
>>>>>>> bc79861cbf0691f851d3145e1a94af6ae0cca89c
     "input": [
      "training_data, test_data = data.random_split(.9)"
     ],
     "language": "python",
<<<<<<< HEAD
     "metadata": {},
     "outputs": [],
=======
>>>>>>> bc79861cbf0691f851d3145e1a94af6ae0cca89c
     "prompt_number": 5
    },
    {
     "cell_type": "code",
<<<<<<< HEAD
     "collapsed": false,
=======
     "metadata": {},
     "outputs": [],
>>>>>>> bc79861cbf0691f851d3145e1a94af6ae0cca89c
     "input": [
      "training_data, validation_data = data.random_split(0.8)"
     ],
     "language": "python",
<<<<<<< HEAD
     "metadata": {},
     "outputs": [],
=======
>>>>>>> bc79861cbf0691f851d3145e1a94af6ae0cca89c
     "prompt_number": 6
    },
    {
     "cell_type": "code",
<<<<<<< HEAD
     "collapsed": false,
=======
     "metadata": {},
     "outputs": [],
>>>>>>> bc79861cbf0691f851d3145e1a94af6ae0cca89c
     "input": [
      "mean_image = training_data['images'].mean()"
     ],
     "language": "python",
<<<<<<< HEAD
     "metadata": {},
     "outputs": [],
=======
>>>>>>> bc79861cbf0691f851d3145e1a94af6ae0cca89c
     "prompt_number": 13
    },
    {
     "cell_type": "code",
<<<<<<< HEAD
     "collapsed": false,
=======
     "metadata": {},
     "outputs": [],
>>>>>>> bc79861cbf0691f851d3145e1a94af6ae0cca89c
     "input": [
      "def train():\n",
      "    m = gl.neuralnet_classifier.create(training_data, target='label',\n",
      "                                   network=net,\n",
      "                                   validation_set=validation_data,\n",
      "                                   metric=['accuracy', 'recall@2'],\n",
      "                                   max_iterations=100,\n",
      "                                   mean_image=mean_image,\n",
      "                                   batch_size=150,\n",
      "                                   model_checkpoint_interval=5,\n",
      "                                   model_checkpoint_path='~/tmp/chkpt')\n",
      "    return m"
     ],
     "language": "python",
<<<<<<< HEAD
     "metadata": {},
     "outputs": [],
=======
>>>>>>> bc79861cbf0691f851d3145e1a94af6ae0cca89c
     "prompt_number": 14
    },
    {
     "cell_type": "code",
<<<<<<< HEAD
     "collapsed": false,
     "input": [
      "%time m = train()"
     ],
     "language": "python",
     "metadata": {},
     "outputs": [
      {
       "html": [
        "<pre>PROGRESS: Creating neuralnet using device = cpu</pre>"
       ],
       "metadata": {},
       "output_type": "pyout",
       "text": [
        "PROGRESS: Creating neuralnet using device = cpu"
       ]
      },
      {
       "html": [
        "<pre>PROGRESS: +-----------+----------+--------------+-------------------+---------------------+-------------------+---------------------+-----------------+</pre>"
       ],
       "metadata": {},
       "output_type": "pyout",
       "text": [
        "PROGRESS: +-----------+----------+--------------+-------------------+---------------------+-------------------+---------------------+-----------------+"
       ]
      },
      {
       "html": [
        "<pre>PROGRESS: | Iteration | Examples | Elapsed Time | Training-accuracy | Validation-accuracy | Training-recall@2 | Validation-recall@2 | Examples/second |</pre>"
       ],
       "metadata": {},
       "output_type": "pyout",
       "text": [
        "PROGRESS: | Iteration | Examples | Elapsed Time | Training-accuracy | Validation-accuracy | Training-recall@2 | Validation-recall@2 | Examples/second |"
       ]
      },
      {
       "html": [
        "<pre>PROGRESS: +-----------+----------+--------------+-------------------+---------------------+-------------------+---------------------+-----------------+</pre>"
       ],
       "metadata": {},
       "output_type": "pyout",
       "text": [
        "PROGRESS: +-----------+----------+--------------+-------------------+---------------------+-------------------+---------------------+-----------------+"
       ]
      },
      {
       "html": [
        "<pre>PROGRESS: | 1         | 12450    | 10.091386    | 0.246506          |                     | 0.440080          |                     | 1233.728149     |</pre>"
       ],
       "metadata": {},
       "output_type": "pyout",
       "text": [
        "PROGRESS: | 1         | 12450    | 10.091386    | 0.246506          |                     | 0.440080          |                     | 1233.728149     |"
       ]
      },
      {
       "html": [
        "<pre>PROGRESS: | 1         | 25500    | 20.149049    | 0.284353          |                     | 0.478784          |                     | 1297.516235     |</pre>"
       ],
       "metadata": {},
       "output_type": "pyout",
       "text": [
        "PROGRESS: | 1         | 25500    | 20.149049    | 0.284353          |                     | 0.478784          |                     | 1297.516235     |"
       ]
      },
      {
       "html": [
        "<pre>PROGRESS: | 1         | 28800    | 25.690810    | 0.290000          | 0.383333            | 0.484271          | 0.572083            | 595.477844      |</pre>"
       ],
       "metadata": {},
       "output_type": "pyout",
       "text": [
        "PROGRESS: | 1         | 28800    | 25.690810    | 0.290000          | 0.383333            | 0.484271          | 0.572083            | 595.477844      |"
       ]
      },
      {
       "html": [
        "<pre>PROGRESS: | 2         | 12450    | 35.763987    | 0.347791          |                     | 0.542570          |                     | 1235.977905     |</pre>"
       ],
       "metadata": {},
       "output_type": "pyout",
       "text": [
        "PROGRESS: | 2         | 12450    | 35.763987    | 0.347791          |                     | 0.542570          |                     | 1235.977905     |"
       ]
      },
      {
       "html": [
        "<pre>PROGRESS: | 2         | 25800    | 45.869352    | 0.354884          |                     | 0.549109          |                     | 1321.080566     |</pre>"
       ],
       "metadata": {},
       "output_type": "pyout",
       "text": [
        "PROGRESS: | 2         | 25800    | 45.869352    | 0.354884          |                     | 0.549109          |                     | 1321.080566     |"
       ]
      },
      {
       "html": [
        "<pre>PROGRESS: | 2         | 28650    | 50.937873    | 0.356475          | 0.403889            | 0.551414          | 0.597222            | 562.293335      |</pre>"
       ],
       "metadata": {},
       "output_type": "pyout",
       "text": [
        "PROGRESS: | 2         | 28650    | 50.937873    | 0.356475          | 0.403889            | 0.551414          | 0.597222            | 562.293335      |"
       ]
      },
      {
       "html": [
        "<pre>PROGRESS: | 3         | 13800    | 61.040035    | 0.371812          |                     | 0.573768          |                     | 1366.069336     |</pre>"
       ],
       "metadata": {},
       "output_type": "pyout",
       "text": [
        "PROGRESS: | 3         | 13800    | 61.040035    | 0.371812          |                     | 0.573768          |                     | 1366.069336     |"
       ]
      },
      {
       "html": [
        "<pre>PROGRESS: | 3         | 27600    | 71.088759    | 0.376739          |                     | 0.578116          |                     | 1373.308594     |</pre>"
       ],
       "metadata": {},
       "output_type": "pyout",
       "text": [
        "PROGRESS: | 3         | 27600    | 71.088759    | 0.376739          |                     | 0.578116          |                     | 1373.308594     |"
       ]
      },
      {
       "html": [
        "<pre>PROGRESS: | 3         | 28650    | 74.758820    | 0.377277          | 0.418611            | 0.578220          | 0.607639            | 286.098175      |</pre>"
       ],
       "metadata": {},
       "output_type": "pyout",
       "text": [
        "PROGRESS: | 3         | 28650    | 74.758820    | 0.377277          | 0.418611            | 0.578220          | 0.607639            | 286.098175      |"
       ]
      },
      {
       "html": [
        "<pre>PROGRESS: | 4         | 13650    | 84.809879    | 0.389158          |                     | 0.587106          |                     | 1358.088867     |</pre>"
       ],
       "metadata": {},
       "output_type": "pyout",
       "text": [
        "PROGRESS: | 4         | 13650    | 84.809879    | 0.389158          |                     | 0.587106          |                     | 1358.088867     |"
       ]
      },
      {
       "html": [
        "<pre>PROGRESS: | 4         | 27600    | 94.910594    | 0.397572          |                     | 0.594203          |                     | 1381.090332     |</pre>"
       ],
       "metadata": {},
       "output_type": "pyout",
       "text": [
        "PROGRESS: | 4         | 27600    | 94.910594    | 0.397572          |                     | 0.594203          |                     | 1381.090332     |"
       ]
      },
      {
       "html": [
        "<pre>PROGRESS: | 4         | 28800    | 98.664749    | 0.397708          | 0.422639            | 0.594826          | 0.615694            | 319.645233      |</pre>"
       ],
       "metadata": {},
       "output_type": "pyout",
       "text": [
        "PROGRESS: | 4         | 28800    | 98.664749    | 0.397708          | 0.422639            | 0.594826          | 0.615694            | 319.645233      |"
       ]
      },
      {
       "html": [
        "<pre>PROGRESS: | 5         | 13800    | 108.732341   | 0.409855          |                     | 0.608116          |                     | 1370.759521     |</pre>"
       ],
       "metadata": {},
       "output_type": "pyout",
       "text": [
        "PROGRESS: | 5         | 13800    | 108.732341   | 0.409855          |                     | 0.608116          |                     | 1370.759521     |"
       ]
      },
      {
       "html": [
        "<pre>PROGRESS: | 5         | 27300    | 118.782081   | 0.413993          |                     | 0.614139          |                     | 1343.318359     |</pre>"
       ],
       "metadata": {},
       "output_type": "pyout",
       "text": [
        "PROGRESS: | 5         | 27300    | 118.782081   | 0.413993          |                     | 0.614139          |                     | 1343.318359     |"
       ]
      },
      {
       "html": [
        "<pre>PROGRESS: | 5         | 28650    | 122.855435   | 0.414311          | 0.436111            | 0.614415          | 0.630972            | 331.421631      |</pre>"
       ],
       "metadata": {},
       "output_type": "pyout",
       "text": [
        "PROGRESS: | 5         | 28650    | 122.855435   | 0.414311          | 0.436111            | 0.614415          | 0.630972            | 331.421631      |"
       ]
      },
      {
       "html": [
        "<pre>PROGRESS: Checkpointing model into ~/tmp/chkpt</pre>"
       ],
       "metadata": {},
       "output_type": "pyout",
       "text": [
        "PROGRESS: Checkpointing model into ~/tmp/chkpt"
       ]
      },
      {
       "html": [
        "<pre>PROGRESS: | 6         | 13800    | 132.904472   | 0.419565          |                     | 0.619275          |                     | 1373.295654     |</pre>"
       ],
       "metadata": {},
       "output_type": "pyout",
       "text": [
        "PROGRESS: | 6         | 13800    | 132.904472   | 0.419565          |                     | 0.619275          |                     | 1373.295654     |"
       ]
      },
      {
       "html": [
        "<pre>PROGRESS: | 6         | 27600    | 142.929782   | 0.423659          |                     | 0.624565          |                     | 1376.515991     |</pre>"
       ],
       "metadata": {},
       "output_type": "pyout",
       "text": [
        "PROGRESS: | 6         | 27600    | 142.929782   | 0.423659          |                     | 0.624565          |                     | 1376.515991     |"
       ]
      },
      {
       "html": [
        "<pre>PROGRESS: | 6         | 28650    | 146.574194   | 0.424782          | 0.448472            | 0.625061          | 0.640972            | 288.111755      |</pre>"
       ],
       "metadata": {},
       "output_type": "pyout",
       "text": [
        "PROGRESS: | 6         | 28650    | 146.574194   | 0.424782          | 0.448472            | 0.625061          | 0.640972            | 288.111755      |"
       ]
      },
      {
       "html": [
        "<pre>PROGRESS: | 7         | 13950    | 156.684742   | 0.424731          |                     | 0.624588          |                     | 1379.771729     |</pre>"
       ],
       "metadata": {},
       "output_type": "pyout",
       "text": [
        "PROGRESS: | 7         | 13950    | 156.684742   | 0.424731          |                     | 0.624588          |                     | 1379.771729     |"
       ]
      },
      {
       "html": [
        "<pre>PROGRESS: | 7         | 27900    | 166.698072   | 0.436165          |                     | 0.632867          |                     | 1393.142944     |</pre>"
       ],
       "metadata": {},
       "output_type": "pyout",
       "text": [
        "PROGRESS: | 7         | 27900    | 166.698072   | 0.436165          |                     | 0.632867          |                     | 1393.142944     |"
       ]
      },
      {
       "html": [
        "<pre>PROGRESS: | 7         | 28800    | 170.225036   | 0.435903          | 0.444583            | 0.632187          | 0.638194            | 255.176544      |</pre>"
       ],
       "metadata": {},
       "output_type": "pyout",
       "text": [
        "PROGRESS: | 7         | 28800    | 170.225036   | 0.435903          | 0.444583            | 0.632187          | 0.638194            | 255.176544      |"
       ]
      },
      {
       "html": [
        "<pre>PROGRESS: | 8         | 13950    | 180.325062   | 0.432258          |                     | 0.633978          |                     | 1381.209473     |</pre>"
       ],
       "metadata": {},
       "output_type": "pyout",
       "text": [
        "PROGRESS: | 8         | 13950    | 180.325062   | 0.432258          |                     | 0.633978          |                     | 1381.209473     |"
       ]
      },
      {
       "html": [
        "<pre>PROGRESS: | 8         | 27900    | 190.351994   | 0.440108          |                     | 0.639247          |                     | 1391.253052     |</pre>"
       ],
       "metadata": {},
       "output_type": "pyout",
       "text": [
        "PROGRESS: | 8         | 27900    | 190.351994   | 0.440108          |                     | 0.639247          |                     | 1391.253052     |"
       ]
      },
      {
       "html": [
        "<pre>PROGRESS: | 8         | 28650    | 193.750302   | 0.440035          | 0.447361            | 0.639721          | 0.641528            | 220.697540      |</pre>"
       ],
       "metadata": {},
       "output_type": "pyout",
       "text": [
        "PROGRESS: | 8         | 28650    | 193.750302   | 0.440035          | 0.447361            | 0.639721          | 0.641528            | 220.697540      |"
       ]
      },
      {
       "html": [
        "<pre>PROGRESS: | 9         | 13800    | 203.817147   | 0.447826          |                     | 0.646884          |                     | 1370.860352     |</pre>"
       ],
       "metadata": {},
       "output_type": "pyout",
       "text": [
        "PROGRESS: | 9         | 13800    | 203.817147   | 0.447826          |                     | 0.646884          |                     | 1370.860352     |"
       ]
      },
      {
       "html": [
        "<pre>PROGRESS: | 9         | 27750    | 213.849355   | 0.452685          |                     | 0.654667          |                     | 1390.521240     |</pre>"
       ],
       "metadata": {},
       "output_type": "pyout",
       "text": [
        "PROGRESS: | 9         | 27750    | 213.849355   | 0.452685          |                     | 0.654667          |                     | 1390.521240     |"
       ]
      },
      {
       "html": [
        "<pre>PROGRESS: | 9         | 28650    | 217.390865   | 0.452880          | 0.457083            | 0.654695          | 0.654722            | 254.128387      |</pre>"
       ],
       "metadata": {},
       "output_type": "pyout",
       "text": [
        "PROGRESS: | 9         | 28650    | 217.390865   | 0.452880          | 0.457083            | 0.654695          | 0.654722            | 254.128387      |"
       ]
      },
      {
       "html": [
        "<pre>PROGRESS: | 10        | 13950    | 227.452953   | 0.452186          |                     | 0.651254          |                     | 1386.415771     |</pre>"
       ],
       "metadata": {},
       "output_type": "pyout",
       "text": [
        "PROGRESS: | 10        | 13950    | 227.452953   | 0.452186          |                     | 0.651254          |                     | 1386.415771     |"
       ]
      },
      {
       "html": [
        "<pre>PROGRESS: | 10        | 27900    | 237.484867   | 0.459857          |                     | 0.657025          |                     | 1390.562378     |</pre>"
       ],
       "metadata": {},
       "output_type": "pyout",
       "text": [
        "PROGRESS: | 10        | 27900    | 237.484867   | 0.459857          |                     | 0.657025          |                     | 1390.562378     |"
       ]
      },
      {
       "html": [
        "<pre>PROGRESS: | 10        | 28650    | 240.928777   | 0.459686          | 0.468333            | 0.656579          | 0.666111            | 217.775223      |</pre>"
       ],
       "metadata": {},
       "output_type": "pyout",
       "text": [
        "PROGRESS: | 10        | 28650    | 240.928777   | 0.459686          | 0.468333            | 0.656579          | 0.666111            | 217.775223      |"
       ]
      },
      {
       "html": [
        "<pre>PROGRESS: Checkpointing model into ~/tmp/chkpt</pre>"
       ],
       "metadata": {},
       "output_type": "pyout",
       "text": [
        "PROGRESS: Checkpointing model into ~/tmp/chkpt"
       ]
      },
      {
       "html": [
        "<pre>PROGRESS: | 11        | 13950    | 251.003023   | 0.459857          |                     | 0.663728          |                     | 1384.743652     |</pre>"
       ],
       "metadata": {},
       "output_type": "pyout",
       "text": [
        "PROGRESS: | 11        | 13950    | 251.003023   | 0.459857          |                     | 0.663728          |                     | 1384.743652     |"
       ]
      },
      {
       "html": [
        "<pre>PROGRESS: | 11        | 27750    | 261.025966   | 0.467748          |                     | 0.668829          |                     | 1376.841309     |</pre>"
       ],
       "metadata": {},
       "output_type": "pyout",
       "text": [
        "PROGRESS: | 11        | 27750    | 261.025966   | 0.467748          |                     | 0.668829          |                     | 1376.841309     |"
       ]
      },
      {
       "html": [
        "<pre>PROGRESS: | 11        | 28800    | 264.653954   | 0.467674          | 0.471667            | 0.668750          | 0.664028            | 289.416046      |</pre>"
       ],
       "metadata": {},
       "output_type": "pyout",
       "text": [
        "PROGRESS: | 11        | 28800    | 264.653954   | 0.467674          | 0.471667            | 0.668750          | 0.664028            | 289.416046      |"
       ]
      },
      {
       "html": [
        "<pre>PROGRESS: | 12        | 13950    | 274.690441   | 0.470036          |                     | 0.671685          |                     | 1389.951172     |</pre>"
       ],
       "metadata": {},
       "output_type": "pyout",
       "text": [
        "PROGRESS: | 12        | 13950    | 274.690441   | 0.470036          |                     | 0.671685          |                     | 1389.951172     |"
       ]
      },
      {
       "html": [
        "<pre>PROGRESS: | 12        | 27900    | 284.755601   | 0.472832          |                     | 0.670753          |                     | 1385.969360     |</pre>"
       ],
       "metadata": {},
       "output_type": "pyout",
       "text": [
        "PROGRESS: | 12        | 27900    | 284.755601   | 0.472832          |                     | 0.670753          |                     | 1385.969360     |"
       ]
      },
      {
       "html": [
        "<pre>PROGRESS: | 12        | 28650    | 288.146305   | 0.473403          | 0.475694            | 0.670716          | 0.672917            | 221.192413      |</pre>"
       ],
       "metadata": {},
       "output_type": "pyout",
       "text": [
        "PROGRESS: | 12        | 28650    | 288.146305   | 0.473403          | 0.475694            | 0.670716          | 0.672917            | 221.192413      |"
       ]
      },
      {
       "html": [
        "<pre>PROGRESS: | 13        | 13800    | 298.161002   | 0.474348          |                     | 0.674783          |                     | 1377.998779     |</pre>"
       ],
       "metadata": {},
       "output_type": "pyout",
       "text": [
        "PROGRESS: | 13        | 13800    | 298.161002   | 0.474348          |                     | 0.674783          |                     | 1377.998779     |"
       ]
      },
      {
       "html": [
        "<pre>PROGRESS: | 13        | 27750    | 308.206343   | 0.479063          |                     | 0.679604          |                     | 1388.703735     |</pre>"
       ],
       "metadata": {},
       "output_type": "pyout",
       "text": [
        "PROGRESS: | 13        | 27750    | 308.206343   | 0.479063          |                     | 0.679604          |                     | 1388.703735     |"
       ]
      },
      {
       "html": [
        "<pre>PROGRESS: | 13        | 28650    | 311.737288   | 0.479825          | 0.468472            | 0.679442          | 0.670000            | 254.888687      |</pre>"
       ],
       "metadata": {},
       "output_type": "pyout",
       "text": [
        "PROGRESS: | 13        | 28650    | 311.737288   | 0.479825          | 0.468472            | 0.679442          | 0.670000            | 254.888687      |"
       ]
      },
      {
       "html": [
        "<pre>PROGRESS: | 14        | 13950    | 321.821962   | 0.475914          |                     | 0.679570          |                     | 1383.312012     |</pre>"
       ],
       "metadata": {},
       "output_type": "pyout",
       "text": [
        "PROGRESS: | 14        | 13950    | 321.821962   | 0.475914          |                     | 0.679570          |                     | 1383.312012     |"
       ]
      },
      {
       "html": [
        "<pre>PROGRESS: | 14        | 27900    | 331.825155   | 0.481290          |                     | 0.685197          |                     | 1394.554443     |</pre>"
       ],
       "metadata": {},
       "output_type": "pyout",
       "text": [
        "PROGRESS: | 14        | 27900    | 331.825155   | 0.481290          |                     | 0.685197          |                     | 1394.554443     |"
       ]
      },
      {
       "html": [
        "<pre>PROGRESS: | 14        | 28800    | 335.360938   | 0.481354          | 0.472639            | 0.685417          | 0.668194            | 254.540070      |</pre>"
       ],
       "metadata": {},
       "output_type": "pyout",
       "text": [
        "PROGRESS: | 14        | 28800    | 335.360938   | 0.481354          | 0.472639            | 0.685417          | 0.668194            | 254.540070      |"
       ]
      },
      {
       "html": [
        "<pre>PROGRESS: | 15        | 13950    | 345.401151   | 0.481935          |                     | 0.683656          |                     | 1389.435913     |</pre>"
       ],
       "metadata": {},
       "output_type": "pyout",
       "text": [
        "PROGRESS: | 15        | 13950    | 345.401151   | 0.481935          |                     | 0.683656          |                     | 1389.435913     |"
       ]
      },
      {
       "html": [
        "<pre>PROGRESS: | 15        | 28050    | 355.489683   | 0.489768          |                     | 0.690267          |                     | 1397.626831     |</pre>"
       ],
       "metadata": {},
       "output_type": "pyout",
       "text": [
        "PROGRESS: | 15        | 28050    | 355.489683   | 0.489768          |                     | 0.690267          |                     | 1397.626831     |"
       ]
      },
      {
       "html": [
        "<pre>PROGRESS: | 15        | 28650    | 358.812094   | 0.489319          | 0.477778            | 0.689773          | 0.676528            | 180.591309      |</pre>"
       ],
       "metadata": {},
       "output_type": "pyout",
       "text": [
        "PROGRESS: | 15        | 28650    | 358.812094   | 0.489319          | 0.477778            | 0.689773          | 0.676528            | 180.591309      |"
       ]
      },
      {
       "html": [
        "<pre>PROGRESS: Checkpointing model into ~/tmp/chkpt</pre>"
       ],
       "metadata": {},
       "output_type": "pyout",
       "text": [
        "PROGRESS: Checkpointing model into ~/tmp/chkpt"
       ]
      },
      {
       "html": [
        "<pre>PROGRESS: | 16        | 13950    | 368.842060   | 0.486093          |                     | 0.690824          |                     | 1390.856445     |</pre>"
       ],
       "metadata": {},
       "output_type": "pyout",
       "text": [
        "PROGRESS: | 16        | 13950    | 368.842060   | 0.486093          |                     | 0.690824          |                     | 1390.856445     |"
       ]
      },
      {
       "html": [
        "<pre>PROGRESS: | 16        | 28050    | 378.942733   | 0.491266          |                     | 0.694367          |                     | 1395.946411     |</pre>"
       ],
       "metadata": {},
       "output_type": "pyout",
       "text": [
        "PROGRESS: | 16        | 28050    | 378.942733   | 0.491266          |                     | 0.694367          |                     | 1395.946411     |"
       ]
      },
      {
       "html": [
        "<pre>PROGRESS: | 16        | 28650    | 382.286640   | 0.491623          | 0.482917            | 0.694136          | 0.675000            | 179.430405      |</pre>"
       ],
       "metadata": {},
       "output_type": "pyout",
       "text": [
        "PROGRESS: | 16        | 28650    | 382.286640   | 0.491623          | 0.482917            | 0.694136          | 0.675000            | 179.430405      |"
       ]
      },
      {
       "html": [
        "<pre>PROGRESS: | 17        | 13950    | 392.302106   | 0.492473          |                     | 0.691971          |                     | 1392.871094     |</pre>"
       ],
       "metadata": {},
       "output_type": "pyout",
       "text": [
        "PROGRESS: | 17        | 13950    | 392.302106   | 0.492473          |                     | 0.691971          |                     | 1392.871094     |"
       ]
      },
      {
       "html": [
        "<pre>PROGRESS: | 17        | 27900    | 402.350318   | 0.499355          |                     | 0.696165          |                     | 1388.307007     |</pre>"
       ],
       "metadata": {},
       "output_type": "pyout",
       "text": [
        "PROGRESS: | 17        | 27900    | 402.350318   | 0.499355          |                     | 0.696165          |                     | 1388.307007     |"
       ]
      },
      {
       "html": [
        "<pre>PROGRESS: | 17        | 28800    | 405.836665   | 0.499444          | 0.483611            | 0.696007          | 0.678750            | 258.149261      |</pre>"
       ],
       "metadata": {},
       "output_type": "pyout",
       "text": [
        "PROGRESS: | 17        | 28800    | 405.836665   | 0.499444          | 0.483611            | 0.696007          | 0.678750            | 258.149261      |"
       ]
      },
      {
       "html": [
        "<pre>PROGRESS: | 18        | 13950    | 415.895946   | 0.500430          |                     | 0.706452          |                     | 1386.802856     |</pre>"
       ],
       "metadata": {},
       "output_type": "pyout",
       "text": [
        "PROGRESS: | 18        | 13950    | 415.895946   | 0.500430          |                     | 0.706452          |                     | 1386.802856     |"
       ]
      },
      {
       "html": [
        "<pre>PROGRESS: | 18        | 27900    | 425.963029   | 0.504839          |                     | 0.707025          |                     | 1385.704224     |</pre>"
       ],
       "metadata": {},
       "output_type": "pyout",
       "text": [
        "PROGRESS: | 18        | 27900    | 425.963029   | 0.504839          |                     | 0.707025          |                     | 1385.704224     |"
       ]
      },
      {
       "html": [
        "<pre>PROGRESS: | 18        | 28650    | 429.386434   | 0.505061          | 0.483333            | 0.707085          | 0.673889            | 219.079681      |</pre>"
       ],
       "metadata": {},
       "output_type": "pyout",
       "text": [
        "PROGRESS: | 18        | 28650    | 429.386434   | 0.505061          | 0.483333            | 0.707085          | 0.673889            | 219.079681      |"
       ]
      },
      {
       "html": [
        "<pre>PROGRESS: | 19        | 13950    | 439.417535   | 0.502796          |                     | 0.704229          |                     | 1390.699829     |</pre>"
       ],
       "metadata": {},
       "output_type": "pyout",
       "text": [
        "PROGRESS: | 19        | 13950    | 439.417535   | 0.502796          |                     | 0.704229          |                     | 1390.699829     |"
       ]
      },
      {
       "html": [
        "<pre>PROGRESS: | 19        | 27900    | 449.490215   | 0.509283          |                     | 0.709892          |                     | 1384.934326     |</pre>"
       ],
       "metadata": {},
       "output_type": "pyout",
       "text": [
        "PROGRESS: | 19        | 27900    | 449.490215   | 0.509283          |                     | 0.709892          |                     | 1384.934326     |"
       ]
      },
      {
       "html": [
        "<pre>PROGRESS: | 19        | 28650    | 452.879062   | 0.509738          | 0.491206            | 0.710262          | 0.685390            | 221.313690      |</pre>"
       ],
       "metadata": {},
       "output_type": "pyout",
       "text": [
        "PROGRESS: | 19        | 28650    | 452.879062   | 0.509738          | 0.491206            | 0.710262          | 0.685390            | 221.313690      |"
       ]
      },
      {
       "html": [
        "<pre>PROGRESS: | 20        | 13950    | 462.903236   | 0.506308          |                     | 0.703513          |                     | 1391.659912     |</pre>"
       ],
       "metadata": {},
       "output_type": "pyout",
       "text": [
        "PROGRESS: | 20        | 13950    | 462.903236   | 0.506308          |                     | 0.703513          |                     | 1391.659912     |"
       ]
      },
      {
       "html": [
        "<pre>PROGRESS: | 20        | 28050    | 473.004736   | 0.508057          |                     | 0.707308          |                     | 1395.832397     |</pre>"
       ],
       "metadata": {},
       "output_type": "pyout",
       "text": [
        "PROGRESS: | 20        | 28050    | 473.004736   | 0.508057          |                     | 0.707308          |                     | 1395.832397     |"
       ]
      },
      {
       "html": [
        "<pre>PROGRESS: | 20        | 28650    | 476.285616   | 0.508168          | 0.487917            | 0.706597          | 0.677500            | 182.877426      |</pre>"
       ],
       "metadata": {},
       "output_type": "pyout",
       "text": [
        "PROGRESS: | 20        | 28650    | 476.285616   | 0.508168          | 0.487917            | 0.706597          | 0.677500            | 182.877426      |"
       ]
      },
      {
       "html": [
        "<pre>PROGRESS: Checkpointing model into ~/tmp/chkpt</pre>"
       ],
       "metadata": {},
       "output_type": "pyout",
       "text": [
        "PROGRESS: Checkpointing model into ~/tmp/chkpt"
       ]
      },
      {
       "html": [
        "<pre>PROGRESS: | 21        | 13950    | 486.296989   | 0.507957          |                     | 0.708029          |                     | 1393.440430     |</pre>"
       ],
       "metadata": {},
       "output_type": "pyout",
       "text": [
        "PROGRESS: | 21        | 13950    | 486.296989   | 0.507957          |                     | 0.708029          |                     | 1393.440430     |"
       ]
      },
      {
       "html": [
        "<pre>PROGRESS: | 21        | 28050    | 496.397341   | 0.515472          |                     | 0.713333          |                     | 1395.991089     |</pre>"
       ],
       "metadata": {},
       "output_type": "pyout",
       "text": [
        "PROGRESS: | 21        | 28050    | 496.397341   | 0.515472          |                     | 0.713333          |                     | 1395.991089     |"
       ]
      },
      {
       "html": [
        "<pre>PROGRESS: | 21        | 28800    | 499.803826   | 0.515104          | 0.487639            | 0.712951          | 0.679444            | 220.167786      |</pre>"
       ],
       "metadata": {},
       "output_type": "pyout",
       "text": [
        "PROGRESS: | 21        | 28800    | 499.803826   | 0.515104          | 0.487639            | 0.712951          | 0.679444            | 220.167786      |"
       ]
      },
      {
       "html": [
        "<pre>PROGRESS: | 22        | 14100    | 509.844766   | 0.514752          |                     | 0.713475          |                     | 1404.276855     |</pre>"
       ],
       "metadata": {},
       "output_type": "pyout",
       "text": [
        "PROGRESS: | 22        | 14100    | 509.844766   | 0.514752          |                     | 0.713475          |                     | 1404.276855     |"
       ]
      },
      {
       "html": [
        "<pre>PROGRESS: | 22        | 28200    | 519.909152   | 0.520745          |                     | 0.716986          |                     | 1400.979492     |</pre>"
       ],
       "metadata": {},
       "output_type": "pyout",
       "text": [
        "PROGRESS: | 22        | 28200    | 519.909152   | 0.520745          |                     | 0.716986          |                     | 1400.979492     |"
       ]
      },
      {
       "html": [
        "<pre>PROGRESS: | 22        | 28650    | 523.095344   | 0.520698          | 0.491389            | 0.716789          | 0.683889            | 141.234161      |</pre>"
       ],
       "metadata": {},
       "output_type": "pyout",
       "text": [
        "PROGRESS: | 22        | 28650    | 523.095344   | 0.520698          | 0.491389            | 0.716789          | 0.683889            | 141.234161      |"
       ]
      },
      {
       "html": [
        "<pre>PROGRESS: | 23        | 14100    | 533.146130   | 0.519787          |                     | 0.717943          |                     | 1402.901001     |</pre>"
       ],
       "metadata": {},
       "output_type": "pyout",
       "text": [
        "PROGRESS: | 23        | 14100    | 533.146130   | 0.519787          |                     | 0.717943          |                     | 1402.901001     |"
       ]
      },
      {
       "html": [
        "<pre>PROGRESS: | 23        | 28200    | 543.233573   | 0.524149          |                     | 0.722766          |                     | 1397.777222     |</pre>"
       ],
       "metadata": {},
       "output_type": "pyout",
       "text": [
        "PROGRESS: | 23        | 28200    | 543.233573   | 0.524149          |                     | 0.722766          |                     | 1397.777222     |"
       ]
      },
      {
       "html": [
        "<pre>PROGRESS: | 23        | 28650    | 546.416494   | 0.524154          | 0.496667            | 0.723106          | 0.687778            | 141.379349      |</pre>"
       ],
       "metadata": {},
       "output_type": "pyout",
       "text": [
        "PROGRESS: | 23        | 28650    | 546.416494   | 0.524154          | 0.496667            | 0.723106          | 0.687778            | 141.379349      |"
       ]
      },
      {
       "html": [
        "<pre>PROGRESS: | 24        | 13950    | 556.447971   | 0.521864          |                     | 0.723799          |                     | 1390.647949     |</pre>"
       ],
       "metadata": {},
       "output_type": "pyout",
       "text": [
        "PROGRESS: | 24        | 13950    | 556.447971   | 0.521864          |                     | 0.723799          |                     | 1390.647949     |"
       ]
      },
      {
       "html": [
        "<pre>PROGRESS: | 24        | 28050    | 566.523858   | 0.528806          |                     | 0.728378          |                     | 1399.380493     |</pre>"
       ],
       "metadata": {},
       "output_type": "pyout",
       "text": [
        "PROGRESS: | 24        | 28050    | 566.523858   | 0.528806          |                     | 0.728378          |                     | 1399.380493     |"
       ]
      },
      {
       "html": [
        "<pre>PROGRESS: | 24        | 28800    | 569.968313   | 0.528715          | 0.492917            | 0.728056          | 0.682083            | 217.740768      |</pre>"
       ],
       "metadata": {},
       "output_type": "pyout",
       "text": [
        "PROGRESS: | 24        | 28800    | 569.968313   | 0.528715          | 0.492917            | 0.728056          | 0.682083            | 217.740768      |"
       ]
      },
      {
       "html": [
        "<pre>PROGRESS: | 25        | 14100    | 580.077088   | 0.524397          |                     | 0.726454          |                     | 1394.852417     |</pre>"
       ],
       "metadata": {},
       "output_type": "pyout",
       "text": [
        "PROGRESS: | 25        | 14100    | 580.077088   | 0.524397          |                     | 0.726454          |                     | 1394.852417     |"
       ]
      },
      {
       "html": [
        "<pre>PROGRESS: | 25        | 28050    | 590.090382   | 0.528556          |                     | 0.730517          |                     | 1393.148071     |</pre>"
       ],
       "metadata": {},
       "output_type": "pyout",
       "text": [
        "PROGRESS: | 25        | 28050    | 590.090382   | 0.528556          |                     | 0.730517          |                     | 1393.148071     |"
       ]
      },
      {
       "html": [
        "<pre>PROGRESS: | 25        | 28650    | 593.417804   | 0.528517          | 0.495833            | 0.730262          | 0.687083            | 180.319397      |</pre>"
       ],
       "metadata": {},
       "output_type": "pyout",
       "text": [
        "PROGRESS: | 25        | 28650    | 593.417804   | 0.528517          | 0.495833            | 0.730262          | 0.687083            | 180.319397      |"
       ]
      },
      {
       "html": [
        "<pre>PROGRESS: Checkpointing model into ~/tmp/chkpt</pre>"
       ],
       "metadata": {},
       "output_type": "pyout",
       "text": [
        "PROGRESS: Checkpointing model into ~/tmp/chkpt"
       ]
      },
      {
       "html": [
        "<pre>PROGRESS: | 26        | 14100    | 603.498928   | 0.523192          |                     | 0.727589          |                     | 1398.678589     |</pre>"
       ],
       "metadata": {},
       "output_type": "pyout",
       "text": [
        "PROGRESS: | 26        | 14100    | 603.498928   | 0.523192          |                     | 0.727589          |                     | 1398.678589     |"
       ]
      },
      {
       "html": [
        "<pre>PROGRESS: | 26        | 28050    | 613.513923   | 0.528592          |                     | 0.729234          |                     | 1392.911377     |</pre>"
       ],
       "metadata": {},
       "output_type": "pyout",
       "text": [
        "PROGRESS: | 26        | 28050    | 613.513923   | 0.528592          |                     | 0.729234          |                     | 1392.911377     |"
       ]
      },
      {
       "html": [
        "<pre>PROGRESS: | 26        | 28650    | 616.814076   | 0.528761          | 0.483611            | 0.729005          | 0.679583            | 181.809311      |</pre>"
       ],
       "metadata": {},
       "output_type": "pyout",
       "text": [
        "PROGRESS: | 26        | 28650    | 616.814076   | 0.528761          | 0.483611            | 0.729005          | 0.679583            | 181.809311      |"
       ]
      },
      {
       "html": [
        "<pre>PROGRESS: | 27        | 13950    | 626.815904   | 0.530394          |                     | 0.731254          |                     | 1394.769287     |</pre>"
       ],
       "metadata": {},
       "output_type": "pyout",
       "text": [
        "PROGRESS: | 27        | 13950    | 626.815904   | 0.530394          |                     | 0.731254          |                     | 1394.769287     |"
       ]
      },
      {
       "html": [
        "<pre>PROGRESS: | 27        | 28050    | 636.903007   | 0.534510          |                     | 0.735508          |                     | 1397.824707     |</pre>"
       ],
       "metadata": {},
       "output_type": "pyout",
       "text": [
        "PROGRESS: | 27        | 28050    | 636.903007   | 0.534510          |                     | 0.735508          |                     | 1397.824707     |"
       ]
      },
      {
       "html": [
        "<pre>PROGRESS: | 27        | 28800    | 640.293241   | 0.534618          | 0.488750            | 0.735347          | 0.688333            | 221.223145      |</pre>"
       ],
       "metadata": {},
       "output_type": "pyout",
       "text": [
        "PROGRESS: | 27        | 28800    | 640.293241   | 0.534618          | 0.488750            | 0.735347          | 0.688333            | 221.223145      |"
       ]
      },
      {
       "html": [
        "<pre>PROGRESS: | 28        | 14100    | 650.323973   | 0.528298          |                     | 0.732411          |                     | 1405.703857     |</pre>"
       ],
       "metadata": {},
       "output_type": "pyout",
       "text": [
        "PROGRESS: | 28        | 14100    | 650.323973   | 0.528298          |                     | 0.732411          |                     | 1405.703857     |"
       ]
      },
      {
       "html": [
        "<pre>PROGRESS: | 28        | 28050    | 660.340963   | 0.531016          |                     | 0.735579          |                     | 1392.633789     |</pre>"
       ],
       "metadata": {},
       "output_type": "pyout",
       "text": [
        "PROGRESS: | 28        | 28050    | 660.340963   | 0.531016          |                     | 0.735579          |                     | 1392.633789     |"
       ]
      },
      {
       "html": [
        "<pre>PROGRESS: | 28        | 28650    | 663.654932   | 0.530855          | 0.483611            | 0.735148          | 0.677222            | 181.051407      |</pre>"
       ],
       "metadata": {},
       "output_type": "pyout",
       "text": [
        "PROGRESS: | 28        | 28650    | 663.654932   | 0.530855          | 0.483611            | 0.735148          | 0.677222            | 181.051407      |"
       ]
      },
      {
       "html": [
        "<pre>PROGRESS: | 29        | 14100    | 673.706825   | 0.531206          |                     | 0.735532          |                     | 1402.746338     |</pre>"
       ],
       "metadata": {},
       "output_type": "pyout",
       "text": [
        "PROGRESS: | 29        | 14100    | 673.706825   | 0.531206          |                     | 0.735532          |                     | 1402.746338     |"
       ]
      },
      {
       "html": [
        "<pre>PROGRESS: | 29        | 28200    | 683.792014   | 0.535851          |                     | 0.735319          |                     | 1398.089722     |</pre>"
       ],
       "metadata": {},
       "output_type": "pyout",
       "text": [
        "PROGRESS: | 29        | 28200    | 683.792014   | 0.535851          |                     | 0.735319          |                     | 1398.089722     |"
       ]
      },
      {
       "html": [
        "<pre>PROGRESS: | 29        | 28650    | 686.989392   | 0.536370          | 0.492500            | 0.735567          | 0.679028            | 140.740051      |</pre>"
       ],
       "metadata": {},
       "output_type": "pyout",
       "text": [
        "PROGRESS: | 29        | 28650    | 686.989392   | 0.536370          | 0.492500            | 0.735567          | 0.679028            | 140.740051      |"
       ]
      },
      {
       "html": [
        "<pre>PROGRESS: | 30        | 14100    | 697.076291   | 0.532340          |                     | 0.735603          |                     | 1397.877075     |</pre>"
       ],
       "metadata": {},
       "output_type": "pyout",
       "text": [
        "PROGRESS: | 30        | 14100    | 697.076291   | 0.532340          |                     | 0.735603          |                     | 1397.877075     |"
       ]
      },
      {
       "html": [
        "<pre>PROGRESS: | 30        | 28200    | 707.164344   | 0.539787          |                     | 0.742021          |                     | 1397.692871     |</pre>"
       ],
       "metadata": {},
       "output_type": "pyout",
       "text": [
        "PROGRESS: | 30        | 28200    | 707.164344   | 0.539787          |                     | 0.742021          |                     | 1397.692871     |"
       ]
      },
      {
       "html": [
        "<pre>PROGRESS: | 30        | 28650    | 710.344881   | 0.540000          | 0.488750            | 0.741780          | 0.677083            | 141.485184      |</pre>"
       ],
       "metadata": {},
       "output_type": "pyout",
       "text": [
        "PROGRESS: | 30        | 28650    | 710.344881   | 0.540000          | 0.488750            | 0.741780          | 0.677083            | 141.485184      |"
       ]
      },
      {
       "html": [
        "<pre>PROGRESS: Checkpointing model into ~/tmp/chkpt</pre>"
       ],
       "metadata": {},
       "output_type": "pyout",
       "text": [
        "PROGRESS: Checkpointing model into ~/tmp/chkpt"
       ]
      },
      {
       "html": [
        "<pre>PROGRESS: | 31        | 14100    | 720.462773   | 0.538723          |                     | 0.740780          |                     | 1393.592529     |</pre>"
       ],
       "metadata": {},
       "output_type": "pyout",
       "text": [
        "PROGRESS: | 31        | 14100    | 720.462773   | 0.538723          |                     | 0.740780          |                     | 1393.592529     |"
       ]
      },
      {
       "html": [
        "<pre>PROGRESS: | 31        | 27900    | 730.561275   | 0.547419          |                     | 0.746237          |                     | 1366.539185     |</pre>"
       ],
       "metadata": {},
       "output_type": "pyout",
       "text": [
        "PROGRESS: | 31        | 27900    | 730.561275   | 0.547419          |                     | 0.746237          |                     | 1366.539185     |"
       ]
      },
      {
       "html": [
        "<pre>PROGRESS: | 31        | 28800    | 734.100955   | 0.547326          | 0.493056            | 0.746042          | 0.680556            | 254.259766      |</pre>"
       ],
       "metadata": {},
       "output_type": "pyout",
       "text": [
        "PROGRESS: | 31        | 28800    | 734.100955   | 0.547326          | 0.493056            | 0.746042          | 0.680556            | 254.259766      |"
       ]
      },
      {
       "html": [
        "<pre>PROGRESS: | 32        | 9150     | 1041.365237  | 0.529945          |                     | 0.736066          |                     | 29.778942       |</pre>"
       ],
       "metadata": {},
       "output_type": "pyout",
       "text": [
        "PROGRESS: | 32        | 9150     | 1041.365237  | 0.529945          |                     | 0.736066          |                     | 29.778942       |"
       ]
      },
      {
       "html": [
        "<pre>PROGRESS: | 32        | 21900    | 1051.461886  | 0.547078          |                     | 0.748858          |                     | 1262.795166     |</pre>"
       ],
       "metadata": {},
       "output_type": "pyout",
       "text": [
        "PROGRESS: | 32        | 21900    | 1051.461886  | 0.547078          |                     | 0.748858          |                     | 1262.795166     |"
       ]
      },
      {
       "html": [
        "<pre>PROGRESS: | 32        | 28650    | 1059.621732  | 0.547958          | 0.492639            | 0.748586          | 0.680139            | 827.220703      |</pre>"
       ],
       "metadata": {},
       "output_type": "pyout",
       "text": [
        "PROGRESS: | 32        | 28650    | 1059.621732  | 0.547958          | 0.492639            | 0.748586          | 0.680139            | 827.220703      |"
       ]
      },
      {
       "html": [
        "<pre>PROGRESS: | 33        | 13650    | 1069.626250  | 0.539048          |                     | 0.745128          |                     | 1364.422119     |</pre>"
       ],
       "metadata": {},
       "output_type": "pyout",
       "text": [
        "PROGRESS: | 33        | 13650    | 1069.626250  | 0.539048          |                     | 0.745128          |                     | 1364.422119     |"
       ]
      },
      {
       "html": [
        "<pre>PROGRESS: | 33        | 24150    | 1079.713416  | 0.547412          |                     | 0.750766          |                     | 1040.926514     |</pre>"
       ],
       "metadata": {},
       "output_type": "pyout",
       "text": [
        "PROGRESS: | 33        | 24150    | 1079.713416  | 0.547412          |                     | 0.750766          |                     | 1040.926514     |"
       ]
      },
      {
       "html": [
        "<pre>PROGRESS: | 33        | 28650    | 1086.034985  | 0.549040          | 0.498333            | 0.750436          | 0.683750            | 711.847717      |</pre>"
       ],
       "metadata": {},
       "output_type": "pyout",
       "text": [
        "PROGRESS: | 33        | 28650    | 1086.034985  | 0.549040          | 0.498333            | 0.750436          | 0.683750            | 711.847717      |"
       ]
      },
      {
       "html": [
        "<pre>PROGRESS: | 34        | 13800    | 1096.107026  | 0.548913          |                     | 0.754493          |                     | 1370.153442     |</pre>"
       ],
       "metadata": {},
       "output_type": "pyout",
       "text": [
        "PROGRESS: | 34        | 13800    | 1096.107026  | 0.548913          |                     | 0.754493          |                     | 1370.153442     |"
       ]
      },
      {
       "html": [
        "<pre>PROGRESS: | 34        | 27600    | 1106.175603  | 0.554964          |                     | 0.757862          |                     | 1370.600464     |</pre>"
       ],
       "metadata": {},
       "output_type": "pyout",
       "text": [
        "PROGRESS: | 34        | 27600    | 1106.175603  | 0.554964          |                     | 0.757862          |                     | 1370.600464     |"
       ]
      },
      {
       "html": [
        "<pre>PROGRESS: | 34        | 28800    | 1110.073096  | 0.555486          | 0.490278            | 0.757743          | 0.675278            | 307.889587      |</pre>"
       ],
       "metadata": {},
       "output_type": "pyout",
       "text": [
        "PROGRESS: | 34        | 28800    | 1110.073096  | 0.555486          | 0.490278            | 0.757743          | 0.675278            | 307.889587      |"
       ]
      },
      {
       "html": [
        "<pre>PROGRESS: | 35        | 13800    | 1120.121933  | 0.548333          |                     | 0.752826          |                     | 1373.317261     |</pre>"
       ],
       "metadata": {},
       "output_type": "pyout",
       "text": [
        "PROGRESS: | 35        | 13800    | 1120.121933  | 0.548333          |                     | 0.752826          |                     | 1373.317261     |"
       ]
      },
      {
       "html": [
        "<pre>PROGRESS: | 35        | 27600    | 1130.162517  | 0.553551          |                     | 0.755290          |                     | 1374.421997     |</pre>"
       ],
       "metadata": {},
       "output_type": "pyout",
       "text": [
        "PROGRESS: | 35        | 27600    | 1130.162517  | 0.553551          |                     | 0.755290          |                     | 1374.421997     |"
       ]
      },
      {
       "html": [
        "<pre>PROGRESS: | 35        | 28650    | 1133.924385  | 0.553857          | 0.496250            | 0.755637          | 0.675694            | 279.116058      |</pre>"
       ],
       "metadata": {},
       "output_type": "pyout",
       "text": [
        "PROGRESS: | 35        | 28650    | 1133.924385  | 0.553857          | 0.496250            | 0.755637          | 0.675694            | 279.116058      |"
       ]
      },
      {
       "html": [
        "<pre>PROGRESS: Checkpointing model into ~/tmp/chkpt</pre>"
       ],
       "metadata": {},
       "output_type": "pyout",
       "text": [
        "PROGRESS: Checkpointing model into ~/tmp/chkpt"
       ]
      },
      {
       "html": [
        "<pre>PROGRESS: | 36        | 13950    | 1143.940644  | 0.553262          |                     | 0.753190          |                     | 1392.760498     |</pre>"
       ],
       "metadata": {},
       "output_type": "pyout",
       "text": [
        "PROGRESS: | 36        | 13950    | 1143.940644  | 0.553262          |                     | 0.753190          |                     | 1392.760498     |"
       ]
      },
      {
       "html": [
        "<pre>PROGRESS: | 36        | 28050    | 1153.994596  | 0.559037          |                     | 0.758895          |                     | 1402.433716     |</pre>"
       ],
       "metadata": {},
       "output_type": "pyout",
       "text": [
        "PROGRESS: | 36        | 28050    | 1153.994596  | 0.559037          |                     | 0.758895          |                     | 1402.433716     |"
       ]
      },
      {
       "html": [
        "<pre>PROGRESS: | 36        | 28650    | 1157.347714  | 0.558429          | 0.499306            | 0.758674          | 0.684167            | 178.937500      |</pre>"
       ],
       "metadata": {},
       "output_type": "pyout",
       "text": [
        "PROGRESS: | 36        | 28650    | 1157.347714  | 0.558429          | 0.499306            | 0.758674          | 0.684167            | 178.937500      |"
       ]
      },
      {
       "html": [
        "<pre>PROGRESS: | 37        | 13950    | 1167.374058  | 0.558351          |                     | 0.756416          |                     | 1391.359375     |</pre>"
       ],
       "metadata": {},
       "output_type": "pyout",
       "text": [
        "PROGRESS: | 37        | 13950    | 1167.374058  | 0.558351          |                     | 0.756416          |                     | 1391.359375     |"
       ]
      },
      {
       "html": [
        "<pre>PROGRESS: | 37        | 28050    | 1177.440603  | 0.560784          |                     | 0.759750          |                     | 1400.679321     |</pre>"
       ],
       "metadata": {},
       "output_type": "pyout",
       "text": [
        "PROGRESS: | 37        | 28050    | 1177.440603  | 0.560784          |                     | 0.759750          |                     | 1400.679321     |"
       ]
      },
      {
       "html": [
        "<pre>PROGRESS: | 37        | 28800    | 1180.868227  | 0.559618          | 0.492500            | 0.759340          | 0.681667            | 218.809891      |</pre>"
       ],
       "metadata": {},
       "output_type": "pyout",
       "text": [
        "PROGRESS: | 37        | 28800    | 1180.868227  | 0.559618          | 0.492500            | 0.759340          | 0.681667            | 218.809891      |"
       ]
      },
      {
       "html": [
        "<pre>PROGRESS: | 38        | 14100    | 1190.911150  | 0.562128          |                     | 0.765035          |                     | 1403.999146     |</pre>"
       ],
       "metadata": {},
       "output_type": "pyout",
       "text": [
        "PROGRESS: | 38        | 14100    | 1190.911150  | 0.562128          |                     | 0.765035          |                     | 1403.999146     |"
       ]
      },
      {
       "html": [
        "<pre>PROGRESS: | 38        | 28050    | 1200.948158  | 0.563030          |                     | 0.763815          |                     | 1389.856445     |</pre>"
       ],
       "metadata": {},
       "output_type": "pyout",
       "text": [
        "PROGRESS: | 38        | 28050    | 1200.948158  | 0.563030          |                     | 0.763815          |                     | 1389.856445     |"
       ]
      },
      {
       "html": [
        "<pre>PROGRESS: | 38        | 28650    | 1204.215728  | 0.562304          | 0.495319            | 0.763525          | 0.682837            | 183.622238      |</pre>"
       ],
       "metadata": {},
       "output_type": "pyout",
       "text": [
        "PROGRESS: | 38        | 28650    | 1204.215728  | 0.562304          | 0.495319            | 0.763525          | 0.682837            | 183.622238      |"
       ]
      },
      {
       "html": [
        "<pre>PROGRESS: | 39        | 14100    | 1214.317006  | 0.556383          |                     | 0.758723          |                     | 1395.887695     |</pre>"
       ],
       "metadata": {},
       "output_type": "pyout",
       "text": [
        "PROGRESS: | 39        | 14100    | 1214.317006  | 0.556383          |                     | 0.758723          |                     | 1395.887695     |"
       ]
      },
      {
       "html": [
        "<pre>PROGRESS: | 39        | 28050    | 1224.346764  | 0.560463          |                     | 0.762103          |                     | 1390.861084     |</pre>"
       ],
       "metadata": {},
       "output_type": "pyout",
       "text": [
        "PROGRESS: | 39        | 28050    | 1224.346764  | 0.560463          |                     | 0.762103          |                     | 1390.861084     |"
       ]
      },
      {
       "html": [
        "<pre>PROGRESS: | 39        | 28650    | 1227.701010  | 0.560349          | 0.492917            | 0.761571          | 0.676528            | 178.877335      |</pre>"
       ],
       "metadata": {},
       "output_type": "pyout",
       "text": [
        "PROGRESS: | 39        | 28650    | 1227.701010  | 0.560349          | 0.492917            | 0.761571          | 0.676528            | 178.877335      |"
       ]
      },
      {
       "html": [
        "<pre>PROGRESS: | 40        | 14100    | 1237.797537  | 0.560638          |                     | 0.765177          |                     | 1396.544312     |</pre>"
       ],
       "metadata": {},
       "output_type": "pyout",
       "text": [
        "PROGRESS: | 40        | 14100    | 1237.797537  | 0.560638          |                     | 0.765177          |                     | 1396.544312     |"
       ]
      },
      {
       "html": [
        "<pre>PROGRESS: | 40        | 28050    | 1247.816262  | 0.567237          |                     | 0.767950          |                     | 1392.392700     |</pre>"
       ],
       "metadata": {},
       "output_type": "pyout",
       "text": [
        "PROGRESS: | 40        | 28050    | 1247.816262  | 0.567237          |                     | 0.767950          |                     | 1392.392700     |"
       ]
      },
      {
       "html": [
        "<pre>PROGRESS: | 40        | 28650    | 1251.138031  | 0.566632          | 0.491944            | 0.767923          | 0.680556            | 180.626266      |</pre>"
       ],
       "metadata": {},
       "output_type": "pyout",
       "text": [
        "PROGRESS: | 40        | 28650    | 1251.138031  | 0.566632          | 0.491944            | 0.767923          | 0.680556            | 180.626266      |"
       ]
      },
      {
       "html": [
        "<pre>PROGRESS: Checkpointing model into ~/tmp/chkpt</pre>"
       ],
       "metadata": {},
       "output_type": "pyout",
       "text": [
        "PROGRESS: Checkpointing model into ~/tmp/chkpt"
       ]
      },
      {
       "html": [
        "<pre>PROGRESS: | 41        | 14100    | 1261.242814  | 0.575390          |                     | 0.776170          |                     | 1395.403809     |</pre>"
       ],
       "metadata": {},
       "output_type": "pyout",
       "text": [
        "PROGRESS: | 41        | 14100    | 1261.242814  | 0.575390          |                     | 0.776170          |                     | 1395.403809     |"
       ]
      },
      {
       "html": [
        "<pre>PROGRESS: | 41        | 28050    | 1271.295254  | 0.573262          |                     | 0.776542          |                     | 1387.722778     |</pre>"
       ],
       "metadata": {},
       "output_type": "pyout",
       "text": [
        "PROGRESS: | 41        | 28050    | 1271.295254  | 0.573262          |                     | 0.776542          |                     | 1387.722778     |"
       ]
      },
      {
       "html": [
        "<pre>PROGRESS: | 41        | 28800    | 1274.722238  | 0.573021          | 0.495833            | 0.776597          | 0.679444            | 218.850952      |</pre>"
       ],
       "metadata": {},
       "output_type": "pyout",
       "text": [
        "PROGRESS: | 41        | 28800    | 1274.722238  | 0.573021          | 0.495833            | 0.776597          | 0.679444            | 218.850952      |"
       ]
      },
      {
       "html": [
        "<pre>PROGRESS: | 42        | 14100    | 1284.800153  | 0.570496          |                     | 0.768511          |                     | 1399.124146     |</pre>"
       ],
       "metadata": {},
       "output_type": "pyout",
       "text": [
        "PROGRESS: | 42        | 14100    | 1284.800153  | 0.570496          |                     | 0.768511          |                     | 1399.124146     |"
       ]
      },
      {
       "html": [
        "<pre>PROGRESS: | 42        | 27000    | 1294.822562  | 0.567370          |                     | 0.768185          |                     | 1287.116089     |</pre>"
       ],
       "metadata": {},
       "output_type": "pyout",
       "text": [
        "PROGRESS: | 42        | 27000    | 1294.822562  | 0.567370          |                     | 0.768185          |                     | 1287.116089     |"
       ]
      },
      {
       "html": [
        "<pre>PROGRESS: | 42        | 28650    | 1299.855783  | 0.568098          | 0.491528            | 0.769354          | 0.673750            | 327.821228      |</pre>"
       ],
       "metadata": {},
       "output_type": "pyout",
       "text": [
        "PROGRESS: | 42        | 28650    | 1299.855783  | 0.568098          | 0.491528            | 0.769354          | 0.673750            | 327.821228      |"
       ]
      },
      {
       "html": [
        "<pre>PROGRESS: | 43        | 11250    | 1309.897474  | 0.573511          |                     | 0.778400          |                     | 1121.257935     |</pre>"
       ],
       "metadata": {},
       "output_type": "pyout",
       "text": [
        "PROGRESS: | 43        | 11250    | 1309.897474  | 0.573511          |                     | 0.778400          |                     | 1121.257935     |"
       ]
      },
      {
       "html": [
        "<pre>PROGRESS: | 43        | 21150    | 1320.145237  | 0.577541          |                     | 0.780095          |                     | 966.063293      |</pre>"
       ],
       "metadata": {},
       "output_type": "pyout",
       "text": [
        "PROGRESS: | 43        | 21150    | 1320.145237  | 0.577541          |                     | 0.780095          |                     | 966.063293      |"
       ]
      },
      {
       "html": [
        "<pre>PROGRESS: | 43        | 28650    | 1331.148326  | 0.574136          | 0.495694            | 0.776789          | 0.680417            | 681.626404      |</pre>"
       ],
       "metadata": {},
       "output_type": "pyout",
       "text": [
        "PROGRESS: | 43        | 28650    | 1331.148326  | 0.574136          | 0.495694            | 0.776789          | 0.680417            | 681.626404      |"
       ]
      },
      {
       "html": [
        "<pre>PROGRESS: | 44        | 10800    | 1341.194833  | 0.568981          |                     | 0.768981          |                     | 1075.031494     |</pre>"
       ],
       "metadata": {},
       "output_type": "pyout",
       "text": [
        "PROGRESS: | 44        | 10800    | 1341.194833  | 0.568981          |                     | 0.768981          |                     | 1075.031494     |"
       ]
      },
      {
       "html": [
        "<pre>PROGRESS: | 44        | 20400    | 1351.279530  | 0.572059          |                     | 0.772794          |                     | 951.937256      |</pre>"
       ],
       "metadata": {},
       "output_type": "pyout",
       "text": [
        "PROGRESS: | 44        | 20400    | 1351.279530  | 0.572059          |                     | 0.772794          |                     | 951.937256      |"
       ]
      },
      {
       "html": [
        "<pre>PROGRESS: | 44        | 28800    | 1361.737128  | 0.572500          | 0.486528            | 0.771979          | 0.672917            | 803.243164      |</pre>"
       ],
       "metadata": {},
       "output_type": "pyout",
       "text": [
        "PROGRESS: | 44        | 28800    | 1361.737128  | 0.572500          | 0.486528            | 0.771979          | 0.672917            | 803.243164      |"
       ]
      },
      {
       "html": [
        "<pre>PROGRESS: | 45        | 12000    | 1371.858752  | 0.569583          |                     | 0.766917          |                     | 1185.603027     |</pre>"
       ],
       "metadata": {},
       "output_type": "pyout",
       "text": [
        "PROGRESS: | 45        | 12000    | 1371.858752  | 0.569583          |                     | 0.766917          |                     | 1185.603027     |"
       ]
      },
      {
       "html": [
        "<pre>PROGRESS: | 45        | 24000    | 1381.971510  | 0.575750          |                     | 0.773917          |                     | 1186.619629     |</pre>"
       ],
       "metadata": {},
       "output_type": "pyout",
       "text": [
        "PROGRESS: | 45        | 24000    | 1381.971510  | 0.575750          |                     | 0.773917          |                     | 1186.619629     |"
       ]
      },
      {
       "html": [
        "<pre>PROGRESS: | 45        | 28650    | 1389.187729  | 0.573264          | 0.490556            | 0.773089          | 0.675556            | 644.381165      |</pre>"
       ],
       "metadata": {},
       "output_type": "pyout",
       "text": [
        "PROGRESS: | 45        | 28650    | 1389.187729  | 0.573264          | 0.490556            | 0.773089          | 0.675556            | 644.381165      |"
       ]
      },
      {
       "html": [
        "<pre>PROGRESS: Checkpointing model into ~/tmp/chkpt</pre>"
       ],
       "metadata": {},
       "output_type": "pyout",
       "text": [
        "PROGRESS: Checkpointing model into ~/tmp/chkpt"
       ]
      },
      {
       "html": [
        "<pre>PROGRESS: | 46        | 11850    | 1399.221260  | 0.571730          |                     | 0.770802          |                     | 1181.060425     |</pre>"
       ],
       "metadata": {},
       "output_type": "pyout",
       "text": [
        "PROGRESS: | 46        | 11850    | 1399.221260  | 0.571730          |                     | 0.770802          |                     | 1181.060425     |"
       ]
      },
      {
       "html": [
        "<pre>PROGRESS: | 46        | 23700    | 1409.246981  | 0.576245          |                     | 0.775105          |                     | 1181.959961     |</pre>"
       ],
       "metadata": {},
       "output_type": "pyout",
       "text": [
        "PROGRESS: | 46        | 23700    | 1409.246981  | 0.576245          |                     | 0.775105          |                     | 1181.959961     |"
       ]
      },
      {
       "html": [
        "<pre>PROGRESS: | 46        | 28650    | 1417.062663  | 0.573682          | 0.483333            | 0.774415          | 0.671528            | 633.341492      |</pre>"
       ],
       "metadata": {},
       "output_type": "pyout",
       "text": [
        "PROGRESS: | 46        | 28650    | 1417.062663  | 0.573682          | 0.483333            | 0.774415          | 0.671528            | 633.341492      |"
       ]
      },
      {
       "html": [
        "<pre>PROGRESS: | 47        | 11700    | 1427.170523  | 0.575641          |                     | 0.779487          |                     | 1157.554077     |</pre>"
       ],
       "metadata": {},
       "output_type": "pyout",
       "text": [
        "PROGRESS: | 47        | 11700    | 1427.170523  | 0.575641          |                     | 0.779487          |                     | 1157.554077     |"
       ]
      },
      {
       "html": [
        "<pre>PROGRESS: | 47        | 23400    | 1437.187092  | 0.581325          |                     | 0.782949          |                     | 1168.064331     |</pre>"
       ],
       "metadata": {},
       "output_type": "pyout",
       "text": [
        "PROGRESS: | 47        | 23400    | 1437.187092  | 0.581325          |                     | 0.782949          |                     | 1168.064331     |"
       ]
      },
      {
       "html": [
        "<pre>PROGRESS: | 47        | 28800    | 1445.161212  | 0.579514          | 0.493194            | 0.778958          | 0.672917            | 677.190125      |</pre>"
       ],
       "metadata": {},
       "output_type": "pyout",
       "text": [
        "PROGRESS: | 47        | 28800    | 1445.161212  | 0.579514          | 0.493194            | 0.778958          | 0.672917            | 677.190125      |"
       ]
      },
      {
       "html": [
        "<pre>PROGRESS: | 48        | 11850    | 1455.190122  | 0.578650          |                     | 0.780422          |                     | 1181.604248     |</pre>"
       ],
       "metadata": {},
       "output_type": "pyout",
       "text": [
        "PROGRESS: | 48        | 11850    | 1455.190122  | 0.578650          |                     | 0.780422          |                     | 1181.604248     |"
       ]
      },
      {
       "html": [
        "<pre>PROGRESS: | 48        | 23550    | 1465.296676  | 0.587134          |                     | 0.783652          |                     | 1157.664795     |</pre>"
       ],
       "metadata": {},
       "output_type": "pyout",
       "text": [
        "PROGRESS: | 48        | 23550    | 1465.296676  | 0.587134          |                     | 0.783652          |                     | 1157.664795     |"
       ]
      },
      {
       "html": [
        "<pre>PROGRESS: | 48        | 28650    | 1473.868555  | 0.587120          | 0.495972            | 0.784956          | 0.685278            | 594.968201      |</pre>"
       ],
       "metadata": {},
       "output_type": "pyout",
       "text": [
        "PROGRESS: | 48        | 28650    | 1473.868555  | 0.587120          | 0.495972            | 0.784956          | 0.685278            | 594.968201      |"
       ]
      },
      {
       "html": [
        "<pre>PROGRESS: | 49        | 10950    | 1483.990965  | 0.585662          |                     | 0.780639          |                     | 1081.790649     |</pre>"
       ],
       "metadata": {},
       "output_type": "pyout",
       "text": [
        "PROGRESS: | 49        | 10950    | 1483.990965  | 0.585662          |                     | 0.780639          |                     | 1081.790649     |"
       ]
      },
      {
       "html": [
        "<pre>PROGRESS: | 49        | 21900    | 1494.014247  | 0.588128          |                     | 0.784612          |                     | 1092.458496     |</pre>"
       ],
       "metadata": {},
       "output_type": "pyout",
       "text": [
        "PROGRESS: | 49        | 21900    | 1494.014247  | 0.588128          |                     | 0.784612          |                     | 1092.458496     |"
       ]
      },
      {
       "html": [
        "<pre>PROGRESS: | 49        | 28650    | 1504.088020  | 0.584223          | 0.498750            | 0.783106          | 0.685556            | 670.055115      |</pre>"
       ],
       "metadata": {},
       "output_type": "pyout",
       "text": [
        "PROGRESS: | 49        | 28650    | 1504.088020  | 0.584223          | 0.498750            | 0.783106          | 0.685556            | 670.055115      |"
       ]
      },
      {
       "html": [
        "<pre>PROGRESS: | 50        | 10800    | 1514.104789  | 0.582500          |                     | 0.784352          |                     | 1078.213989     |</pre>"
       ],
       "metadata": {},
       "output_type": "pyout",
       "text": [
        "PROGRESS: | 50        | 10800    | 1514.104789  | 0.582500          |                     | 0.784352          |                     | 1078.213989     |"
       ]
      },
      {
       "html": [
        "<pre>PROGRESS: | 50        | 21300    | 1524.113994  | 0.584413          |                     | 0.784977          |                     | 1049.034302     |</pre>"
       ],
       "metadata": {},
       "output_type": "pyout",
       "text": [
        "PROGRESS: | 50        | 21300    | 1524.113994  | 0.584413          |                     | 0.784977          |                     | 1049.034302     |"
       ]
      },
      {
       "html": [
        "<pre>PROGRESS: | 50        | 28650    | 1534.594042  | 0.585445          | 0.493333            | 0.785550          | 0.685139            | 701.332153      |</pre>"
       ],
       "metadata": {},
       "output_type": "pyout",
       "text": [
        "PROGRESS: | 50        | 28650    | 1534.594042  | 0.585445          | 0.493333            | 0.785550          | 0.685139            | 701.332153      |"
       ]
      },
      {
       "html": [
        "<pre>PROGRESS: Checkpointing model into ~/tmp/chkpt</pre>"
       ],
       "metadata": {},
       "output_type": "pyout",
       "text": [
        "PROGRESS: Checkpointing model into ~/tmp/chkpt"
       ]
      },
      {
       "html": [
        "<pre>PROGRESS: | 51        | 10650    | 1544.631277  | 0.577746          |                     | 0.777840          |                     | 1061.068237     |</pre>"
       ],
       "metadata": {},
       "output_type": "pyout",
       "text": [
        "PROGRESS: | 51        | 10650    | 1544.631277  | 0.577746          |                     | 0.777840          |                     | 1061.068237     |"
       ]
      },
      {
       "html": [
        "<pre>PROGRESS: | 51        | 21600    | 1554.751009  | 0.584120          |                     | 0.784676          |                     | 1082.044434     |</pre>"
       ],
       "metadata": {},
       "output_type": "pyout",
       "text": [
        "PROGRESS: | 51        | 21600    | 1554.751009  | 0.584120          |                     | 0.784676          |                     | 1082.044434     |"
       ]
      },
      {
       "html": [
        "<pre>PROGRESS: | 51        | 28800    | 1564.315580  | 0.584687          | 0.492639            | 0.783681          | 0.681111            | 752.777588      |</pre>"
       ],
       "metadata": {},
       "output_type": "pyout",
       "text": [
        "PROGRESS: | 51        | 28800    | 1564.315580  | 0.584687          | 0.492639            | 0.783681          | 0.681111            | 752.777588      |"
       ]
      },
      {
       "html": [
        "<pre>PROGRESS: | 52        | 13650    | 1574.400986  | 0.594286          |                     | 0.789451          |                     | 1353.468628     |</pre>"
       ],
       "metadata": {},
       "output_type": "pyout",
       "text": [
        "PROGRESS: | 52        | 13650    | 1574.400986  | 0.594286          |                     | 0.789451          |                     | 1353.468628     |"
       ]
      },
      {
       "html": [
        "<pre>PROGRESS: | 52        | 27450    | 1584.408207  | 0.595956          |                     | 0.791403          |                     | 1379.004272     |</pre>"
       ],
       "metadata": {},
       "output_type": "pyout",
       "text": [
        "PROGRESS: | 52        | 27450    | 1584.408207  | 0.595956          |                     | 0.791403          |                     | 1379.004272     |"
       ]
      },
      {
       "html": [
        "<pre>PROGRESS: | 52        | 28650    | 1588.202021  | 0.595393          | 0.494583            | 0.791065          | 0.681528            | 316.303802      |</pre>"
       ],
       "metadata": {},
       "output_type": "pyout",
       "text": [
        "PROGRESS: | 52        | 28650    | 1588.202021  | 0.595393          | 0.494583            | 0.791065          | 0.681528            | 316.303802      |"
       ]
      },
      {
       "html": [
        "<pre>PROGRESS: | 53        | 10500    | 1598.330900  | 0.587810          |                     | 0.787429          |                     | 1036.665405     |</pre>"
       ],
       "metadata": {},
       "output_type": "pyout",
       "text": [
        "PROGRESS: | 53        | 10500    | 1598.330900  | 0.587810          |                     | 0.787429          |                     | 1036.665405     |"
       ]
      },
      {
       "html": [
        "<pre>PROGRESS: | 53        | 20850    | 1608.368718  | 0.592182          |                     | 0.790360          |                     | 1031.098633     |</pre>"
       ],
       "metadata": {},
       "output_type": "pyout",
       "text": [
        "PROGRESS: | 53        | 20850    | 1608.368718  | 0.592182          |                     | 0.790360          |                     | 1031.098633     |"
       ]
      },
      {
       "html": [
        "<pre>PROGRESS: | 53        | 28650    | 1619.677828  | 0.592391          | 0.493056            | 0.790855          | 0.674583            | 689.707336      |</pre>"
       ],
       "metadata": {},
       "output_type": "pyout",
       "text": [
        "PROGRESS: | 53        | 28650    | 1619.677828  | 0.592391          | 0.493056            | 0.790855          | 0.674583            | 689.707336      |"
       ]
      },
      {
       "html": [
        "<pre>PROGRESS: | 54        | 10800    | 1629.747494  | 0.589722          |                     | 0.787222          |                     | 1072.551758     |</pre>"
       ],
       "metadata": {},
       "output_type": "pyout",
       "text": [
        "PROGRESS: | 54        | 10800    | 1629.747494  | 0.589722          |                     | 0.787222          |                     | 1072.551758     |"
       ]
      },
      {
       "html": [
        "<pre>PROGRESS: | 54        | 21900    | 1639.851153  | 0.595205          |                     | 0.789406          |                     | 1098.612061     |</pre>"
       ],
       "metadata": {},
       "output_type": "pyout",
       "text": [
        "PROGRESS: | 54        | 21900    | 1639.851153  | 0.595205          |                     | 0.789406          |                     | 1098.612061     |"
       ]
      },
      {
       "html": [
        "<pre>PROGRESS: | 54        | 28800    | 1650.009110  | 0.594722          | 0.494861            | 0.789896          | 0.677222            | 679.269958      |</pre>"
       ],
       "metadata": {},
       "output_type": "pyout",
       "text": [
        "PROGRESS: | 54        | 28800    | 1650.009110  | 0.594722          | 0.494861            | 0.789896          | 0.677222            | 679.269958      |"
       ]
      },
      {
       "html": [
        "<pre>PROGRESS: | 55        | 10800    | 1660.063236  | 0.582222          |                     | 0.790741          |                     | 1074.205444     |</pre>"
       ],
       "metadata": {},
       "output_type": "pyout",
       "text": [
        "PROGRESS: | 55        | 10800    | 1660.063236  | 0.582222          |                     | 0.790741          |                     | 1074.205444     |"
       ]
      },
      {
       "html": [
        "<pre>PROGRESS: | 55        | 21450    | 1670.084081  | 0.588392          |                     | 0.792727          |                     | 1062.784668     |</pre>"
       ],
       "metadata": {},
       "output_type": "pyout",
       "text": [
        "PROGRESS: | 55        | 21450    | 1670.084081  | 0.588392          |                     | 0.792727          |                     | 1062.784668     |"
       ]
      },
      {
       "html": [
        "<pre>PROGRESS: | 55        | 28650    | 1680.540619  | 0.588761          | 0.492361            | 0.791902          | 0.675278            | 688.563965      |</pre>"
       ],
       "metadata": {},
       "output_type": "pyout",
       "text": [
        "PROGRESS: | 55        | 28650    | 1680.540619  | 0.588761          | 0.492361            | 0.791902          | 0.675278            | 688.563965      |"
       ]
      },
      {
       "html": [
        "<pre>PROGRESS: Checkpointing model into ~/tmp/chkpt</pre>"
       ],
       "metadata": {},
       "output_type": "pyout",
       "text": [
        "PROGRESS: Checkpointing model into ~/tmp/chkpt"
       ]
      },
      {
       "html": [
        "<pre>PROGRESS: | 56        | 10650    | 1690.604296  | 0.599906          |                     | 0.791174          |                     | 1058.282959     |</pre>"
       ],
       "metadata": {},
       "output_type": "pyout",
       "text": [
        "PROGRESS: | 56        | 10650    | 1690.604296  | 0.599906          |                     | 0.791174          |                     | 1058.282959     |"
       ]
      },
      {
       "html": [
        "<pre>PROGRESS: | 56        | 21300    | 1700.648848  | 0.601549          |                     | 0.792347          |                     | 1060.276489     |</pre>"
       ],
       "metadata": {},
       "output_type": "pyout",
       "text": [
        "PROGRESS: | 56        | 21300    | 1700.648848  | 0.601549          |                     | 0.792347          |                     | 1060.276489     |"
       ]
      },
      {
       "html": [
        "<pre>PROGRESS: | 56        | 28650    | 1711.098032  | 0.602443          | 0.497222            | 0.792007          | 0.678611            | 703.403625      |</pre>"
       ],
       "metadata": {},
       "output_type": "pyout",
       "text": [
        "PROGRESS: | 56        | 28650    | 1711.098032  | 0.602443          | 0.497222            | 0.792007          | 0.678611            | 703.403625      |"
       ]
      },
      {
       "html": [
        "<pre>PROGRESS: | 57        | 10950    | 1721.119061  | 0.586941          |                     | 0.789224          |                     | 1092.721436     |</pre>"
       ],
       "metadata": {},
       "output_type": "pyout",
       "text": [
        "PROGRESS: | 57        | 10950    | 1721.119061  | 0.586941          |                     | 0.789224          |                     | 1092.721436     |"
       ]
      },
      {
       "html": [
        "<pre>PROGRESS: | 57        | 21600    | 1731.191350  | 0.596759          |                     | 0.797454          |                     | 1057.356567     |</pre>"
       ],
       "metadata": {},
       "output_type": "pyout",
       "text": [
        "PROGRESS: | 57        | 21600    | 1731.191350  | 0.596759          |                     | 0.797454          |                     | 1057.356567     |"
       ]
      },
      {
       "html": [
        "<pre>PROGRESS: | 57        | 28800    | 1741.871502  | 0.599688          | 0.489362            | 0.800035          | 0.674894            | 674.147217      |</pre>"
       ],
       "metadata": {},
       "output_type": "pyout",
       "text": [
        "PROGRESS: | 57        | 28800    | 1741.871502  | 0.599688          | 0.489362            | 0.800035          | 0.674894            | 674.147217      |"
       ]
      },
      {
       "html": [
        "<pre>PROGRESS: | 58        | 10800    | 1751.989035  | 0.593796          |                     | 0.792222          |                     | 1067.474487     |</pre>"
       ],
       "metadata": {},
       "output_type": "pyout",
       "text": [
        "PROGRESS: | 58        | 10800    | 1751.989035  | 0.593796          |                     | 0.792222          |                     | 1067.474487     |"
       ]
      },
      {
       "html": [
        "<pre>PROGRESS: | 58        | 21300    | 1762.007917  | 0.599014          |                     | 0.794366          |                     | 1048.020752     |</pre>"
       ],
       "metadata": {},
       "output_type": "pyout",
       "text": [
        "PROGRESS: | 58        | 21300    | 1762.007917  | 0.599014          |                     | 0.794366          |                     | 1048.020752     |"
       ]
      },
      {
       "html": [
        "<pre>PROGRESS: | 58        | 28650    | 1773.020389  | 0.601257          | 0.495556            | 0.797557          | 0.675139            | 667.424683      |</pre>"
       ],
       "metadata": {},
       "output_type": "pyout",
       "text": [
        "PROGRESS: | 58        | 28650    | 1773.020389  | 0.601257          | 0.495556            | 0.797557          | 0.675139            | 667.424683      |"
       ]
      },
      {
       "html": [
        "<pre>PROGRESS: | 59        | 10350    | 1783.163505  | 0.592850          |                     | 0.798164          |                     | 1020.415100     |</pre>"
       ],
       "metadata": {},
       "output_type": "pyout",
       "text": [
        "PROGRESS: | 59        | 10350    | 1783.163505  | 0.592850          |                     | 0.798164          |                     | 1020.415100     |"
       ]
      },
      {
       "html": [
        "<pre>PROGRESS: | 59        | 20850    | 1793.181710  | 0.597554          |                     | 0.798657          |                     | 1048.092651     |</pre>"
       ],
       "metadata": {},
       "output_type": "pyout",
       "text": [
        "PROGRESS: | 59        | 20850    | 1793.181710  | 0.597554          |                     | 0.798657          |                     | 1048.092651     |"
       ]
      },
      {
       "html": [
        "<pre>PROGRESS: | 59        | 28650    | 1804.758810  | 0.599651          | 0.492083            | 0.799372          | 0.679444            | 673.742981      |</pre>"
       ],
       "metadata": {},
       "output_type": "pyout",
       "text": [
        "PROGRESS: | 59        | 28650    | 1804.758810  | 0.599651          | 0.492083            | 0.799372          | 0.679444            | 673.742981      |"
       ]
      },
      {
       "html": [
        "<pre>PROGRESS: | 60        | 10650    | 1814.872225  | 0.594178          |                     | 0.791643          |                     | 1053.843018     |</pre>"
       ],
       "metadata": {},
       "output_type": "pyout",
       "text": [
        "PROGRESS: | 60        | 10650    | 1814.872225  | 0.594178          |                     | 0.791643          |                     | 1053.843018     |"
       ]
      },
      {
       "html": [
        "<pre>PROGRESS: | 60        | 21450    | 1825.035950  | 0.601492          |                     | 0.801305          |                     | 1062.603760     |</pre>"
       ],
       "metadata": {},
       "output_type": "pyout",
       "text": [
        "PROGRESS: | 60        | 21450    | 1825.035950  | 0.601492          |                     | 0.801305          |                     | 1062.603760     |"
       ]
      },
      {
       "html": [
        "<pre>PROGRESS: | 60        | 28650    | 1835.663942  | 0.603874          | 0.493056            | 0.803630          | 0.685833            | 677.454895      |</pre>"
       ],
       "metadata": {},
       "output_type": "pyout",
       "text": [
        "PROGRESS: | 60        | 28650    | 1835.663942  | 0.603874          | 0.493056            | 0.803630          | 0.685833            | 677.454895      |"
       ]
      },
      {
       "html": [
        "<pre>PROGRESS: Checkpointing model into ~/tmp/chkpt</pre>"
       ],
       "metadata": {},
       "output_type": "pyout",
       "text": [
        "PROGRESS: Checkpointing model into ~/tmp/chkpt"
       ]
      },
      {
       "html": [
        "<pre>PROGRESS: | 61        | 10500    | 1845.665015  | 0.601429          |                     | 0.802952          |                     | 1049.929077     |</pre>"
       ],
       "metadata": {},
       "output_type": "pyout",
       "text": [
        "PROGRESS: | 61        | 10500    | 1845.665015  | 0.601429          |                     | 0.802952          |                     | 1049.929077     |"
       ]
      },
      {
       "html": [
        "<pre>PROGRESS: | 61        | 21000    | 1855.735286  | 0.602333          |                     | 0.804524          |                     | 1042.673096     |</pre>"
       ],
       "metadata": {},
       "output_type": "pyout",
       "text": [
        "PROGRESS: | 61        | 21000    | 1855.735286  | 0.602333          |                     | 0.804524          |                     | 1042.673096     |"
       ]
      },
      {
       "html": [
        "<pre>PROGRESS: | 61        | 28800    | 1866.905903  | 0.602014          | 0.491111            | 0.802431          | 0.670556            | 698.259827      |</pre>"
       ],
       "metadata": {},
       "output_type": "pyout",
       "text": [
        "PROGRESS: | 61        | 28800    | 1866.905903  | 0.602014          | 0.491111            | 0.802431          | 0.670556            | 698.259827      |"
       ]
      },
      {
       "html": [
        "<pre>PROGRESS: | 62        | 10350    | 1876.934766  | 0.602319          |                     | 0.805700          |                     | 1032.086060     |</pre>"
       ],
       "metadata": {},
       "output_type": "pyout",
       "text": [
        "PROGRESS: | 62        | 10350    | 1876.934766  | 0.602319          |                     | 0.805700          |                     | 1032.086060     |"
       ]
      },
      {
       "html": [
        "<pre>PROGRESS: | 62        | 20850    | 1887.077406  | 0.607386          |                     | 0.805947          |                     | 1035.232910     |</pre>"
       ],
       "metadata": {},
       "output_type": "pyout",
       "text": [
        "PROGRESS: | 62        | 20850    | 1887.077406  | 0.607386          |                     | 0.805947          |                     | 1035.232910     |"
       ]
      },
      {
       "html": [
        "<pre>PROGRESS: | 62        | 28650    | 1898.240445  | 0.607155          | 0.491111            | 0.806213          | 0.671250            | 698.734009      |</pre>"
       ],
       "metadata": {},
       "output_type": "pyout",
       "text": [
        "PROGRESS: | 62        | 28650    | 1898.240445  | 0.607155          | 0.491111            | 0.806213          | 0.671250            | 698.734009      |"
       ]
      },
      {
       "html": [
        "<pre>PROGRESS: | 63        | 10650    | 1908.363887  | 0.597559          |                     | 0.801127          |                     | 1052.822876     |</pre>"
       ],
       "metadata": {},
       "output_type": "pyout",
       "text": [
        "PROGRESS: | 63        | 10650    | 1908.363887  | 0.597559          |                     | 0.801127          |                     | 1052.822876     |"
       ]
      },
      {
       "html": [
        "<pre>PROGRESS: | 63        | 21150    | 1918.416380  | 0.603310          |                     | 0.802553          |                     | 1044.516968     |</pre>"
       ],
       "metadata": {},
       "output_type": "pyout",
       "text": [
        "PROGRESS: | 63        | 21150    | 1918.416380  | 0.603310          |                     | 0.802553          |                     | 1044.516968     |"
       ]
      },
      {
       "html": [
        "<pre>PROGRESS: | 63        | 28650    | 1929.162128  | 0.606038          | 0.494306            | 0.803106          | 0.682222            | 697.949890      |</pre>"
       ],
       "metadata": {},
       "output_type": "pyout",
       "text": [
        "PROGRESS: | 63        | 28650    | 1929.162128  | 0.606038          | 0.494306            | 0.803106          | 0.682222            | 697.949890      |"
       ]
      },
      {
       "html": [
        "<pre>PROGRESS: | 64        | 10650    | 1939.171478  | 0.604131          |                     | 0.803005          |                     | 1064.039673     |</pre>"
       ],
       "metadata": {},
       "output_type": "pyout",
       "text": [
        "PROGRESS: | 64        | 10650    | 1939.171478  | 0.604131          |                     | 0.803005          |                     | 1064.039673     |"
       ]
      },
      {
       "html": [
        "<pre>PROGRESS: | 64        | 21300    | 1949.295033  | 0.606901          |                     | 0.807183          |                     | 1052.001831     |</pre>"
       ],
       "metadata": {},
       "output_type": "pyout",
       "text": [
        "PROGRESS: | 64        | 21300    | 1949.295033  | 0.606901          |                     | 0.807183          |                     | 1052.001831     |"
       ]
      },
      {
       "html": [
        "<pre>PROGRESS: | 64        | 28800    | 1960.382516  | 0.609965          | 0.494444            | 0.808854          | 0.678750            | 676.437988      |</pre>"
       ],
       "metadata": {},
       "output_type": "pyout",
       "text": [
        "PROGRESS: | 64        | 28800    | 1960.382516  | 0.609965          | 0.494444            | 0.808854          | 0.678750            | 676.437988      |"
       ]
      },
      {
       "html": [
        "<pre>PROGRESS: | 65        | 10650    | 1970.469666  | 0.606385          |                     | 0.805258          |                     | 1055.839478     |</pre>"
       ],
       "metadata": {},
       "output_type": "pyout",
       "text": [
        "PROGRESS: | 65        | 10650    | 1970.469666  | 0.606385          |                     | 0.805258          |                     | 1055.839478     |"
       ]
      },
      {
       "html": [
        "<pre>PROGRESS: | 65        | 21150    | 1980.475687  | 0.610496          |                     | 0.809362          |                     | 1049.368530     |</pre>"
       ],
       "metadata": {},
       "output_type": "pyout",
       "text": [
        "PROGRESS: | 65        | 21150    | 1980.475687  | 0.610496          |                     | 0.809362          |                     | 1049.368530     |"
       ]
      },
      {
       "html": [
        "<pre>PROGRESS: | 65        | 28650    | 1991.586146  | 0.611204          | 0.493472            | 0.809564          | 0.675139            | 675.039124      |</pre>"
       ],
       "metadata": {},
       "output_type": "pyout",
       "text": [
        "PROGRESS: | 65        | 28650    | 1991.586146  | 0.611204          | 0.493472            | 0.809564          | 0.675139            | 675.039124      |"
       ]
      },
      {
       "html": [
        "<pre>PROGRESS: Checkpointing model into ~/tmp/chkpt</pre>"
       ],
       "metadata": {},
       "output_type": "pyout",
       "text": [
        "PROGRESS: Checkpointing model into ~/tmp/chkpt"
       ]
      },
      {
       "html": [
        "<pre>PROGRESS: | 66        | 10650    | 2001.629067  | 0.603474          |                     | 0.801502          |                     | 1060.468506     |</pre>"
       ],
       "metadata": {},
       "output_type": "pyout",
       "text": [
        "PROGRESS: | 66        | 10650    | 2001.629067  | 0.603474          |                     | 0.801502          |                     | 1060.468506     |"
       ]
      },
      {
       "html": [
        "<pre>PROGRESS: | 66        | 21300    | 2011.698905  | 0.607934          |                     | 0.805023          |                     | 1057.613892     |</pre>"
       ],
       "metadata": {},
       "output_type": "pyout",
       "text": [
        "PROGRESS: | 66        | 21300    | 2011.698905  | 0.607934          |                     | 0.805023          |                     | 1057.613892     |"
       ]
      },
      {
       "html": [
        "<pre>PROGRESS: | 66        | 28650    | 2022.752123  | 0.608447          | 0.492222            | 0.803595          | 0.675972            | 664.964233      |</pre>"
       ],
       "metadata": {},
       "output_type": "pyout",
       "text": [
        "PROGRESS: | 66        | 28650    | 2022.752123  | 0.608447          | 0.492222            | 0.803595          | 0.675972            | 664.964233      |"
       ]
      },
      {
       "html": [
        "<pre>PROGRESS: | 67        | 10500    | 2032.800575  | 0.611238          |                     | 0.804190          |                     | 1044.959351     |</pre>"
       ],
       "metadata": {},
       "output_type": "pyout",
       "text": [
        "PROGRESS: | 67        | 10500    | 2032.800575  | 0.611238          |                     | 0.804190          |                     | 1044.959351     |"
       ]
      },
      {
       "html": [
        "<pre>PROGRESS: | 67        | 21000    | 2042.872435  | 0.612048          |                     | 0.805238          |                     | 1042.507202     |</pre>"
       ],
       "metadata": {},
       "output_type": "pyout",
       "text": [
        "PROGRESS: | 67        | 21000    | 2042.872435  | 0.612048          |                     | 0.805238          |                     | 1042.507202     |"
       ]
      },
      {
       "html": [
        "<pre>PROGRESS: | 67        | 28800    | 2054.140410  | 0.612917          | 0.492222            | 0.806597          | 0.679861            | 692.226807      |</pre>"
       ],
       "metadata": {},
       "output_type": "pyout",
       "text": [
        "PROGRESS: | 67        | 28800    | 2054.140410  | 0.612917          | 0.492222            | 0.806597          | 0.679861            | 692.226807      |"
       ]
      },
      {
       "html": [
        "<pre>PROGRESS: | 68        | 10500    | 2064.212119  | 0.607524          |                     | 0.803524          |                     | 1042.564453     |</pre>"
       ],
       "metadata": {},
       "output_type": "pyout",
       "text": [
        "PROGRESS: | 68        | 10500    | 2064.212119  | 0.607524          |                     | 0.803524          |                     | 1042.564453     |"
       ]
      },
      {
       "html": [
        "<pre>PROGRESS: | 68        | 20850    | 2074.231537  | 0.610695          |                     | 0.807578          |                     | 1032.994263     |</pre>"
       ],
       "metadata": {},
       "output_type": "pyout",
       "text": [
        "PROGRESS: | 68        | 20850    | 2074.231537  | 0.610695          |                     | 0.807578          |                     | 1032.994263     |"
       ]
      },
      {
       "html": [
        "<pre>PROGRESS: | 68        | 28650    | 2085.641387  | 0.610052          | 0.492500            | 0.808237          | 0.680417            | 683.619324      |</pre>"
       ],
       "metadata": {},
       "output_type": "pyout",
       "text": [
        "PROGRESS: | 68        | 28650    | 2085.641387  | 0.610052          | 0.492500            | 0.808237          | 0.680417            | 683.619324      |"
       ]
      },
      {
       "html": [
        "<pre>PROGRESS: | 69        | 10500    | 2095.681788  | 0.614286          |                     | 0.809714          |                     | 1045.796265     |</pre>"
       ],
       "metadata": {},
       "output_type": "pyout",
       "text": [
        "PROGRESS: | 69        | 10500    | 2095.681788  | 0.614286          |                     | 0.809714          |                     | 1045.796265     |"
       ]
      },
      {
       "html": [
        "<pre>PROGRESS: | 69        | 21000    | 2105.807452  | 0.613238          |                     | 0.809000          |                     | 1036.969116     |</pre>"
       ],
       "metadata": {},
       "output_type": "pyout",
       "text": [
        "PROGRESS: | 69        | 21000    | 2105.807452  | 0.613238          |                     | 0.809000          |                     | 1036.969116     |"
       ]
      },
      {
       "html": [
        "<pre>PROGRESS: | 69        | 28650    | 2116.816806  | 0.613752          | 0.498472            | 0.808831          | 0.678333            | 694.863159      |</pre>"
       ],
       "metadata": {},
       "output_type": "pyout",
       "text": [
        "PROGRESS: | 69        | 28650    | 2116.816806  | 0.613752          | 0.498472            | 0.808831          | 0.678333            | 694.863159      |"
       ]
      },
      {
       "html": [
        "<pre>PROGRESS: | 70        | 10500    | 2126.975577  | 0.605429          |                     | 0.804857          |                     | 1033.611328     |</pre>"
       ],
       "metadata": {},
       "output_type": "pyout",
       "text": [
        "PROGRESS: | 70        | 10500    | 2126.975577  | 0.605429          |                     | 0.804857          |                     | 1033.611328     |"
       ]
      },
      {
       "html": [
        "<pre>PROGRESS: | 70        | 20700    | 2137.028127  | 0.611014          |                     | 0.807295          |                     | 1014.665283     |</pre>"
       ],
       "metadata": {},
       "output_type": "pyout",
       "text": [
        "PROGRESS: | 70        | 20700    | 2137.028127  | 0.611014          |                     | 0.807295          |                     | 1014.665283     |"
       ]
      },
      {
       "html": [
        "<pre>PROGRESS: | 70        | 28650    | 2145.826974  | 0.611239          | 0.494167            | 0.807086          | 0.679444            | 903.526733      |</pre>"
       ],
       "metadata": {},
       "output_type": "pyout",
       "text": [
        "PROGRESS: | 70        | 28650    | 2145.826974  | 0.611239          | 0.494167            | 0.807086          | 0.679444            | 903.526733      |"
       ]
      },
      {
       "html": [
        "<pre>PROGRESS: Checkpointing model into ~/tmp/chkpt</pre>"
       ],
       "metadata": {},
       "output_type": "pyout",
       "text": [
        "PROGRESS: Checkpointing model into ~/tmp/chkpt"
       ]
      },
      {
       "html": [
        "<pre>PROGRESS: | 71        | 13800    | 2155.862701  | 0.612754          |                     | 0.805870          |                     | 1375.111694     |</pre>"
       ],
       "metadata": {},
       "output_type": "pyout",
       "text": [
        "PROGRESS: | 71        | 13800    | 2155.862701  | 0.612754          |                     | 0.805870          |                     | 1375.111694     |"
       ]
      },
      {
       "html": [
        "<pre>PROGRESS: | 71        | 27000    | 2165.946388  | 0.611630          |                     | 0.808519          |                     | 1309.048218     |</pre>"
       ],
       "metadata": {},
       "output_type": "pyout",
       "text": [
        "PROGRESS: | 71        | 27000    | 2165.946388  | 0.611630          |                     | 0.808519          |                     | 1309.048218     |"
       ]
      },
      {
       "html": [
        "<pre>PROGRESS: | 71        | 28800    | 2171.729651  | 0.611771          | 0.485278            | 0.808229          | 0.670139            | 311.241241      |</pre>"
       ],
       "metadata": {},
       "output_type": "pyout",
       "text": [
        "PROGRESS: | 71        | 28800    | 2171.729651  | 0.611771          | 0.485278            | 0.808229          | 0.670139            | 311.241241      |"
       ]
      },
      {
       "html": [
        "<pre>PROGRESS: | 72        | 10650    | 2181.804821  | 0.610798          |                     | 0.801972          |                     | 1057.074707     |</pre>"
       ],
       "metadata": {},
       "output_type": "pyout",
       "text": [
        "PROGRESS: | 72        | 10650    | 2181.804821  | 0.610798          |                     | 0.801972          |                     | 1057.074707     |"
       ]
      },
      {
       "html": [
        "<pre>PROGRESS: | 72        | 21450    | 2191.807456  | 0.613520          |                     | 0.810769          |                     | 1079.716187     |</pre>"
       ],
       "metadata": {},
       "output_type": "pyout",
       "text": [
        "PROGRESS: | 72        | 21450    | 2191.807456  | 0.613520          |                     | 0.810769          |                     | 1079.716187     |"
       ]
      },
      {
       "html": [
        "<pre>PROGRESS: | 72        | 28650    | 2202.398151  | 0.611937          | 0.485833            | 0.810646          | 0.668611            | 679.841125      |</pre>"
       ],
       "metadata": {},
       "output_type": "pyout",
       "text": [
        "PROGRESS: | 72        | 28650    | 2202.398151  | 0.611937          | 0.485833            | 0.810646          | 0.668611            | 679.841125      |"
       ]
      },
      {
       "html": [
        "<pre>PROGRESS: | 73        | 10800    | 2212.438273  | 0.609907          |                     | 0.813704          |                     | 1075.708984     |</pre>"
       ],
       "metadata": {},
       "output_type": "pyout",
       "text": [
        "PROGRESS: | 73        | 10800    | 2212.438273  | 0.609907          |                     | 0.813704          |                     | 1075.708984     |"
       ]
      },
      {
       "html": [
        "<pre>PROGRESS: | 73        | 21300    | 2222.579071  | 0.614883          |                     | 0.813756          |                     | 1035.421509     |</pre>"
       ],
       "metadata": {},
       "output_type": "pyout",
       "text": [
        "PROGRESS: | 73        | 21300    | 2222.579071  | 0.614883          |                     | 0.813756          |                     | 1035.421509     |"
       ]
      },
      {
       "html": [
        "<pre>PROGRESS: | 73        | 28650    | 2233.220861  | 0.615916          | 0.482500            | 0.815288          | 0.673750            | 690.672791      |</pre>"
       ],
       "metadata": {},
       "output_type": "pyout",
       "text": [
        "PROGRESS: | 73        | 28650    | 2233.220861  | 0.615916          | 0.482500            | 0.815288          | 0.673750            | 690.672791      |"
       ]
      },
      {
       "html": [
        "<pre>PROGRESS: | 74        | 10350    | 2243.287835  | 0.611401          |                     | 0.812560          |                     | 1028.985962     |</pre>"
       ],
       "metadata": {},
       "output_type": "pyout",
       "text": [
        "PROGRESS: | 74        | 10350    | 2243.287835  | 0.611401          |                     | 0.812560          |                     | 1028.985962     |"
       ]
      },
      {
       "html": [
        "<pre>PROGRESS: | 74        | 21000    | 2253.388020  | 0.614810          |                     | 0.812857          |                     | 1054.435791     |</pre>"
       ],
       "metadata": {},
       "output_type": "pyout",
       "text": [
        "PROGRESS: | 74        | 21000    | 2253.388020  | 0.614810          |                     | 0.812857          |                     | 1054.435791     |"
       ]
      },
      {
       "html": [
        "<pre>PROGRESS: | 74        | 28800    | 2264.795696  | 0.616840          | 0.495278            | 0.814271          | 0.670833            | 683.749756      |</pre>"
       ],
       "metadata": {},
       "output_type": "pyout",
       "text": [
        "PROGRESS: | 74        | 28800    | 2264.795696  | 0.616840          | 0.495278            | 0.814271          | 0.670833            | 683.749756      |"
       ]
      },
      {
       "html": [
        "<pre>PROGRESS: | 75        | 10800    | 2274.841798  | 0.612685          |                     | 0.812870          |                     | 1075.065918     |</pre>"
       ],
       "metadata": {},
       "output_type": "pyout",
       "text": [
        "PROGRESS: | 75        | 10800    | 2274.841798  | 0.612685          |                     | 0.812870          |                     | 1075.065918     |"
       ]
      },
      {
       "html": [
        "<pre>PROGRESS: | 75        | 21300    | 2284.908600  | 0.614695          |                     | 0.810470          |                     | 1043.032227     |</pre>"
       ],
       "metadata": {},
       "output_type": "pyout",
       "text": [
        "PROGRESS: | 75        | 21300    | 2284.908600  | 0.614695          |                     | 0.810470          |                     | 1043.032227     |"
       ]
      },
      {
       "html": [
        "<pre>PROGRESS: | 75        | 28650    | 2295.707556  | 0.617068          | 0.494184            | 0.812775          | 0.679858            | 680.620911      |</pre>"
       ],
       "metadata": {},
       "output_type": "pyout",
       "text": [
        "PROGRESS: | 75        | 28650    | 2295.707556  | 0.617068          | 0.494184            | 0.812775          | 0.679858            | 680.620911      |"
       ]
      },
      {
       "html": [
        "<pre>PROGRESS: Checkpointing model into ~/tmp/chkpt</pre>"
       ],
       "metadata": {},
       "output_type": "pyout",
       "text": [
        "PROGRESS: Checkpointing model into ~/tmp/chkpt"
       ]
      },
      {
       "html": [
        "<pre>PROGRESS: | 76        | 10500    | 2305.789725  | 0.619048          |                     | 0.813619          |                     | 1041.466675     |</pre>"
       ],
       "metadata": {},
       "output_type": "pyout",
       "text": [
        "PROGRESS: | 76        | 10500    | 2305.789725  | 0.619048          |                     | 0.813619          |                     | 1041.466675     |"
       ]
      },
      {
       "html": [
        "<pre>PROGRESS: | 76        | 21000    | 2315.856786  | 0.614714          |                     | 0.809667          |                     | 1043.005859     |</pre>"
       ],
       "metadata": {},
       "output_type": "pyout",
       "text": [
        "PROGRESS: | 76        | 21000    | 2315.856786  | 0.614714          |                     | 0.809667          |                     | 1043.005859     |"
       ]
      },
      {
       "html": [
        "<pre>PROGRESS: | 76        | 28650    | 2326.733425  | 0.616579          | 0.501389            | 0.812461          | 0.682361            | 703.340698      |</pre>"
       ],
       "metadata": {},
       "output_type": "pyout",
       "text": [
        "PROGRESS: | 76        | 28650    | 2326.733425  | 0.616579          | 0.501389            | 0.812461          | 0.682361            | 703.340698      |"
       ]
      },
      {
       "html": [
        "<pre>PROGRESS: | 77        | 10650    | 2336.881020  | 0.626761          |                     | 0.821033          |                     | 1049.541016     |</pre>"
       ],
       "metadata": {},
       "output_type": "pyout",
       "text": [
        "PROGRESS: | 77        | 10650    | 2336.881020  | 0.626761          |                     | 0.821033          |                     | 1049.541016     |"
       ]
      },
      {
       "html": [
        "<pre>PROGRESS: | 77        | 21150    | 2347.026489  | 0.623452          |                     | 0.821087          |                     | 1034.944946     |</pre>"
       ],
       "metadata": {},
       "output_type": "pyout",
       "text": [
        "PROGRESS: | 77        | 21150    | 2347.026489  | 0.623452          |                     | 0.821087          |                     | 1034.944946     |"
       ]
      },
      {
       "html": [
        "<pre>PROGRESS: | 77        | 28800    | 2358.223501  | 0.623333          | 0.496806            | 0.819236          | 0.676944            | 683.217468      |</pre>"
       ],
       "metadata": {},
       "output_type": "pyout",
       "text": [
        "PROGRESS: | 77        | 28800    | 2358.223501  | 0.623333          | 0.496806            | 0.819236          | 0.676944            | 683.217468      |"
       ]
      },
      {
       "html": [
        "<pre>PROGRESS: | 78        | 10650    | 2368.261652  | 0.620000          |                     | 0.815869          |                     | 1060.979370     |</pre>"
       ],
       "metadata": {},
       "output_type": "pyout",
       "text": [
        "PROGRESS: | 78        | 10650    | 2368.261652  | 0.620000          |                     | 0.815869          |                     | 1060.979370     |"
       ]
      },
      {
       "html": [
        "<pre>PROGRESS: | 78        | 21000    | 2378.311069  | 0.623476          |                     | 0.821905          |                     | 1029.910522     |</pre>"
       ],
       "metadata": {},
       "output_type": "pyout",
       "text": [
        "PROGRESS: | 78        | 21000    | 2378.311069  | 0.623476          |                     | 0.821905          |                     | 1029.910522     |"
       ]
      },
      {
       "html": [
        "<pre>PROGRESS: | 78        | 28650    | 2389.450095  | 0.624887          | 0.493194            | 0.822897          | 0.680278            | 686.774048      |</pre>"
       ],
       "metadata": {},
       "output_type": "pyout",
       "text": [
        "PROGRESS: | 78        | 28650    | 2389.450095  | 0.624887          | 0.493194            | 0.822897          | 0.680278            | 686.774048      |"
       ]
      },
      {
       "html": [
        "<pre>PROGRESS: | 79        | 10350    | 2399.471542  | 0.623382          |                     | 0.821159          |                     | 1032.805420     |</pre>"
       ],
       "metadata": {},
       "output_type": "pyout",
       "text": [
        "PROGRESS: | 79        | 10350    | 2399.471542  | 0.623382          |                     | 0.821159          |                     | 1032.805420     |"
       ]
      },
      {
       "html": [
        "<pre>PROGRESS: | 79        | 21150    | 2409.591678  | 0.620851          |                     | 0.815886          |                     | 1067.177612     |</pre>"
       ],
       "metadata": {},
       "output_type": "pyout",
       "text": [
        "PROGRESS: | 79        | 21150    | 2409.591678  | 0.620851          |                     | 0.815886          |                     | 1067.177612     |"
       ]
      },
      {
       "html": [
        "<pre>PROGRESS: | 79        | 28650    | 2420.238339  | 0.618534          | 0.493194            | 0.814520          | 0.667083            | 704.445740      |</pre>"
       ],
       "metadata": {},
       "output_type": "pyout",
       "text": [
        "PROGRESS: | 79        | 28650    | 2420.238339  | 0.618534          | 0.493194            | 0.814520          | 0.667083            | 704.445740      |"
       ]
      },
      {
       "html": [
        "<pre>PROGRESS: | 80        | 10800    | 2430.300313  | 0.619352          |                     | 0.818981          |                     | 1073.366699     |</pre>"
       ],
       "metadata": {},
       "output_type": "pyout",
       "text": [
        "PROGRESS: | 80        | 10800    | 2430.300313  | 0.619352          |                     | 0.818981          |                     | 1073.366699     |"
       ]
      },
      {
       "html": [
        "<pre>PROGRESS: | 80        | 21600    | 2440.346156  | 0.625324          |                     | 0.820463          |                     | 1075.071655     |</pre>"
       ],
       "metadata": {},
       "output_type": "pyout",
       "text": [
        "PROGRESS: | 80        | 21600    | 2440.346156  | 0.625324          |                     | 0.820463          |                     | 1075.071655     |"
       ]
      },
      {
       "html": [
        "<pre>PROGRESS: | 80        | 28650    | 2451.446969  | 0.624607          | 0.487361            | 0.820175          | 0.669444            | 635.088135      |</pre>"
       ],
       "metadata": {},
       "output_type": "pyout",
       "text": [
        "PROGRESS: | 80        | 28650    | 2451.446969  | 0.624607          | 0.487361            | 0.820175          | 0.669444            | 635.088135      |"
       ]
      },
      {
       "html": [
        "<pre>PROGRESS: Checkpointing model into ~/tmp/chkpt</pre>"
       ],
       "metadata": {},
       "output_type": "pyout",
       "text": [
        "PROGRESS: Checkpointing model into ~/tmp/chkpt"
       ]
      },
      {
       "html": [
        "<pre>PROGRESS: | 81        | 10200    | 2461.461643  | 0.618529          |                     | 0.816373          |                     | 1018.553955     |</pre>"
       ],
       "metadata": {},
       "output_type": "pyout",
       "text": [
        "PROGRESS: | 81        | 10200    | 2461.461643  | 0.618529          |                     | 0.816373          |                     | 1018.553955     |"
       ]
      },
      {
       "html": [
        "<pre>PROGRESS: | 81        | 19500    | 2471.560915  | 0.619692          |                     | 0.817026          |                     | 920.859619      |</pre>"
       ],
       "metadata": {},
       "output_type": "pyout",
       "text": [
        "PROGRESS: | 81        | 19500    | 2471.560915  | 0.619692          |                     | 0.817026          |                     | 920.859619      |"
       ]
      },
      {
       "html": [
        "<pre>PROGRESS: | 81        | 28800    | 2484.753070  | 0.622986          | 0.494444            | 0.820521          | 0.673056            | 704.963440      |</pre>"
       ],
       "metadata": {},
       "output_type": "pyout",
       "text": [
        "PROGRESS: | 81        | 28800    | 2484.753070  | 0.622986          | 0.494444            | 0.820521          | 0.673056            | 704.963440      |"
       ]
      },
      {
       "html": [
        "<pre>PROGRESS: | 82        | 10800    | 2494.803292  | 0.621389          |                     | 0.820185          |                     | 1074.651733     |</pre>"
       ],
       "metadata": {},
       "output_type": "pyout",
       "text": [
        "PROGRESS: | 82        | 10800    | 2494.803292  | 0.621389          |                     | 0.820185          |                     | 1074.651733     |"
       ]
      },
      {
       "html": [
        "<pre>PROGRESS: | 82        | 21600    | 2504.917603  | 0.624028          |                     | 0.823102          |                     | 1067.795410     |</pre>"
       ],
       "metadata": {},
       "output_type": "pyout",
       "text": [
        "PROGRESS: | 82        | 21600    | 2504.917603  | 0.624028          |                     | 0.823102          |                     | 1067.795410     |"
       ]
      },
      {
       "html": [
        "<pre>PROGRESS: | 82        | 28650    | 2515.057772  | 0.622443          | 0.487917            | 0.821955          | 0.674722            | 695.253174      |</pre>"
       ],
       "metadata": {},
       "output_type": "pyout",
       "text": [
        "PROGRESS: | 82        | 28650    | 2515.057772  | 0.622443          | 0.487917            | 0.821955          | 0.674722            | 695.253174      |"
       ]
      },
      {
       "html": [
        "<pre>PROGRESS: | 83        | 10950    | 2525.136991  | 0.621279          |                     | 0.819726          |                     | 1086.412109     |</pre>"
       ],
       "metadata": {},
       "output_type": "pyout",
       "text": [
        "PROGRESS: | 83        | 10950    | 2525.136991  | 0.621279          |                     | 0.819726          |                     | 1086.412109     |"
       ]
      },
      {
       "html": [
        "<pre>PROGRESS: | 83        | 21750    | 2535.139434  | 0.628184          |                     | 0.822483          |                     | 1079.736572     |</pre>"
       ],
       "metadata": {},
       "output_type": "pyout",
       "text": [
        "PROGRESS: | 83        | 21750    | 2535.139434  | 0.628184          |                     | 0.822483          |                     | 1079.736572     |"
       ]
      },
      {
       "html": [
        "<pre>PROGRESS: | 83        | 28650    | 2545.032332  | 0.624956          | 0.491250            | 0.822234          | 0.678333            | 697.469360      |</pre>"
       ],
       "metadata": {},
       "output_type": "pyout",
       "text": [
        "PROGRESS: | 83        | 28650    | 2545.032332  | 0.624956          | 0.491250            | 0.822234          | 0.678333            | 697.469360      |"
       ]
      },
      {
       "html": [
        "<pre>PROGRESS: | 84        | 10800    | 2555.170844  | 0.622130          |                     | 0.817500          |                     | 1065.284424     |</pre>"
       ],
       "metadata": {},
       "output_type": "pyout",
       "text": [
        "PROGRESS: | 84        | 10800    | 2555.170844  | 0.622130          |                     | 0.817500          |                     | 1065.284424     |"
       ]
      },
      {
       "html": [
        "<pre>PROGRESS: | 84        | 21600    | 2565.307485  | 0.625093          |                     | 0.821250          |                     | 1065.441650     |</pre>"
       ],
       "metadata": {},
       "output_type": "pyout",
       "text": [
        "PROGRESS: | 84        | 21600    | 2565.307485  | 0.625093          |                     | 0.821250          |                     | 1065.441650     |"
       ]
      },
      {
       "html": [
        "<pre>PROGRESS: | 84        | 28800    | 2575.988129  | 0.626806          | 0.489722            | 0.822118          | 0.674028            | 674.116089      |</pre>"
       ],
       "metadata": {},
       "output_type": "pyout",
       "text": [
        "PROGRESS: | 84        | 28800    | 2575.988129  | 0.626806          | 0.489722            | 0.822118          | 0.674028            | 674.116089      |"
       ]
      },
      {
       "html": [
        "<pre>PROGRESS: | 85        | 10800    | 2586.121245  | 0.628704          |                     | 0.825648          |                     | 1065.848633     |</pre>"
       ],
       "metadata": {},
       "output_type": "pyout",
       "text": [
        "PROGRESS: | 85        | 10800    | 2586.121245  | 0.628704          |                     | 0.825648          |                     | 1065.848633     |"
       ]
      },
      {
       "html": [
        "<pre>PROGRESS: | 85        | 21600    | 2596.197295  | 0.626852          |                     | 0.821852          |                     | 1071.848633     |</pre>"
       ],
       "metadata": {},
       "output_type": "pyout",
       "text": [
        "PROGRESS: | 85        | 21600    | 2596.197295  | 0.626852          |                     | 0.821852          |                     | 1071.848633     |"
       ]
      },
      {
       "html": [
        "<pre>PROGRESS: | 85        | 28650    | 2606.769457  | 0.627819          | 0.488056            | 0.821955          | 0.675694            | 666.845215      |</pre>"
       ],
       "metadata": {},
       "output_type": "pyout",
       "text": [
        "PROGRESS: | 85        | 28650    | 2606.769457  | 0.627819          | 0.488056            | 0.821955          | 0.675694            | 666.845215      |"
       ]
      },
      {
       "html": [
        "<pre>PROGRESS: Checkpointing model into ~/tmp/chkpt</pre>"
       ],
       "metadata": {},
       "output_type": "pyout",
       "text": [
        "PROGRESS: Checkpointing model into ~/tmp/chkpt"
       ]
      },
      {
       "html": [
        "<pre>PROGRESS: | 86        | 10650    | 2616.838730  | 0.623850          |                     | 0.822911          |                     | 1057.715698     |</pre>"
       ],
       "metadata": {},
       "output_type": "pyout",
       "text": [
        "PROGRESS: | 86        | 10650    | 2616.838730  | 0.623850          |                     | 0.822911          |                     | 1057.715698     |"
       ]
      },
      {
       "html": [
        "<pre>PROGRESS: | 86        | 20700    | 2626.889676  | 0.626473          |                     | 0.825362          |                     | 999.906006      |</pre>"
       ],
       "metadata": {},
       "output_type": "pyout",
       "text": [
        "PROGRESS: | 86        | 20700    | 2626.889676  | 0.626473          |                     | 0.825362          |                     | 999.906006      |"
       ]
      },
      {
       "html": [
        "<pre>PROGRESS: | 86        | 28650    | 2638.437716  | 0.629808          | 0.486944            | 0.825934          | 0.677083            | 688.428101      |</pre>"
       ],
       "metadata": {},
       "output_type": "pyout",
       "text": [
        "PROGRESS: | 86        | 28650    | 2638.437716  | 0.629808          | 0.486944            | 0.825934          | 0.677083            | 688.428101      |"
       ]
      },
      {
       "html": [
        "<pre>PROGRESS: | 87        | 9450     | 2648.473892  | 0.629206          |                     | 0.826773          |                     | 941.743713      |</pre>"
       ],
       "metadata": {},
       "output_type": "pyout",
       "text": [
        "PROGRESS: | 87        | 9450     | 2648.473892  | 0.629206          |                     | 0.826773          |                     | 941.743713      |"
       ]
      },
      {
       "html": [
        "<pre>PROGRESS: | 87        | 21450    | 2658.477759  | 0.631049          |                     | 0.827319          |                     | 1199.533325     |</pre>"
       ],
       "metadata": {},
       "output_type": "pyout",
       "text": [
        "PROGRESS: | 87        | 21450    | 2658.477759  | 0.631049          |                     | 0.827319          |                     | 1199.533325     |"
       ]
      },
      {
       "html": [
        "<pre>PROGRESS: | 87        | 28800    | 2667.114438  | 0.629826          | 0.493611            | 0.827118          | 0.675556            | 851.021057      |</pre>"
       ],
       "metadata": {},
       "output_type": "pyout",
       "text": [
        "PROGRESS: | 87        | 28800    | 2667.114438  | 0.629826          | 0.493611            | 0.827118          | 0.675556            | 851.021057      |"
       ]
      },
      {
       "html": [
        "<pre>PROGRESS: | 88        | 11100    | 2677.242624  | 0.626216          |                     | 0.822432          |                     | 1095.991333     |</pre>"
       ],
       "metadata": {},
       "output_type": "pyout",
       "text": [
        "PROGRESS: | 88        | 11100    | 2677.242624  | 0.626216          |                     | 0.822432          |                     | 1095.991333     |"
       ]
      },
      {
       "html": [
        "<pre>PROGRESS: | 88        | 21300    | 2687.419281  | 0.626761          |                     | 0.823005          |                     | 1002.293762     |</pre>"
       ],
       "metadata": {},
       "output_type": "pyout",
       "text": [
        "PROGRESS: | 88        | 21300    | 2687.419281  | 0.626761          |                     | 0.823005          |                     | 1002.293762     |"
       ]
      },
      {
       "html": [
        "<pre>PROGRESS: | 88        | 28650    | 2696.869386  | 0.627225          | 0.487361            | 0.822932          | 0.671528            | 777.768738      |</pre>"
       ],
       "metadata": {},
       "output_type": "pyout",
       "text": [
        "PROGRESS: | 88        | 28650    | 2696.869386  | 0.627225          | 0.487361            | 0.822932          | 0.671528            | 777.768738      |"
       ]
      },
      {
       "html": [
        "<pre>PROGRESS: | 89        | 12450    | 2706.885725  | 0.628916          |                     | 0.823775          |                     | 1242.995239     |</pre>"
       ],
       "metadata": {},
       "output_type": "pyout",
       "text": [
        "PROGRESS: | 89        | 12450    | 2706.885725  | 0.628916          |                     | 0.823775          |                     | 1242.995239     |"
       ]
      },
      {
       "html": [
        "<pre>PROGRESS: | 89        | 24300    | 2717.018496  | 0.620864          |                     | 0.821728          |                     | 1169.472412     |</pre>"
       ],
       "metadata": {},
       "output_type": "pyout",
       "text": [
        "PROGRESS: | 89        | 24300    | 2717.018496  | 0.620864          |                     | 0.821728          |                     | 1169.472412     |"
       ]
      },
      {
       "html": [
        "<pre>PROGRESS: | 89        | 28650    | 2725.822014  | 0.620419          | 0.491528            | 0.822129          | 0.672083            | 494.120361      |</pre>"
       ],
       "metadata": {},
       "output_type": "pyout",
       "text": [
        "PROGRESS: | 89        | 28650    | 2725.822014  | 0.620419          | 0.491528            | 0.822129          | 0.672083            | 494.120361      |"
       ]
      },
      {
       "html": [
        "<pre>PROGRESS: | 90        | 9600     | 2735.906413  | 0.618021          |                     | 0.820417          |                     | 952.007019      |</pre>"
       ],
       "metadata": {},
       "output_type": "pyout",
       "text": [
        "PROGRESS: | 90        | 9600     | 2735.906413  | 0.618021          |                     | 0.820417          |                     | 952.007019      |"
       ]
      },
      {
       "html": [
        "<pre>PROGRESS: | 90        | 19350    | 2745.957522  | 0.627700          |                     | 0.825426          |                     | 970.042236      |</pre>"
       ],
       "metadata": {},
       "output_type": "pyout",
       "text": [
        "PROGRESS: | 90        | 19350    | 2745.957522  | 0.627700          |                     | 0.825426          |                     | 970.042236      |"
       ]
      },
      {
       "html": [
        "<pre>PROGRESS: | 90        | 28650    | 2759.841655  | 0.633333          | 0.490278            | 0.828028          | 0.674028            | 669.828979      |</pre>"
       ],
       "metadata": {},
       "output_type": "pyout",
       "text": [
        "PROGRESS: | 90        | 28650    | 2759.841655  | 0.633333          | 0.490278            | 0.828028          | 0.674028            | 669.828979      |"
       ]
      },
      {
       "html": [
        "<pre>PROGRESS: Checkpointing model into ~/tmp/chkpt</pre>"
       ],
       "metadata": {},
       "output_type": "pyout",
       "text": [
        "PROGRESS: Checkpointing model into ~/tmp/chkpt"
       ]
      },
      {
       "html": [
        "<pre>PROGRESS: | 91        | 9750     | 2769.908331  | 0.621538          |                     | 0.824923          |                     | 968.559875      |</pre>"
       ],
       "metadata": {},
       "output_type": "pyout",
       "text": [
        "PROGRESS: | 91        | 9750     | 2769.908331  | 0.621538          |                     | 0.824923          |                     | 968.559875      |"
       ]
      },
      {
       "html": [
        "<pre>PROGRESS: | 91        | 19800    | 2780.004223  | 0.625101          |                     | 0.824495          |                     | 995.454407      |</pre>"
       ],
       "metadata": {},
       "output_type": "pyout",
       "text": [
        "PROGRESS: | 91        | 19800    | 2780.004223  | 0.625101          |                     | 0.824495          |                     | 995.454407      |"
       ]
      },
      {
       "html": [
        "<pre>PROGRESS: | 91        | 28800    | 2793.185792  | 0.628750          | 0.486528            | 0.826354          | 0.671111            | 682.771179      |</pre>"
       ],
       "metadata": {},
       "output_type": "pyout",
       "text": [
        "PROGRESS: | 91        | 28800    | 2793.185792  | 0.628750          | 0.486528            | 0.826354          | 0.671111            | 682.771179      |"
       ]
      },
      {
       "html": [
        "<pre>PROGRESS: | 92        | 9750     | 2803.322223  | 0.622256          |                     | 0.823487          |                     | 961.895264      |</pre>"
       ],
       "metadata": {},
       "output_type": "pyout",
       "text": [
        "PROGRESS: | 92        | 9750     | 2803.322223  | 0.622256          |                     | 0.823487          |                     | 961.895264      |"
       ]
      },
      {
       "html": [
        "<pre>PROGRESS: | 92        | 19650    | 2813.549508  | 0.628397          |                     | 0.826972          |                     | 967.998840      |</pre>"
       ],
       "metadata": {},
       "output_type": "pyout",
       "text": [
        "PROGRESS: | 92        | 19650    | 2813.549508  | 0.628397          |                     | 0.826972          |                     | 967.998840      |"
       ]
      },
      {
       "html": [
        "<pre>PROGRESS: | 92        | 28650    | 2826.952420  | 0.632949          | 0.477778            | 0.828133          | 0.667778            | 671.495300      |</pre>"
       ],
       "metadata": {},
       "output_type": "pyout",
       "text": [
        "PROGRESS: | 92        | 28650    | 2826.952420  | 0.632949          | 0.477778            | 0.828133          | 0.667778            | 671.495300      |"
       ]
      },
      {
       "html": [
        "<pre>PROGRESS: | 93        | 9600     | 2837.015936  | 0.627292          |                     | 0.821458          |                     | 953.965515      |</pre>"
       ],
       "metadata": {},
       "output_type": "pyout",
       "text": [
        "PROGRESS: | 93        | 9600     | 2837.015936  | 0.627292          |                     | 0.821458          |                     | 953.965515      |"
       ]
      },
      {
       "html": [
        "<pre>PROGRESS: | 93        | 17700    | 2847.067107  | 0.628927          |                     | 0.822825          |                     | 805.876221      |</pre>"
       ],
       "metadata": {},
       "output_type": "pyout",
       "text": [
        "PROGRESS: | 93        | 17700    | 2847.067107  | 0.628927          |                     | 0.822825          |                     | 805.876221      |"
       ]
      },
      {
       "html": [
        "<pre>PROGRESS: | 93        | 27000    | 2857.133053  | 0.630889          |                     | 0.827296          |                     | 923.907104      |</pre>"
       ],
       "metadata": {},
       "output_type": "pyout",
       "text": [
        "PROGRESS: | 93        | 27000    | 2857.133053  | 0.630889          |                     | 0.827296          |                     | 923.907104      |"
       ]
      },
      {
       "html": [
        "<pre>PROGRESS: | 93        | 28650    | 2862.323842  | 0.631134          | 0.481528            | 0.826841          | 0.669722            | 317.870392      |</pre>"
       ],
       "metadata": {},
       "output_type": "pyout",
       "text": [
        "PROGRESS: | 93        | 28650    | 2862.323842  | 0.631134          | 0.481528            | 0.826841          | 0.669722            | 317.870392      |"
       ]
      },
      {
       "html": [
        "<pre>PROGRESS: | 94        | 10950    | 2872.390423  | 0.627580          |                     | 0.824840          |                     | 1087.781250     |</pre>"
       ],
       "metadata": {},
       "output_type": "pyout",
       "text": [
        "PROGRESS: | 94        | 10950    | 2872.390423  | 0.627580          |                     | 0.824840          |                     | 1087.781250     |"
       ]
      },
      {
       "html": [
        "<pre>PROGRESS: | 94        | 21300    | 2882.395802  | 0.631221          |                     | 0.827230          |                     | 1034.441772     |</pre>"
       ],
       "metadata": {},
       "output_type": "pyout",
       "text": [
        "PROGRESS: | 94        | 21300    | 2882.395802  | 0.631221          |                     | 0.827230          |                     | 1034.441772     |"
       ]
      },
      {
       "html": [
        "<pre>PROGRESS: | 94        | 28800    | 2892.979987  | 0.631389          | 0.490355            | 0.828993          | 0.673617            | 708.603821      |</pre>"
       ],
       "metadata": {},
       "output_type": "pyout",
       "text": [
        "PROGRESS: | 94        | 28800    | 2892.979987  | 0.631389          | 0.490355            | 0.828993          | 0.673617            | 708.603821      |"
       ]
      },
      {
       "html": [
        "<pre>PROGRESS: | 95        | 13800    | 2903.076275  | 0.631522          |                     | 0.825580          |                     | 1366.863403     |</pre>"
       ],
       "metadata": {},
       "output_type": "pyout",
       "text": [
        "PROGRESS: | 95        | 13800    | 2903.076275  | 0.631522          |                     | 0.825580          |                     | 1366.863403     |"
       ]
      },
      {
       "html": [
        "<pre>PROGRESS: | 95        | 27900    | 2913.170533  | 0.630143          |                     | 0.828853          |                     | 1396.833618     |</pre>"
       ],
       "metadata": {},
       "output_type": "pyout",
       "text": [
        "PROGRESS: | 95        | 27900    | 2913.170533  | 0.630143          |                     | 0.828853          |                     | 1396.833618     |"
       ]
      },
      {
       "html": [
        "<pre>PROGRESS: | 95        | 28650    | 2916.555040  | 0.629878          | 0.485278            | 0.828586          | 0.662361            | 221.597549      |</pre>"
       ],
       "metadata": {},
       "output_type": "pyout",
       "text": [
        "PROGRESS: | 95        | 28650    | 2916.555040  | 0.629878          | 0.485278            | 0.828586          | 0.662361            | 221.597549      |"
       ]
      },
      {
       "html": [
        "<pre>PROGRESS: Checkpointing model into ~/tmp/chkpt</pre>"
       ],
       "metadata": {},
       "output_type": "pyout",
       "text": [
        "PROGRESS: Checkpointing model into ~/tmp/chkpt"
       ]
      },
      {
       "html": [
        "<pre>PROGRESS: | 96        | 10950    | 2926.676632  | 0.631598          |                     | 0.825845          |                     | 1081.864624     |</pre>"
       ],
       "metadata": {},
       "output_type": "pyout",
       "text": [
        "PROGRESS: | 96        | 10950    | 2926.676632  | 0.631598          |                     | 0.825845          |                     | 1081.864624     |"
       ]
      },
      {
       "html": [
        "<pre>PROGRESS: | 96        | 21750    | 2936.740008  | 0.636276          |                     | 0.832092          |                     | 1073.198975     |</pre>"
       ],
       "metadata": {},
       "output_type": "pyout",
       "text": [
        "PROGRESS: | 96        | 21750    | 2936.740008  | 0.636276          |                     | 0.832092          |                     | 1073.198975     |"
       ]
      },
      {
       "html": [
        "<pre>PROGRESS: | 96        | 28650    | 2946.778370  | 0.635253          | 0.486944            | 0.830960          | 0.677778            | 687.362305      |</pre>"
       ],
       "metadata": {},
       "output_type": "pyout",
       "text": [
        "PROGRESS: | 96        | 28650    | 2946.778370  | 0.635253          | 0.486944            | 0.830960          | 0.677778            | 687.362305      |"
       ]
      },
      {
       "html": [
        "<pre>PROGRESS: | 97        | 11250    | 2956.853657  | 0.630044          |                     | 0.824267          |                     | 1116.627319     |</pre>"
       ],
       "metadata": {},
       "output_type": "pyout",
       "text": [
        "PROGRESS: | 97        | 11250    | 2956.853657  | 0.630044          |                     | 0.824267          |                     | 1116.627319     |"
       ]
      },
      {
       "html": [
        "<pre>PROGRESS: | 97        | 22350    | 2966.953783  | 0.634989          |                     | 0.826398          |                     | 1098.994263     |</pre>"
       ],
       "metadata": {},
       "output_type": "pyout",
       "text": [
        "PROGRESS: | 97        | 22350    | 2966.953783  | 0.634989          |                     | 0.826398          |                     | 1098.994263     |"
       ]
      },
      {
       "html": [
        "<pre>PROGRESS: | 97        | 28800    | 2976.459646  | 0.634549          | 0.484167            | 0.827708          | 0.668194            | 678.527954      |</pre>"
       ],
       "metadata": {},
       "output_type": "pyout",
       "text": [
        "PROGRESS: | 97        | 28800    | 2976.459646  | 0.634549          | 0.484167            | 0.827708          | 0.668194            | 678.527954      |"
       ]
      },
      {
       "html": [
        "<pre>PROGRESS: | 98        | 10950    | 2986.583440  | 0.636256          |                     | 0.830137          |                     | 1081.640991     |</pre>"
       ],
       "metadata": {},
       "output_type": "pyout",
       "text": [
        "PROGRESS: | 98        | 10950    | 2986.583440  | 0.636256          |                     | 0.830137          |                     | 1081.640991     |"
       ]
      },
      {
       "html": [
        "<pre>PROGRESS: | 98        | 21300    | 2996.658786  | 0.636948          |                     | 0.831925          |                     | 1027.260132     |</pre>"
       ],
       "metadata": {},
       "output_type": "pyout",
       "text": [
        "PROGRESS: | 98        | 21300    | 2996.658786  | 0.636948          |                     | 0.831925          |                     | 1027.260132     |"
       ]
      },
      {
       "html": [
        "<pre>PROGRESS: | 98        | 28650    | 3009.915008  | 0.637347          | 0.485000            | 0.832600          | 0.672500            | 554.456299      |</pre>"
       ],
       "metadata": {},
       "output_type": "pyout",
       "text": [
        "PROGRESS: | 98        | 28650    | 3009.915008  | 0.637347          | 0.485000            | 0.832600          | 0.672500            | 554.456299      |"
       ]
      },
      {
       "html": [
        "<pre>PROGRESS: | 99        | 10950    | 3019.927720  | 0.634977          |                     | 0.828493          |                     | 1093.634521     |</pre>"
       ],
       "metadata": {},
       "output_type": "pyout",
       "text": [
        "PROGRESS: | 99        | 10950    | 3019.927720  | 0.634977          |                     | 0.828493          |                     | 1093.634521     |"
       ]
      },
      {
       "html": [
        "<pre>PROGRESS: | 99        | 23850    | 3030.028869  | 0.636772          |                     | 0.829602          |                     | 1277.082520     |</pre>"
       ],
       "metadata": {},
       "output_type": "pyout",
       "text": [
        "PROGRESS: | 99        | 23850    | 3030.028869  | 0.636772          |                     | 0.829602          |                     | 1277.082520     |"
       ]
      },
      {
       "html": [
        "<pre>PROGRESS: | 99        | 28650    | 3038.105527  | 0.636230          | 0.483194            | 0.830192          | 0.677083            | 594.304565      |</pre>"
       ],
       "metadata": {},
       "output_type": "pyout",
       "text": [
        "PROGRESS: | 99        | 28650    | 3038.105527  | 0.636230          | 0.483194            | 0.830192          | 0.677083            | 594.304565      |"
       ]
      },
      {
       "html": [
        "<pre>PROGRESS: | 100       | 11250    | 3048.214504  | 0.645333          |                     | 0.840089          |                     | 1112.897217     |</pre>"
       ],
       "metadata": {},
       "output_type": "pyout",
       "text": [
        "PROGRESS: | 100       | 11250    | 3048.214504  | 0.645333          |                     | 0.840089          |                     | 1112.897217     |"
       ]
      },
      {
       "html": [
        "<pre>PROGRESS: | 100       | 19950    | 3058.254987  | 0.638847          |                     | 0.836591          |                     | 866.492249      |</pre>"
       ],
       "metadata": {},
       "output_type": "pyout",
       "text": [
        "PROGRESS: | 100       | 19950    | 3058.254987  | 0.638847          |                     | 0.836591          |                     | 866.492249      |"
       ]
      },
      {
       "html": [
        "<pre>PROGRESS: | 100       | 28650    | 3073.264100  | 0.637243          | 0.489722            | 0.836021          | 0.682778            | 579.647522      |</pre>"
       ],
       "metadata": {},
       "output_type": "pyout",
       "text": [
        "PROGRESS: | 100       | 28650    | 3073.264100  | 0.637243          | 0.489722            | 0.836021          | 0.682778            | 579.647522      |"
       ]
      },
      {
       "html": [
        "<pre>PROGRESS: Checkpointing model into ~/tmp/chkpt</pre>"
       ],
       "metadata": {},
       "output_type": "pyout",
       "text": [
        "PROGRESS: Checkpointing model into ~/tmp/chkpt"
       ]
      },
      {
       "html": [
        "<pre>PROGRESS: +-----------+----------+--------------+-------------------+---------------------+-------------------+---------------------+-----------------+</pre>"
       ],
       "metadata": {},
       "output_type": "pyout",
       "text": [
        "PROGRESS: +-----------+----------+--------------+-------------------+---------------------+-------------------+---------------------+-----------------+"
       ]
=======
     "metadata": {},
     "outputs": [
      {
       "output_type": "pyout",
       "html": [
        "<pre>PROGRESS: Creating neuralnet using device = cpu</pre>"
       ],
       "text": [
        "PROGRESS: Creating neuralnet using device = cpu"
       ],
       "metadata": {}
      },
      {
       "output_type": "pyout",
       "html": [
        "<pre>PROGRESS: +-----------+----------+--------------+-------------------+---------------------+-------------------+---------------------+-----------------+</pre>"
       ],
       "text": [
        "PROGRESS: +-----------+----------+--------------+-------------------+---------------------+-------------------+---------------------+-----------------+"
       ],
       "metadata": {}
      },
      {
       "output_type": "pyout",
       "html": [
        "<pre>PROGRESS: | Iteration | Examples | Elapsed Time | Training-accuracy | Validation-accuracy | Training-recall@2 | Validation-recall@2 | Examples/second |</pre>"
       ],
       "text": [
        "PROGRESS: | Iteration | Examples | Elapsed Time | Training-accuracy | Validation-accuracy | Training-recall@2 | Validation-recall@2 | Examples/second |"
       ],
       "metadata": {}
      },
      {
       "output_type": "pyout",
       "html": [
        "<pre>PROGRESS: +-----------+----------+--------------+-------------------+---------------------+-------------------+---------------------+-----------------+</pre>"
       ],
       "text": [
        "PROGRESS: +-----------+----------+--------------+-------------------+---------------------+-------------------+---------------------+-----------------+"
       ],
       "metadata": {}
      },
      {
       "output_type": "pyout",
       "html": [
        "<pre>PROGRESS: | 1         | 12450    | 10.091386    | 0.246506          |                     | 0.440080          |                     | 1233.728149     |</pre>"
       ],
       "text": [
        "PROGRESS: | 1         | 12450    | 10.091386    | 0.246506          |                     | 0.440080          |                     | 1233.728149     |"
       ],
       "metadata": {}
      },
      {
       "output_type": "pyout",
       "html": [
        "<pre>PROGRESS: | 1         | 25500    | 20.149049    | 0.284353          |                     | 0.478784          |                     | 1297.516235     |</pre>"
       ],
       "text": [
        "PROGRESS: | 1         | 25500    | 20.149049    | 0.284353          |                     | 0.478784          |                     | 1297.516235     |"
       ],
       "metadata": {}
      },
      {
       "output_type": "pyout",
       "html": [
        "<pre>PROGRESS: | 1         | 28800    | 25.690810    | 0.290000          | 0.383333            | 0.484271          | 0.572083            | 595.477844      |</pre>"
       ],
       "text": [
        "PROGRESS: | 1         | 28800    | 25.690810    | 0.290000          | 0.383333            | 0.484271          | 0.572083            | 595.477844      |"
       ],
       "metadata": {}
      },
      {
       "output_type": "pyout",
       "html": [
        "<pre>PROGRESS: | 2         | 12450    | 35.763987    | 0.347791          |                     | 0.542570          |                     | 1235.977905     |</pre>"
       ],
       "text": [
        "PROGRESS: | 2         | 12450    | 35.763987    | 0.347791          |                     | 0.542570          |                     | 1235.977905     |"
       ],
       "metadata": {}
      },
      {
       "output_type": "pyout",
       "html": [
        "<pre>PROGRESS: | 2         | 25800    | 45.869352    | 0.354884          |                     | 0.549109          |                     | 1321.080566     |</pre>"
       ],
       "text": [
        "PROGRESS: | 2         | 25800    | 45.869352    | 0.354884          |                     | 0.549109          |                     | 1321.080566     |"
       ],
       "metadata": {}
      },
      {
       "output_type": "pyout",
       "html": [
        "<pre>PROGRESS: | 2         | 28650    | 50.937873    | 0.356475          | 0.403889            | 0.551414          | 0.597222            | 562.293335      |</pre>"
       ],
       "text": [
        "PROGRESS: | 2         | 28650    | 50.937873    | 0.356475          | 0.403889            | 0.551414          | 0.597222            | 562.293335      |"
       ],
       "metadata": {}
      },
      {
       "output_type": "pyout",
       "html": [
        "<pre>PROGRESS: | 3         | 13800    | 61.040035    | 0.371812          |                     | 0.573768          |                     | 1366.069336     |</pre>"
       ],
       "text": [
        "PROGRESS: | 3         | 13800    | 61.040035    | 0.371812          |                     | 0.573768          |                     | 1366.069336     |"
       ],
       "metadata": {}
      },
      {
       "output_type": "pyout",
       "html": [
        "<pre>PROGRESS: | 3         | 27600    | 71.088759    | 0.376739          |                     | 0.578116          |                     | 1373.308594     |</pre>"
       ],
       "text": [
        "PROGRESS: | 3         | 27600    | 71.088759    | 0.376739          |                     | 0.578116          |                     | 1373.308594     |"
       ],
       "metadata": {}
      },
      {
       "output_type": "pyout",
       "html": [
        "<pre>PROGRESS: | 3         | 28650    | 74.758820    | 0.377277          | 0.418611            | 0.578220          | 0.607639            | 286.098175      |</pre>"
       ],
       "text": [
        "PROGRESS: | 3         | 28650    | 74.758820    | 0.377277          | 0.418611            | 0.578220          | 0.607639            | 286.098175      |"
       ],
       "metadata": {}
      },
      {
       "output_type": "pyout",
       "html": [
        "<pre>PROGRESS: | 4         | 13650    | 84.809879    | 0.389158          |                     | 0.587106          |                     | 1358.088867     |</pre>"
       ],
       "text": [
        "PROGRESS: | 4         | 13650    | 84.809879    | 0.389158          |                     | 0.587106          |                     | 1358.088867     |"
       ],
       "metadata": {}
      },
      {
       "output_type": "pyout",
       "html": [
        "<pre>PROGRESS: | 4         | 27600    | 94.910594    | 0.397572          |                     | 0.594203          |                     | 1381.090332     |</pre>"
       ],
       "text": [
        "PROGRESS: | 4         | 27600    | 94.910594    | 0.397572          |                     | 0.594203          |                     | 1381.090332     |"
       ],
       "metadata": {}
      },
      {
       "output_type": "pyout",
       "html": [
        "<pre>PROGRESS: | 4         | 28800    | 98.664749    | 0.397708          | 0.422639            | 0.594826          | 0.615694            | 319.645233      |</pre>"
       ],
       "text": [
        "PROGRESS: | 4         | 28800    | 98.664749    | 0.397708          | 0.422639            | 0.594826          | 0.615694            | 319.645233      |"
       ],
       "metadata": {}
      },
      {
       "output_type": "pyout",
       "html": [
        "<pre>PROGRESS: | 5         | 13800    | 108.732341   | 0.409855          |                     | 0.608116          |                     | 1370.759521     |</pre>"
       ],
       "text": [
        "PROGRESS: | 5         | 13800    | 108.732341   | 0.409855          |                     | 0.608116          |                     | 1370.759521     |"
       ],
       "metadata": {}
      },
      {
       "output_type": "pyout",
       "html": [
        "<pre>PROGRESS: | 5         | 27300    | 118.782081   | 0.413993          |                     | 0.614139          |                     | 1343.318359     |</pre>"
       ],
       "text": [
        "PROGRESS: | 5         | 27300    | 118.782081   | 0.413993          |                     | 0.614139          |                     | 1343.318359     |"
       ],
       "metadata": {}
      },
      {
       "output_type": "pyout",
       "html": [
        "<pre>PROGRESS: | 5         | 28650    | 122.855435   | 0.414311          | 0.436111            | 0.614415          | 0.630972            | 331.421631      |</pre>"
       ],
       "text": [
        "PROGRESS: | 5         | 28650    | 122.855435   | 0.414311          | 0.436111            | 0.614415          | 0.630972            | 331.421631      |"
       ],
       "metadata": {}
      },
      {
       "output_type": "pyout",
       "html": [
        "<pre>PROGRESS: Checkpointing model into ~/tmp/chkpt</pre>"
       ],
       "text": [
        "PROGRESS: Checkpointing model into ~/tmp/chkpt"
       ],
       "metadata": {}
      },
      {
       "output_type": "pyout",
       "html": [
        "<pre>PROGRESS: | 6         | 13800    | 132.904472   | 0.419565          |                     | 0.619275          |                     | 1373.295654     |</pre>"
       ],
       "text": [
        "PROGRESS: | 6         | 13800    | 132.904472   | 0.419565          |                     | 0.619275          |                     | 1373.295654     |"
       ],
       "metadata": {}
      },
      {
       "output_type": "pyout",
       "html": [
        "<pre>PROGRESS: | 6         | 27600    | 142.929782   | 0.423659          |                     | 0.624565          |                     | 1376.515991     |</pre>"
       ],
       "text": [
        "PROGRESS: | 6         | 27600    | 142.929782   | 0.423659          |                     | 0.624565          |                     | 1376.515991     |"
       ],
       "metadata": {}
      },
      {
       "output_type": "pyout",
       "html": [
        "<pre>PROGRESS: | 6         | 28650    | 146.574194   | 0.424782          | 0.448472            | 0.625061          | 0.640972            | 288.111755      |</pre>"
       ],
       "text": [
        "PROGRESS: | 6         | 28650    | 146.574194   | 0.424782          | 0.448472            | 0.625061          | 0.640972            | 288.111755      |"
       ],
       "metadata": {}
      },
      {
       "output_type": "pyout",
       "html": [
        "<pre>PROGRESS: | 7         | 13950    | 156.684742   | 0.424731          |                     | 0.624588          |                     | 1379.771729     |</pre>"
       ],
       "text": [
        "PROGRESS: | 7         | 13950    | 156.684742   | 0.424731          |                     | 0.624588          |                     | 1379.771729     |"
       ],
       "metadata": {}
      },
      {
       "output_type": "pyout",
       "html": [
        "<pre>PROGRESS: | 7         | 27900    | 166.698072   | 0.436165          |                     | 0.632867          |                     | 1393.142944     |</pre>"
       ],
       "text": [
        "PROGRESS: | 7         | 27900    | 166.698072   | 0.436165          |                     | 0.632867          |                     | 1393.142944     |"
       ],
       "metadata": {}
      },
      {
       "output_type": "pyout",
       "html": [
        "<pre>PROGRESS: | 7         | 28800    | 170.225036   | 0.435903          | 0.444583            | 0.632187          | 0.638194            | 255.176544      |</pre>"
       ],
       "text": [
        "PROGRESS: | 7         | 28800    | 170.225036   | 0.435903          | 0.444583            | 0.632187          | 0.638194            | 255.176544      |"
       ],
       "metadata": {}
      },
      {
       "output_type": "pyout",
       "html": [
        "<pre>PROGRESS: | 8         | 13950    | 180.325062   | 0.432258          |                     | 0.633978          |                     | 1381.209473     |</pre>"
       ],
       "text": [
        "PROGRESS: | 8         | 13950    | 180.325062   | 0.432258          |                     | 0.633978          |                     | 1381.209473     |"
       ],
       "metadata": {}
      },
      {
       "output_type": "pyout",
       "html": [
        "<pre>PROGRESS: | 8         | 27900    | 190.351994   | 0.440108          |                     | 0.639247          |                     | 1391.253052     |</pre>"
       ],
       "text": [
        "PROGRESS: | 8         | 27900    | 190.351994   | 0.440108          |                     | 0.639247          |                     | 1391.253052     |"
       ],
       "metadata": {}
      },
      {
       "output_type": "pyout",
       "html": [
        "<pre>PROGRESS: | 8         | 28650    | 193.750302   | 0.440035          | 0.447361            | 0.639721          | 0.641528            | 220.697540      |</pre>"
       ],
       "text": [
        "PROGRESS: | 8         | 28650    | 193.750302   | 0.440035          | 0.447361            | 0.639721          | 0.641528            | 220.697540      |"
       ],
       "metadata": {}
      },
      {
       "output_type": "pyout",
       "html": [
        "<pre>PROGRESS: | 9         | 13800    | 203.817147   | 0.447826          |                     | 0.646884          |                     | 1370.860352     |</pre>"
       ],
       "text": [
        "PROGRESS: | 9         | 13800    | 203.817147   | 0.447826          |                     | 0.646884          |                     | 1370.860352     |"
       ],
       "metadata": {}
      },
      {
       "output_type": "pyout",
       "html": [
        "<pre>PROGRESS: | 9         | 27750    | 213.849355   | 0.452685          |                     | 0.654667          |                     | 1390.521240     |</pre>"
       ],
       "text": [
        "PROGRESS: | 9         | 27750    | 213.849355   | 0.452685          |                     | 0.654667          |                     | 1390.521240     |"
       ],
       "metadata": {}
      },
      {
       "output_type": "pyout",
       "html": [
        "<pre>PROGRESS: | 9         | 28650    | 217.390865   | 0.452880          | 0.457083            | 0.654695          | 0.654722            | 254.128387      |</pre>"
       ],
       "text": [
        "PROGRESS: | 9         | 28650    | 217.390865   | 0.452880          | 0.457083            | 0.654695          | 0.654722            | 254.128387      |"
       ],
       "metadata": {}
      },
      {
       "output_type": "pyout",
       "html": [
        "<pre>PROGRESS: | 10        | 13950    | 227.452953   | 0.452186          |                     | 0.651254          |                     | 1386.415771     |</pre>"
       ],
       "text": [
        "PROGRESS: | 10        | 13950    | 227.452953   | 0.452186          |                     | 0.651254          |                     | 1386.415771     |"
       ],
       "metadata": {}
      },
      {
       "output_type": "pyout",
       "html": [
        "<pre>PROGRESS: | 10        | 27900    | 237.484867   | 0.459857          |                     | 0.657025          |                     | 1390.562378     |</pre>"
       ],
       "text": [
        "PROGRESS: | 10        | 27900    | 237.484867   | 0.459857          |                     | 0.657025          |                     | 1390.562378     |"
       ],
       "metadata": {}
      },
      {
       "output_type": "pyout",
       "html": [
        "<pre>PROGRESS: | 10        | 28650    | 240.928777   | 0.459686          | 0.468333            | 0.656579          | 0.666111            | 217.775223      |</pre>"
       ],
       "text": [
        "PROGRESS: | 10        | 28650    | 240.928777   | 0.459686          | 0.468333            | 0.656579          | 0.666111            | 217.775223      |"
       ],
       "metadata": {}
      },
      {
       "output_type": "pyout",
       "html": [
        "<pre>PROGRESS: Checkpointing model into ~/tmp/chkpt</pre>"
       ],
       "text": [
        "PROGRESS: Checkpointing model into ~/tmp/chkpt"
       ],
       "metadata": {}
      },
      {
       "output_type": "pyout",
       "html": [
        "<pre>PROGRESS: | 11        | 13950    | 251.003023   | 0.459857          |                     | 0.663728          |                     | 1384.743652     |</pre>"
       ],
       "text": [
        "PROGRESS: | 11        | 13950    | 251.003023   | 0.459857          |                     | 0.663728          |                     | 1384.743652     |"
       ],
       "metadata": {}
      },
      {
       "output_type": "pyout",
       "html": [
        "<pre>PROGRESS: | 11        | 27750    | 261.025966   | 0.467748          |                     | 0.668829          |                     | 1376.841309     |</pre>"
       ],
       "text": [
        "PROGRESS: | 11        | 27750    | 261.025966   | 0.467748          |                     | 0.668829          |                     | 1376.841309     |"
       ],
       "metadata": {}
      },
      {
       "output_type": "pyout",
       "html": [
        "<pre>PROGRESS: | 11        | 28800    | 264.653954   | 0.467674          | 0.471667            | 0.668750          | 0.664028            | 289.416046      |</pre>"
       ],
       "text": [
        "PROGRESS: | 11        | 28800    | 264.653954   | 0.467674          | 0.471667            | 0.668750          | 0.664028            | 289.416046      |"
       ],
       "metadata": {}
      },
      {
       "output_type": "pyout",
       "html": [
        "<pre>PROGRESS: | 12        | 13950    | 274.690441   | 0.470036          |                     | 0.671685          |                     | 1389.951172     |</pre>"
       ],
       "text": [
        "PROGRESS: | 12        | 13950    | 274.690441   | 0.470036          |                     | 0.671685          |                     | 1389.951172     |"
       ],
       "metadata": {}
      },
      {
       "output_type": "pyout",
       "html": [
        "<pre>PROGRESS: | 12        | 27900    | 284.755601   | 0.472832          |                     | 0.670753          |                     | 1385.969360     |</pre>"
       ],
       "text": [
        "PROGRESS: | 12        | 27900    | 284.755601   | 0.472832          |                     | 0.670753          |                     | 1385.969360     |"
       ],
       "metadata": {}
      },
      {
       "output_type": "pyout",
       "html": [
        "<pre>PROGRESS: | 12        | 28650    | 288.146305   | 0.473403          | 0.475694            | 0.670716          | 0.672917            | 221.192413      |</pre>"
       ],
       "text": [
        "PROGRESS: | 12        | 28650    | 288.146305   | 0.473403          | 0.475694            | 0.670716          | 0.672917            | 221.192413      |"
       ],
       "metadata": {}
      },
      {
       "output_type": "pyout",
       "html": [
        "<pre>PROGRESS: | 13        | 13800    | 298.161002   | 0.474348          |                     | 0.674783          |                     | 1377.998779     |</pre>"
       ],
       "text": [
        "PROGRESS: | 13        | 13800    | 298.161002   | 0.474348          |                     | 0.674783          |                     | 1377.998779     |"
       ],
       "metadata": {}
      },
      {
       "output_type": "pyout",
       "html": [
        "<pre>PROGRESS: | 13        | 27750    | 308.206343   | 0.479063          |                     | 0.679604          |                     | 1388.703735     |</pre>"
       ],
       "text": [
        "PROGRESS: | 13        | 27750    | 308.206343   | 0.479063          |                     | 0.679604          |                     | 1388.703735     |"
       ],
       "metadata": {}
      },
      {
       "output_type": "pyout",
       "html": [
        "<pre>PROGRESS: | 13        | 28650    | 311.737288   | 0.479825          | 0.468472            | 0.679442          | 0.670000            | 254.888687      |</pre>"
       ],
       "text": [
        "PROGRESS: | 13        | 28650    | 311.737288   | 0.479825          | 0.468472            | 0.679442          | 0.670000            | 254.888687      |"
       ],
       "metadata": {}
      },
      {
       "output_type": "pyout",
       "html": [
        "<pre>PROGRESS: | 14        | 13950    | 321.821962   | 0.475914          |                     | 0.679570          |                     | 1383.312012     |</pre>"
       ],
       "text": [
        "PROGRESS: | 14        | 13950    | 321.821962   | 0.475914          |                     | 0.679570          |                     | 1383.312012     |"
       ],
       "metadata": {}
      },
      {
       "output_type": "pyout",
       "html": [
        "<pre>PROGRESS: | 14        | 27900    | 331.825155   | 0.481290          |                     | 0.685197          |                     | 1394.554443     |</pre>"
       ],
       "text": [
        "PROGRESS: | 14        | 27900    | 331.825155   | 0.481290          |                     | 0.685197          |                     | 1394.554443     |"
       ],
       "metadata": {}
      },
      {
       "output_type": "pyout",
       "html": [
        "<pre>PROGRESS: | 14        | 28800    | 335.360938   | 0.481354          | 0.472639            | 0.685417          | 0.668194            | 254.540070      |</pre>"
       ],
       "text": [
        "PROGRESS: | 14        | 28800    | 335.360938   | 0.481354          | 0.472639            | 0.685417          | 0.668194            | 254.540070      |"
       ],
       "metadata": {}
      },
      {
       "output_type": "pyout",
       "html": [
        "<pre>PROGRESS: | 15        | 13950    | 345.401151   | 0.481935          |                     | 0.683656          |                     | 1389.435913     |</pre>"
       ],
       "text": [
        "PROGRESS: | 15        | 13950    | 345.401151   | 0.481935          |                     | 0.683656          |                     | 1389.435913     |"
       ],
       "metadata": {}
      },
      {
       "output_type": "pyout",
       "html": [
        "<pre>PROGRESS: | 15        | 28050    | 355.489683   | 0.489768          |                     | 0.690267          |                     | 1397.626831     |</pre>"
       ],
       "text": [
        "PROGRESS: | 15        | 28050    | 355.489683   | 0.489768          |                     | 0.690267          |                     | 1397.626831     |"
       ],
       "metadata": {}
      },
      {
       "output_type": "pyout",
       "html": [
        "<pre>PROGRESS: | 15        | 28650    | 358.812094   | 0.489319          | 0.477778            | 0.689773          | 0.676528            | 180.591309      |</pre>"
       ],
       "text": [
        "PROGRESS: | 15        | 28650    | 358.812094   | 0.489319          | 0.477778            | 0.689773          | 0.676528            | 180.591309      |"
       ],
       "metadata": {}
      },
      {
       "output_type": "pyout",
       "html": [
        "<pre>PROGRESS: Checkpointing model into ~/tmp/chkpt</pre>"
       ],
       "text": [
        "PROGRESS: Checkpointing model into ~/tmp/chkpt"
       ],
       "metadata": {}
      },
      {
       "output_type": "pyout",
       "html": [
        "<pre>PROGRESS: | 16        | 13950    | 368.842060   | 0.486093          |                     | 0.690824          |                     | 1390.856445     |</pre>"
       ],
       "text": [
        "PROGRESS: | 16        | 13950    | 368.842060   | 0.486093          |                     | 0.690824          |                     | 1390.856445     |"
       ],
       "metadata": {}
      },
      {
       "output_type": "pyout",
       "html": [
        "<pre>PROGRESS: | 16        | 28050    | 378.942733   | 0.491266          |                     | 0.694367          |                     | 1395.946411     |</pre>"
       ],
       "text": [
        "PROGRESS: | 16        | 28050    | 378.942733   | 0.491266          |                     | 0.694367          |                     | 1395.946411     |"
       ],
       "metadata": {}
      },
      {
       "output_type": "pyout",
       "html": [
        "<pre>PROGRESS: | 16        | 28650    | 382.286640   | 0.491623          | 0.482917            | 0.694136          | 0.675000            | 179.430405      |</pre>"
       ],
       "text": [
        "PROGRESS: | 16        | 28650    | 382.286640   | 0.491623          | 0.482917            | 0.694136          | 0.675000            | 179.430405      |"
       ],
       "metadata": {}
      },
      {
       "output_type": "pyout",
       "html": [
        "<pre>PROGRESS: | 17        | 13950    | 392.302106   | 0.492473          |                     | 0.691971          |                     | 1392.871094     |</pre>"
       ],
       "text": [
        "PROGRESS: | 17        | 13950    | 392.302106   | 0.492473          |                     | 0.691971          |                     | 1392.871094     |"
       ],
       "metadata": {}
      },
      {
       "output_type": "pyout",
       "html": [
        "<pre>PROGRESS: | 17        | 27900    | 402.350318   | 0.499355          |                     | 0.696165          |                     | 1388.307007     |</pre>"
       ],
       "text": [
        "PROGRESS: | 17        | 27900    | 402.350318   | 0.499355          |                     | 0.696165          |                     | 1388.307007     |"
       ],
       "metadata": {}
      },
      {
       "output_type": "pyout",
       "html": [
        "<pre>PROGRESS: | 17        | 28800    | 405.836665   | 0.499444          | 0.483611            | 0.696007          | 0.678750            | 258.149261      |</pre>"
       ],
       "text": [
        "PROGRESS: | 17        | 28800    | 405.836665   | 0.499444          | 0.483611            | 0.696007          | 0.678750            | 258.149261      |"
       ],
       "metadata": {}
      },
      {
       "output_type": "pyout",
       "html": [
        "<pre>PROGRESS: | 18        | 13950    | 415.895946   | 0.500430          |                     | 0.706452          |                     | 1386.802856     |</pre>"
       ],
       "text": [
        "PROGRESS: | 18        | 13950    | 415.895946   | 0.500430          |                     | 0.706452          |                     | 1386.802856     |"
       ],
       "metadata": {}
      },
      {
       "output_type": "pyout",
       "html": [
        "<pre>PROGRESS: | 18        | 27900    | 425.963029   | 0.504839          |                     | 0.707025          |                     | 1385.704224     |</pre>"
       ],
       "text": [
        "PROGRESS: | 18        | 27900    | 425.963029   | 0.504839          |                     | 0.707025          |                     | 1385.704224     |"
       ],
       "metadata": {}
      },
      {
       "output_type": "pyout",
       "html": [
        "<pre>PROGRESS: | 18        | 28650    | 429.386434   | 0.505061          | 0.483333            | 0.707085          | 0.673889            | 219.079681      |</pre>"
       ],
       "text": [
        "PROGRESS: | 18        | 28650    | 429.386434   | 0.505061          | 0.483333            | 0.707085          | 0.673889            | 219.079681      |"
       ],
       "metadata": {}
      },
      {
       "output_type": "pyout",
       "html": [
        "<pre>PROGRESS: | 19        | 13950    | 439.417535   | 0.502796          |                     | 0.704229          |                     | 1390.699829     |</pre>"
       ],
       "text": [
        "PROGRESS: | 19        | 13950    | 439.417535   | 0.502796          |                     | 0.704229          |                     | 1390.699829     |"
       ],
       "metadata": {}
      },
      {
       "output_type": "pyout",
       "html": [
        "<pre>PROGRESS: | 19        | 27900    | 449.490215   | 0.509283          |                     | 0.709892          |                     | 1384.934326     |</pre>"
       ],
       "text": [
        "PROGRESS: | 19        | 27900    | 449.490215   | 0.509283          |                     | 0.709892          |                     | 1384.934326     |"
       ],
       "metadata": {}
      },
      {
       "output_type": "pyout",
       "html": [
        "<pre>PROGRESS: | 19        | 28650    | 452.879062   | 0.509738          | 0.491206            | 0.710262          | 0.685390            | 221.313690      |</pre>"
       ],
       "text": [
        "PROGRESS: | 19        | 28650    | 452.879062   | 0.509738          | 0.491206            | 0.710262          | 0.685390            | 221.313690      |"
       ],
       "metadata": {}
      },
      {
       "output_type": "pyout",
       "html": [
        "<pre>PROGRESS: | 20        | 13950    | 462.903236   | 0.506308          |                     | 0.703513          |                     | 1391.659912     |</pre>"
       ],
       "text": [
        "PROGRESS: | 20        | 13950    | 462.903236   | 0.506308          |                     | 0.703513          |                     | 1391.659912     |"
       ],
       "metadata": {}
      },
      {
       "output_type": "pyout",
       "html": [
        "<pre>PROGRESS: | 20        | 28050    | 473.004736   | 0.508057          |                     | 0.707308          |                     | 1395.832397     |</pre>"
       ],
       "text": [
        "PROGRESS: | 20        | 28050    | 473.004736   | 0.508057          |                     | 0.707308          |                     | 1395.832397     |"
       ],
       "metadata": {}
      },
      {
       "output_type": "pyout",
       "html": [
        "<pre>PROGRESS: | 20        | 28650    | 476.285616   | 0.508168          | 0.487917            | 0.706597          | 0.677500            | 182.877426      |</pre>"
       ],
       "text": [
        "PROGRESS: | 20        | 28650    | 476.285616   | 0.508168          | 0.487917            | 0.706597          | 0.677500            | 182.877426      |"
       ],
       "metadata": {}
      },
      {
       "output_type": "pyout",
       "html": [
        "<pre>PROGRESS: Checkpointing model into ~/tmp/chkpt</pre>"
       ],
       "text": [
        "PROGRESS: Checkpointing model into ~/tmp/chkpt"
       ],
       "metadata": {}
      },
      {
       "output_type": "pyout",
       "html": [
        "<pre>PROGRESS: | 21        | 13950    | 486.296989   | 0.507957          |                     | 0.708029          |                     | 1393.440430     |</pre>"
       ],
       "text": [
        "PROGRESS: | 21        | 13950    | 486.296989   | 0.507957          |                     | 0.708029          |                     | 1393.440430     |"
       ],
       "metadata": {}
      },
      {
       "output_type": "pyout",
       "html": [
        "<pre>PROGRESS: | 21        | 28050    | 496.397341   | 0.515472          |                     | 0.713333          |                     | 1395.991089     |</pre>"
       ],
       "text": [
        "PROGRESS: | 21        | 28050    | 496.397341   | 0.515472          |                     | 0.713333          |                     | 1395.991089     |"
       ],
       "metadata": {}
      },
      {
       "output_type": "pyout",
       "html": [
        "<pre>PROGRESS: | 21        | 28800    | 499.803826   | 0.515104          | 0.487639            | 0.712951          | 0.679444            | 220.167786      |</pre>"
       ],
       "text": [
        "PROGRESS: | 21        | 28800    | 499.803826   | 0.515104          | 0.487639            | 0.712951          | 0.679444            | 220.167786      |"
       ],
       "metadata": {}
      },
      {
       "output_type": "pyout",
       "html": [
        "<pre>PROGRESS: | 22        | 14100    | 509.844766   | 0.514752          |                     | 0.713475          |                     | 1404.276855     |</pre>"
       ],
       "text": [
        "PROGRESS: | 22        | 14100    | 509.844766   | 0.514752          |                     | 0.713475          |                     | 1404.276855     |"
       ],
       "metadata": {}
      },
      {
       "output_type": "pyout",
       "html": [
        "<pre>PROGRESS: | 22        | 28200    | 519.909152   | 0.520745          |                     | 0.716986          |                     | 1400.979492     |</pre>"
       ],
       "text": [
        "PROGRESS: | 22        | 28200    | 519.909152   | 0.520745          |                     | 0.716986          |                     | 1400.979492     |"
       ],
       "metadata": {}
      },
      {
       "output_type": "pyout",
       "html": [
        "<pre>PROGRESS: | 22        | 28650    | 523.095344   | 0.520698          | 0.491389            | 0.716789          | 0.683889            | 141.234161      |</pre>"
       ],
       "text": [
        "PROGRESS: | 22        | 28650    | 523.095344   | 0.520698          | 0.491389            | 0.716789          | 0.683889            | 141.234161      |"
       ],
       "metadata": {}
      },
      {
       "output_type": "pyout",
       "html": [
        "<pre>PROGRESS: | 23        | 14100    | 533.146130   | 0.519787          |                     | 0.717943          |                     | 1402.901001     |</pre>"
       ],
       "text": [
        "PROGRESS: | 23        | 14100    | 533.146130   | 0.519787          |                     | 0.717943          |                     | 1402.901001     |"
       ],
       "metadata": {}
      },
      {
       "output_type": "pyout",
       "html": [
        "<pre>PROGRESS: | 23        | 28200    | 543.233573   | 0.524149          |                     | 0.722766          |                     | 1397.777222     |</pre>"
       ],
       "text": [
        "PROGRESS: | 23        | 28200    | 543.233573   | 0.524149          |                     | 0.722766          |                     | 1397.777222     |"
       ],
       "metadata": {}
      },
      {
       "output_type": "pyout",
       "html": [
        "<pre>PROGRESS: | 23        | 28650    | 546.416494   | 0.524154          | 0.496667            | 0.723106          | 0.687778            | 141.379349      |</pre>"
       ],
       "text": [
        "PROGRESS: | 23        | 28650    | 546.416494   | 0.524154          | 0.496667            | 0.723106          | 0.687778            | 141.379349      |"
       ],
       "metadata": {}
      },
      {
       "output_type": "pyout",
       "html": [
        "<pre>PROGRESS: | 24        | 13950    | 556.447971   | 0.521864          |                     | 0.723799          |                     | 1390.647949     |</pre>"
       ],
       "text": [
        "PROGRESS: | 24        | 13950    | 556.447971   | 0.521864          |                     | 0.723799          |                     | 1390.647949     |"
       ],
       "metadata": {}
      },
      {
       "output_type": "pyout",
       "html": [
        "<pre>PROGRESS: | 24        | 28050    | 566.523858   | 0.528806          |                     | 0.728378          |                     | 1399.380493     |</pre>"
       ],
       "text": [
        "PROGRESS: | 24        | 28050    | 566.523858   | 0.528806          |                     | 0.728378          |                     | 1399.380493     |"
       ],
       "metadata": {}
      },
      {
       "output_type": "pyout",
       "html": [
        "<pre>PROGRESS: | 24        | 28800    | 569.968313   | 0.528715          | 0.492917            | 0.728056          | 0.682083            | 217.740768      |</pre>"
       ],
       "text": [
        "PROGRESS: | 24        | 28800    | 569.968313   | 0.528715          | 0.492917            | 0.728056          | 0.682083            | 217.740768      |"
       ],
       "metadata": {}
      },
      {
       "output_type": "pyout",
       "html": [
        "<pre>PROGRESS: | 25        | 14100    | 580.077088   | 0.524397          |                     | 0.726454          |                     | 1394.852417     |</pre>"
       ],
       "text": [
        "PROGRESS: | 25        | 14100    | 580.077088   | 0.524397          |                     | 0.726454          |                     | 1394.852417     |"
       ],
       "metadata": {}
      },
      {
       "output_type": "pyout",
       "html": [
        "<pre>PROGRESS: | 25        | 28050    | 590.090382   | 0.528556          |                     | 0.730517          |                     | 1393.148071     |</pre>"
       ],
       "text": [
        "PROGRESS: | 25        | 28050    | 590.090382   | 0.528556          |                     | 0.730517          |                     | 1393.148071     |"
       ],
       "metadata": {}
      },
      {
       "output_type": "pyout",
       "html": [
        "<pre>PROGRESS: | 25        | 28650    | 593.417804   | 0.528517          | 0.495833            | 0.730262          | 0.687083            | 180.319397      |</pre>"
       ],
       "text": [
        "PROGRESS: | 25        | 28650    | 593.417804   | 0.528517          | 0.495833            | 0.730262          | 0.687083            | 180.319397      |"
       ],
       "metadata": {}
      },
      {
       "output_type": "pyout",
       "html": [
        "<pre>PROGRESS: Checkpointing model into ~/tmp/chkpt</pre>"
       ],
       "text": [
        "PROGRESS: Checkpointing model into ~/tmp/chkpt"
       ],
       "metadata": {}
      },
      {
       "output_type": "pyout",
       "html": [
        "<pre>PROGRESS: | 26        | 14100    | 603.498928   | 0.523192          |                     | 0.727589          |                     | 1398.678589     |</pre>"
       ],
       "text": [
        "PROGRESS: | 26        | 14100    | 603.498928   | 0.523192          |                     | 0.727589          |                     | 1398.678589     |"
       ],
       "metadata": {}
      },
      {
       "output_type": "pyout",
       "html": [
        "<pre>PROGRESS: | 26        | 28050    | 613.513923   | 0.528592          |                     | 0.729234          |                     | 1392.911377     |</pre>"
       ],
       "text": [
        "PROGRESS: | 26        | 28050    | 613.513923   | 0.528592          |                     | 0.729234          |                     | 1392.911377     |"
       ],
       "metadata": {}
      },
      {
       "output_type": "pyout",
       "html": [
        "<pre>PROGRESS: | 26        | 28650    | 616.814076   | 0.528761          | 0.483611            | 0.729005          | 0.679583            | 181.809311      |</pre>"
       ],
       "text": [
        "PROGRESS: | 26        | 28650    | 616.814076   | 0.528761          | 0.483611            | 0.729005          | 0.679583            | 181.809311      |"
       ],
       "metadata": {}
      },
      {
       "output_type": "pyout",
       "html": [
        "<pre>PROGRESS: | 27        | 13950    | 626.815904   | 0.530394          |                     | 0.731254          |                     | 1394.769287     |</pre>"
       ],
       "text": [
        "PROGRESS: | 27        | 13950    | 626.815904   | 0.530394          |                     | 0.731254          |                     | 1394.769287     |"
       ],
       "metadata": {}
      },
      {
       "output_type": "pyout",
       "html": [
        "<pre>PROGRESS: | 27        | 28050    | 636.903007   | 0.534510          |                     | 0.735508          |                     | 1397.824707     |</pre>"
       ],
       "text": [
        "PROGRESS: | 27        | 28050    | 636.903007   | 0.534510          |                     | 0.735508          |                     | 1397.824707     |"
       ],
       "metadata": {}
      },
      {
       "output_type": "pyout",
       "html": [
        "<pre>PROGRESS: | 27        | 28800    | 640.293241   | 0.534618          | 0.488750            | 0.735347          | 0.688333            | 221.223145      |</pre>"
       ],
       "text": [
        "PROGRESS: | 27        | 28800    | 640.293241   | 0.534618          | 0.488750            | 0.735347          | 0.688333            | 221.223145      |"
       ],
       "metadata": {}
      },
      {
       "output_type": "pyout",
       "html": [
        "<pre>PROGRESS: | 28        | 14100    | 650.323973   | 0.528298          |                     | 0.732411          |                     | 1405.703857     |</pre>"
       ],
       "text": [
        "PROGRESS: | 28        | 14100    | 650.323973   | 0.528298          |                     | 0.732411          |                     | 1405.703857     |"
       ],
       "metadata": {}
      },
      {
       "output_type": "pyout",
       "html": [
        "<pre>PROGRESS: | 28        | 28050    | 660.340963   | 0.531016          |                     | 0.735579          |                     | 1392.633789     |</pre>"
       ],
       "text": [
        "PROGRESS: | 28        | 28050    | 660.340963   | 0.531016          |                     | 0.735579          |                     | 1392.633789     |"
       ],
       "metadata": {}
      },
      {
       "output_type": "pyout",
       "html": [
        "<pre>PROGRESS: | 28        | 28650    | 663.654932   | 0.530855          | 0.483611            | 0.735148          | 0.677222            | 181.051407      |</pre>"
       ],
       "text": [
        "PROGRESS: | 28        | 28650    | 663.654932   | 0.530855          | 0.483611            | 0.735148          | 0.677222            | 181.051407      |"
       ],
       "metadata": {}
      },
      {
       "output_type": "pyout",
       "html": [
        "<pre>PROGRESS: | 29        | 14100    | 673.706825   | 0.531206          |                     | 0.735532          |                     | 1402.746338     |</pre>"
       ],
       "text": [
        "PROGRESS: | 29        | 14100    | 673.706825   | 0.531206          |                     | 0.735532          |                     | 1402.746338     |"
       ],
       "metadata": {}
      },
      {
       "output_type": "pyout",
       "html": [
        "<pre>PROGRESS: | 29        | 28200    | 683.792014   | 0.535851          |                     | 0.735319          |                     | 1398.089722     |</pre>"
       ],
       "text": [
        "PROGRESS: | 29        | 28200    | 683.792014   | 0.535851          |                     | 0.735319          |                     | 1398.089722     |"
       ],
       "metadata": {}
      },
      {
       "output_type": "pyout",
       "html": [
        "<pre>PROGRESS: | 29        | 28650    | 686.989392   | 0.536370          | 0.492500            | 0.735567          | 0.679028            | 140.740051      |</pre>"
       ],
       "text": [
        "PROGRESS: | 29        | 28650    | 686.989392   | 0.536370          | 0.492500            | 0.735567          | 0.679028            | 140.740051      |"
       ],
       "metadata": {}
      },
      {
       "output_type": "pyout",
       "html": [
        "<pre>PROGRESS: | 30        | 14100    | 697.076291   | 0.532340          |                     | 0.735603          |                     | 1397.877075     |</pre>"
       ],
       "text": [
        "PROGRESS: | 30        | 14100    | 697.076291   | 0.532340          |                     | 0.735603          |                     | 1397.877075     |"
       ],
       "metadata": {}
      },
      {
       "output_type": "pyout",
       "html": [
        "<pre>PROGRESS: | 30        | 28200    | 707.164344   | 0.539787          |                     | 0.742021          |                     | 1397.692871     |</pre>"
       ],
       "text": [
        "PROGRESS: | 30        | 28200    | 707.164344   | 0.539787          |                     | 0.742021          |                     | 1397.692871     |"
       ],
       "metadata": {}
      },
      {
       "output_type": "pyout",
       "html": [
        "<pre>PROGRESS: | 30        | 28650    | 710.344881   | 0.540000          | 0.488750            | 0.741780          | 0.677083            | 141.485184      |</pre>"
       ],
       "text": [
        "PROGRESS: | 30        | 28650    | 710.344881   | 0.540000          | 0.488750            | 0.741780          | 0.677083            | 141.485184      |"
       ],
       "metadata": {}
      },
      {
       "output_type": "pyout",
       "html": [
        "<pre>PROGRESS: Checkpointing model into ~/tmp/chkpt</pre>"
       ],
       "text": [
        "PROGRESS: Checkpointing model into ~/tmp/chkpt"
       ],
       "metadata": {}
      },
      {
       "output_type": "pyout",
       "html": [
        "<pre>PROGRESS: | 31        | 14100    | 720.462773   | 0.538723          |                     | 0.740780          |                     | 1393.592529     |</pre>"
       ],
       "text": [
        "PROGRESS: | 31        | 14100    | 720.462773   | 0.538723          |                     | 0.740780          |                     | 1393.592529     |"
       ],
       "metadata": {}
      },
      {
       "output_type": "pyout",
       "html": [
        "<pre>PROGRESS: | 31        | 27900    | 730.561275   | 0.547419          |                     | 0.746237          |                     | 1366.539185     |</pre>"
       ],
       "text": [
        "PROGRESS: | 31        | 27900    | 730.561275   | 0.547419          |                     | 0.746237          |                     | 1366.539185     |"
       ],
       "metadata": {}
      },
      {
       "output_type": "pyout",
       "html": [
        "<pre>PROGRESS: | 31        | 28800    | 734.100955   | 0.547326          | 0.493056            | 0.746042          | 0.680556            | 254.259766      |</pre>"
       ],
       "text": [
        "PROGRESS: | 31        | 28800    | 734.100955   | 0.547326          | 0.493056            | 0.746042          | 0.680556            | 254.259766      |"
       ],
       "metadata": {}
      },
      {
       "output_type": "pyout",
       "html": [
        "<pre>PROGRESS: | 32        | 9150     | 1041.365237  | 0.529945          |                     | 0.736066          |                     | 29.778942       |</pre>"
       ],
       "text": [
        "PROGRESS: | 32        | 9150     | 1041.365237  | 0.529945          |                     | 0.736066          |                     | 29.778942       |"
       ],
       "metadata": {}
      },
      {
       "output_type": "pyout",
       "html": [
        "<pre>PROGRESS: | 32        | 21900    | 1051.461886  | 0.547078          |                     | 0.748858          |                     | 1262.795166     |</pre>"
       ],
       "text": [
        "PROGRESS: | 32        | 21900    | 1051.461886  | 0.547078          |                     | 0.748858          |                     | 1262.795166     |"
       ],
       "metadata": {}
      },
      {
       "output_type": "pyout",
       "html": [
        "<pre>PROGRESS: | 32        | 28650    | 1059.621732  | 0.547958          | 0.492639            | 0.748586          | 0.680139            | 827.220703      |</pre>"
       ],
       "text": [
        "PROGRESS: | 32        | 28650    | 1059.621732  | 0.547958          | 0.492639            | 0.748586          | 0.680139            | 827.220703      |"
       ],
       "metadata": {}
      },
      {
       "output_type": "pyout",
       "html": [
        "<pre>PROGRESS: | 33        | 13650    | 1069.626250  | 0.539048          |                     | 0.745128          |                     | 1364.422119     |</pre>"
       ],
       "text": [
        "PROGRESS: | 33        | 13650    | 1069.626250  | 0.539048          |                     | 0.745128          |                     | 1364.422119     |"
       ],
       "metadata": {}
      },
      {
       "output_type": "pyout",
       "html": [
        "<pre>PROGRESS: | 33        | 24150    | 1079.713416  | 0.547412          |                     | 0.750766          |                     | 1040.926514     |</pre>"
       ],
       "text": [
        "PROGRESS: | 33        | 24150    | 1079.713416  | 0.547412          |                     | 0.750766          |                     | 1040.926514     |"
       ],
       "metadata": {}
      },
      {
       "output_type": "pyout",
       "html": [
        "<pre>PROGRESS: | 33        | 28650    | 1086.034985  | 0.549040          | 0.498333            | 0.750436          | 0.683750            | 711.847717      |</pre>"
       ],
       "text": [
        "PROGRESS: | 33        | 28650    | 1086.034985  | 0.549040          | 0.498333            | 0.750436          | 0.683750            | 711.847717      |"
       ],
       "metadata": {}
      },
      {
       "output_type": "pyout",
       "html": [
        "<pre>PROGRESS: | 34        | 13800    | 1096.107026  | 0.548913          |                     | 0.754493          |                     | 1370.153442     |</pre>"
       ],
       "text": [
        "PROGRESS: | 34        | 13800    | 1096.107026  | 0.548913          |                     | 0.754493          |                     | 1370.153442     |"
       ],
       "metadata": {}
      },
      {
       "output_type": "pyout",
       "html": [
        "<pre>PROGRESS: | 34        | 27600    | 1106.175603  | 0.554964          |                     | 0.757862          |                     | 1370.600464     |</pre>"
       ],
       "text": [
        "PROGRESS: | 34        | 27600    | 1106.175603  | 0.554964          |                     | 0.757862          |                     | 1370.600464     |"
       ],
       "metadata": {}
      },
      {
       "output_type": "pyout",
       "html": [
        "<pre>PROGRESS: | 34        | 28800    | 1110.073096  | 0.555486          | 0.490278            | 0.757743          | 0.675278            | 307.889587      |</pre>"
       ],
       "text": [
        "PROGRESS: | 34        | 28800    | 1110.073096  | 0.555486          | 0.490278            | 0.757743          | 0.675278            | 307.889587      |"
       ],
       "metadata": {}
      },
      {
       "output_type": "pyout",
       "html": [
        "<pre>PROGRESS: | 35        | 13800    | 1120.121933  | 0.548333          |                     | 0.752826          |                     | 1373.317261     |</pre>"
       ],
       "text": [
        "PROGRESS: | 35        | 13800    | 1120.121933  | 0.548333          |                     | 0.752826          |                     | 1373.317261     |"
       ],
       "metadata": {}
      },
      {
       "output_type": "pyout",
       "html": [
        "<pre>PROGRESS: | 35        | 27600    | 1130.162517  | 0.553551          |                     | 0.755290          |                     | 1374.421997     |</pre>"
       ],
       "text": [
        "PROGRESS: | 35        | 27600    | 1130.162517  | 0.553551          |                     | 0.755290          |                     | 1374.421997     |"
       ],
       "metadata": {}
      },
      {
       "output_type": "pyout",
       "html": [
        "<pre>PROGRESS: | 35        | 28650    | 1133.924385  | 0.553857          | 0.496250            | 0.755637          | 0.675694            | 279.116058      |</pre>"
       ],
       "text": [
        "PROGRESS: | 35        | 28650    | 1133.924385  | 0.553857          | 0.496250            | 0.755637          | 0.675694            | 279.116058      |"
       ],
       "metadata": {}
      },
      {
       "output_type": "pyout",
       "html": [
        "<pre>PROGRESS: Checkpointing model into ~/tmp/chkpt</pre>"
       ],
       "text": [
        "PROGRESS: Checkpointing model into ~/tmp/chkpt"
       ],
       "metadata": {}
      },
      {
       "output_type": "pyout",
       "html": [
        "<pre>PROGRESS: | 36        | 13950    | 1143.940644  | 0.553262          |                     | 0.753190          |                     | 1392.760498     |</pre>"
       ],
       "text": [
        "PROGRESS: | 36        | 13950    | 1143.940644  | 0.553262          |                     | 0.753190          |                     | 1392.760498     |"
       ],
       "metadata": {}
      },
      {
       "output_type": "pyout",
       "html": [
        "<pre>PROGRESS: | 36        | 28050    | 1153.994596  | 0.559037          |                     | 0.758895          |                     | 1402.433716     |</pre>"
       ],
       "text": [
        "PROGRESS: | 36        | 28050    | 1153.994596  | 0.559037          |                     | 0.758895          |                     | 1402.433716     |"
       ],
       "metadata": {}
      },
      {
       "output_type": "pyout",
       "html": [
        "<pre>PROGRESS: | 36        | 28650    | 1157.347714  | 0.558429          | 0.499306            | 0.758674          | 0.684167            | 178.937500      |</pre>"
       ],
       "text": [
        "PROGRESS: | 36        | 28650    | 1157.347714  | 0.558429          | 0.499306            | 0.758674          | 0.684167            | 178.937500      |"
       ],
       "metadata": {}
      },
      {
       "output_type": "pyout",
       "html": [
        "<pre>PROGRESS: | 37        | 13950    | 1167.374058  | 0.558351          |                     | 0.756416          |                     | 1391.359375     |</pre>"
       ],
       "text": [
        "PROGRESS: | 37        | 13950    | 1167.374058  | 0.558351          |                     | 0.756416          |                     | 1391.359375     |"
       ],
       "metadata": {}
      },
      {
       "output_type": "pyout",
       "html": [
        "<pre>PROGRESS: | 37        | 28050    | 1177.440603  | 0.560784          |                     | 0.759750          |                     | 1400.679321     |</pre>"
       ],
       "text": [
        "PROGRESS: | 37        | 28050    | 1177.440603  | 0.560784          |                     | 0.759750          |                     | 1400.679321     |"
       ],
       "metadata": {}
      },
      {
       "output_type": "pyout",
       "html": [
        "<pre>PROGRESS: | 37        | 28800    | 1180.868227  | 0.559618          | 0.492500            | 0.759340          | 0.681667            | 218.809891      |</pre>"
       ],
       "text": [
        "PROGRESS: | 37        | 28800    | 1180.868227  | 0.559618          | 0.492500            | 0.759340          | 0.681667            | 218.809891      |"
       ],
       "metadata": {}
      },
      {
       "output_type": "pyout",
       "html": [
        "<pre>PROGRESS: | 38        | 14100    | 1190.911150  | 0.562128          |                     | 0.765035          |                     | 1403.999146     |</pre>"
       ],
       "text": [
        "PROGRESS: | 38        | 14100    | 1190.911150  | 0.562128          |                     | 0.765035          |                     | 1403.999146     |"
       ],
       "metadata": {}
      },
      {
       "output_type": "pyout",
       "html": [
        "<pre>PROGRESS: | 38        | 28050    | 1200.948158  | 0.563030          |                     | 0.763815          |                     | 1389.856445     |</pre>"
       ],
       "text": [
        "PROGRESS: | 38        | 28050    | 1200.948158  | 0.563030          |                     | 0.763815          |                     | 1389.856445     |"
       ],
       "metadata": {}
      },
      {
       "output_type": "pyout",
       "html": [
        "<pre>PROGRESS: | 38        | 28650    | 1204.215728  | 0.562304          | 0.495319            | 0.763525          | 0.682837            | 183.622238      |</pre>"
       ],
       "text": [
        "PROGRESS: | 38        | 28650    | 1204.215728  | 0.562304          | 0.495319            | 0.763525          | 0.682837            | 183.622238      |"
       ],
       "metadata": {}
      },
      {
       "output_type": "pyout",
       "html": [
        "<pre>PROGRESS: | 39        | 14100    | 1214.317006  | 0.556383          |                     | 0.758723          |                     | 1395.887695     |</pre>"
       ],
       "text": [
        "PROGRESS: | 39        | 14100    | 1214.317006  | 0.556383          |                     | 0.758723          |                     | 1395.887695     |"
       ],
       "metadata": {}
      },
      {
       "output_type": "pyout",
       "html": [
        "<pre>PROGRESS: | 39        | 28050    | 1224.346764  | 0.560463          |                     | 0.762103          |                     | 1390.861084     |</pre>"
       ],
       "text": [
        "PROGRESS: | 39        | 28050    | 1224.346764  | 0.560463          |                     | 0.762103          |                     | 1390.861084     |"
       ],
       "metadata": {}
      },
      {
       "output_type": "pyout",
       "html": [
        "<pre>PROGRESS: | 39        | 28650    | 1227.701010  | 0.560349          | 0.492917            | 0.761571          | 0.676528            | 178.877335      |</pre>"
       ],
       "text": [
        "PROGRESS: | 39        | 28650    | 1227.701010  | 0.560349          | 0.492917            | 0.761571          | 0.676528            | 178.877335      |"
       ],
       "metadata": {}
      },
      {
       "output_type": "pyout",
       "html": [
        "<pre>PROGRESS: | 40        | 14100    | 1237.797537  | 0.560638          |                     | 0.765177          |                     | 1396.544312     |</pre>"
       ],
       "text": [
        "PROGRESS: | 40        | 14100    | 1237.797537  | 0.560638          |                     | 0.765177          |                     | 1396.544312     |"
       ],
       "metadata": {}
      },
      {
       "output_type": "pyout",
       "html": [
        "<pre>PROGRESS: | 40        | 28050    | 1247.816262  | 0.567237          |                     | 0.767950          |                     | 1392.392700     |</pre>"
       ],
       "text": [
        "PROGRESS: | 40        | 28050    | 1247.816262  | 0.567237          |                     | 0.767950          |                     | 1392.392700     |"
       ],
       "metadata": {}
      },
      {
       "output_type": "pyout",
       "html": [
        "<pre>PROGRESS: | 40        | 28650    | 1251.138031  | 0.566632          | 0.491944            | 0.767923          | 0.680556            | 180.626266      |</pre>"
       ],
       "text": [
        "PROGRESS: | 40        | 28650    | 1251.138031  | 0.566632          | 0.491944            | 0.767923          | 0.680556            | 180.626266      |"
       ],
       "metadata": {}
      },
      {
       "output_type": "pyout",
       "html": [
        "<pre>PROGRESS: Checkpointing model into ~/tmp/chkpt</pre>"
       ],
       "text": [
        "PROGRESS: Checkpointing model into ~/tmp/chkpt"
       ],
       "metadata": {}
      },
      {
       "output_type": "pyout",
       "html": [
        "<pre>PROGRESS: | 41        | 14100    | 1261.242814  | 0.575390          |                     | 0.776170          |                     | 1395.403809     |</pre>"
       ],
       "text": [
        "PROGRESS: | 41        | 14100    | 1261.242814  | 0.575390          |                     | 0.776170          |                     | 1395.403809     |"
       ],
       "metadata": {}
      },
      {
       "output_type": "pyout",
       "html": [
        "<pre>PROGRESS: | 41        | 28050    | 1271.295254  | 0.573262          |                     | 0.776542          |                     | 1387.722778     |</pre>"
       ],
       "text": [
        "PROGRESS: | 41        | 28050    | 1271.295254  | 0.573262          |                     | 0.776542          |                     | 1387.722778     |"
       ],
       "metadata": {}
      },
      {
       "output_type": "pyout",
       "html": [
        "<pre>PROGRESS: | 41        | 28800    | 1274.722238  | 0.573021          | 0.495833            | 0.776597          | 0.679444            | 218.850952      |</pre>"
       ],
       "text": [
        "PROGRESS: | 41        | 28800    | 1274.722238  | 0.573021          | 0.495833            | 0.776597          | 0.679444            | 218.850952      |"
       ],
       "metadata": {}
      },
      {
       "output_type": "pyout",
       "html": [
        "<pre>PROGRESS: | 42        | 14100    | 1284.800153  | 0.570496          |                     | 0.768511          |                     | 1399.124146     |</pre>"
       ],
       "text": [
        "PROGRESS: | 42        | 14100    | 1284.800153  | 0.570496          |                     | 0.768511          |                     | 1399.124146     |"
       ],
       "metadata": {}
      },
      {
       "output_type": "pyout",
       "html": [
        "<pre>PROGRESS: | 42        | 27000    | 1294.822562  | 0.567370          |                     | 0.768185          |                     | 1287.116089     |</pre>"
       ],
       "text": [
        "PROGRESS: | 42        | 27000    | 1294.822562  | 0.567370          |                     | 0.768185          |                     | 1287.116089     |"
       ],
       "metadata": {}
      },
      {
       "output_type": "pyout",
       "html": [
        "<pre>PROGRESS: | 42        | 28650    | 1299.855783  | 0.568098          | 0.491528            | 0.769354          | 0.673750            | 327.821228      |</pre>"
       ],
       "text": [
        "PROGRESS: | 42        | 28650    | 1299.855783  | 0.568098          | 0.491528            | 0.769354          | 0.673750            | 327.821228      |"
       ],
       "metadata": {}
      },
      {
       "output_type": "pyout",
       "html": [
        "<pre>PROGRESS: | 43        | 11250    | 1309.897474  | 0.573511          |                     | 0.778400          |                     | 1121.257935     |</pre>"
       ],
       "text": [
        "PROGRESS: | 43        | 11250    | 1309.897474  | 0.573511          |                     | 0.778400          |                     | 1121.257935     |"
       ],
       "metadata": {}
      },
      {
       "output_type": "pyout",
       "html": [
        "<pre>PROGRESS: | 43        | 21150    | 1320.145237  | 0.577541          |                     | 0.780095          |                     | 966.063293      |</pre>"
       ],
       "text": [
        "PROGRESS: | 43        | 21150    | 1320.145237  | 0.577541          |                     | 0.780095          |                     | 966.063293      |"
       ],
       "metadata": {}
      },
      {
       "output_type": "pyout",
       "html": [
        "<pre>PROGRESS: | 43        | 28650    | 1331.148326  | 0.574136          | 0.495694            | 0.776789          | 0.680417            | 681.626404      |</pre>"
       ],
       "text": [
        "PROGRESS: | 43        | 28650    | 1331.148326  | 0.574136          | 0.495694            | 0.776789          | 0.680417            | 681.626404      |"
       ],
       "metadata": {}
      },
      {
       "output_type": "pyout",
       "html": [
        "<pre>PROGRESS: | 44        | 10800    | 1341.194833  | 0.568981          |                     | 0.768981          |                     | 1075.031494     |</pre>"
       ],
       "text": [
        "PROGRESS: | 44        | 10800    | 1341.194833  | 0.568981          |                     | 0.768981          |                     | 1075.031494     |"
       ],
       "metadata": {}
      },
      {
       "output_type": "pyout",
       "html": [
        "<pre>PROGRESS: | 44        | 20400    | 1351.279530  | 0.572059          |                     | 0.772794          |                     | 951.937256      |</pre>"
       ],
       "text": [
        "PROGRESS: | 44        | 20400    | 1351.279530  | 0.572059          |                     | 0.772794          |                     | 951.937256      |"
       ],
       "metadata": {}
      },
      {
       "output_type": "pyout",
       "html": [
        "<pre>PROGRESS: | 44        | 28800    | 1361.737128  | 0.572500          | 0.486528            | 0.771979          | 0.672917            | 803.243164      |</pre>"
       ],
       "text": [
        "PROGRESS: | 44        | 28800    | 1361.737128  | 0.572500          | 0.486528            | 0.771979          | 0.672917            | 803.243164      |"
       ],
       "metadata": {}
      },
      {
       "output_type": "pyout",
       "html": [
        "<pre>PROGRESS: | 45        | 12000    | 1371.858752  | 0.569583          |                     | 0.766917          |                     | 1185.603027     |</pre>"
       ],
       "text": [
        "PROGRESS: | 45        | 12000    | 1371.858752  | 0.569583          |                     | 0.766917          |                     | 1185.603027     |"
       ],
       "metadata": {}
      },
      {
       "output_type": "pyout",
       "html": [
        "<pre>PROGRESS: | 45        | 24000    | 1381.971510  | 0.575750          |                     | 0.773917          |                     | 1186.619629     |</pre>"
       ],
       "text": [
        "PROGRESS: | 45        | 24000    | 1381.971510  | 0.575750          |                     | 0.773917          |                     | 1186.619629     |"
       ],
       "metadata": {}
      },
      {
       "output_type": "pyout",
       "html": [
        "<pre>PROGRESS: | 45        | 28650    | 1389.187729  | 0.573264          | 0.490556            | 0.773089          | 0.675556            | 644.381165      |</pre>"
       ],
       "text": [
        "PROGRESS: | 45        | 28650    | 1389.187729  | 0.573264          | 0.490556            | 0.773089          | 0.675556            | 644.381165      |"
       ],
       "metadata": {}
      },
      {
       "output_type": "pyout",
       "html": [
        "<pre>PROGRESS: Checkpointing model into ~/tmp/chkpt</pre>"
       ],
       "text": [
        "PROGRESS: Checkpointing model into ~/tmp/chkpt"
       ],
       "metadata": {}
      },
      {
       "output_type": "pyout",
       "html": [
        "<pre>PROGRESS: | 46        | 11850    | 1399.221260  | 0.571730          |                     | 0.770802          |                     | 1181.060425     |</pre>"
       ],
       "text": [
        "PROGRESS: | 46        | 11850    | 1399.221260  | 0.571730          |                     | 0.770802          |                     | 1181.060425     |"
       ],
       "metadata": {}
      },
      {
       "output_type": "pyout",
       "html": [
        "<pre>PROGRESS: | 46        | 23700    | 1409.246981  | 0.576245          |                     | 0.775105          |                     | 1181.959961     |</pre>"
       ],
       "text": [
        "PROGRESS: | 46        | 23700    | 1409.246981  | 0.576245          |                     | 0.775105          |                     | 1181.959961     |"
       ],
       "metadata": {}
      },
      {
       "output_type": "pyout",
       "html": [
        "<pre>PROGRESS: | 46        | 28650    | 1417.062663  | 0.573682          | 0.483333            | 0.774415          | 0.671528            | 633.341492      |</pre>"
       ],
       "text": [
        "PROGRESS: | 46        | 28650    | 1417.062663  | 0.573682          | 0.483333            | 0.774415          | 0.671528            | 633.341492      |"
       ],
       "metadata": {}
      },
      {
       "output_type": "pyout",
       "html": [
        "<pre>PROGRESS: | 47        | 11700    | 1427.170523  | 0.575641          |                     | 0.779487          |                     | 1157.554077     |</pre>"
       ],
       "text": [
        "PROGRESS: | 47        | 11700    | 1427.170523  | 0.575641          |                     | 0.779487          |                     | 1157.554077     |"
       ],
       "metadata": {}
      },
      {
       "output_type": "pyout",
       "html": [
        "<pre>PROGRESS: | 47        | 23400    | 1437.187092  | 0.581325          |                     | 0.782949          |                     | 1168.064331     |</pre>"
       ],
       "text": [
        "PROGRESS: | 47        | 23400    | 1437.187092  | 0.581325          |                     | 0.782949          |                     | 1168.064331     |"
       ],
       "metadata": {}
      },
      {
       "output_type": "pyout",
       "html": [
        "<pre>PROGRESS: | 47        | 28800    | 1445.161212  | 0.579514          | 0.493194            | 0.778958          | 0.672917            | 677.190125      |</pre>"
       ],
       "text": [
        "PROGRESS: | 47        | 28800    | 1445.161212  | 0.579514          | 0.493194            | 0.778958          | 0.672917            | 677.190125      |"
       ],
       "metadata": {}
      },
      {
       "output_type": "pyout",
       "html": [
        "<pre>PROGRESS: | 48        | 11850    | 1455.190122  | 0.578650          |                     | 0.780422          |                     | 1181.604248     |</pre>"
       ],
       "text": [
        "PROGRESS: | 48        | 11850    | 1455.190122  | 0.578650          |                     | 0.780422          |                     | 1181.604248     |"
       ],
       "metadata": {}
      },
      {
       "output_type": "pyout",
       "html": [
        "<pre>PROGRESS: | 48        | 23550    | 1465.296676  | 0.587134          |                     | 0.783652          |                     | 1157.664795     |</pre>"
       ],
       "text": [
        "PROGRESS: | 48        | 23550    | 1465.296676  | 0.587134          |                     | 0.783652          |                     | 1157.664795     |"
       ],
       "metadata": {}
      },
      {
       "output_type": "pyout",
       "html": [
        "<pre>PROGRESS: | 48        | 28650    | 1473.868555  | 0.587120          | 0.495972            | 0.784956          | 0.685278            | 594.968201      |</pre>"
       ],
       "text": [
        "PROGRESS: | 48        | 28650    | 1473.868555  | 0.587120          | 0.495972            | 0.784956          | 0.685278            | 594.968201      |"
       ],
       "metadata": {}
      },
      {
       "output_type": "pyout",
       "html": [
        "<pre>PROGRESS: | 49        | 10950    | 1483.990965  | 0.585662          |                     | 0.780639          |                     | 1081.790649     |</pre>"
       ],
       "text": [
        "PROGRESS: | 49        | 10950    | 1483.990965  | 0.585662          |                     | 0.780639          |                     | 1081.790649     |"
       ],
       "metadata": {}
      },
      {
       "output_type": "pyout",
       "html": [
        "<pre>PROGRESS: | 49        | 21900    | 1494.014247  | 0.588128          |                     | 0.784612          |                     | 1092.458496     |</pre>"
       ],
       "text": [
        "PROGRESS: | 49        | 21900    | 1494.014247  | 0.588128          |                     | 0.784612          |                     | 1092.458496     |"
       ],
       "metadata": {}
      },
      {
       "output_type": "pyout",
       "html": [
        "<pre>PROGRESS: | 49        | 28650    | 1504.088020  | 0.584223          | 0.498750            | 0.783106          | 0.685556            | 670.055115      |</pre>"
       ],
       "text": [
        "PROGRESS: | 49        | 28650    | 1504.088020  | 0.584223          | 0.498750            | 0.783106          | 0.685556            | 670.055115      |"
       ],
       "metadata": {}
      },
      {
       "output_type": "pyout",
       "html": [
        "<pre>PROGRESS: | 50        | 10800    | 1514.104789  | 0.582500          |                     | 0.784352          |                     | 1078.213989     |</pre>"
       ],
       "text": [
        "PROGRESS: | 50        | 10800    | 1514.104789  | 0.582500          |                     | 0.784352          |                     | 1078.213989     |"
       ],
       "metadata": {}
      },
      {
       "output_type": "pyout",
       "html": [
        "<pre>PROGRESS: | 50        | 21300    | 1524.113994  | 0.584413          |                     | 0.784977          |                     | 1049.034302     |</pre>"
       ],
       "text": [
        "PROGRESS: | 50        | 21300    | 1524.113994  | 0.584413          |                     | 0.784977          |                     | 1049.034302     |"
       ],
       "metadata": {}
      },
      {
       "output_type": "pyout",
       "html": [
        "<pre>PROGRESS: | 50        | 28650    | 1534.594042  | 0.585445          | 0.493333            | 0.785550          | 0.685139            | 701.332153      |</pre>"
       ],
       "text": [
        "PROGRESS: | 50        | 28650    | 1534.594042  | 0.585445          | 0.493333            | 0.785550          | 0.685139            | 701.332153      |"
       ],
       "metadata": {}
      },
      {
       "output_type": "pyout",
       "html": [
        "<pre>PROGRESS: Checkpointing model into ~/tmp/chkpt</pre>"
       ],
       "text": [
        "PROGRESS: Checkpointing model into ~/tmp/chkpt"
       ],
       "metadata": {}
      },
      {
       "output_type": "pyout",
       "html": [
        "<pre>PROGRESS: | 51        | 10650    | 1544.631277  | 0.577746          |                     | 0.777840          |                     | 1061.068237     |</pre>"
       ],
       "text": [
        "PROGRESS: | 51        | 10650    | 1544.631277  | 0.577746          |                     | 0.777840          |                     | 1061.068237     |"
       ],
       "metadata": {}
      },
      {
       "output_type": "pyout",
       "html": [
        "<pre>PROGRESS: | 51        | 21600    | 1554.751009  | 0.584120          |                     | 0.784676          |                     | 1082.044434     |</pre>"
       ],
       "text": [
        "PROGRESS: | 51        | 21600    | 1554.751009  | 0.584120          |                     | 0.784676          |                     | 1082.044434     |"
       ],
       "metadata": {}
      },
      {
       "output_type": "pyout",
       "html": [
        "<pre>PROGRESS: | 51        | 28800    | 1564.315580  | 0.584687          | 0.492639            | 0.783681          | 0.681111            | 752.777588      |</pre>"
       ],
       "text": [
        "PROGRESS: | 51        | 28800    | 1564.315580  | 0.584687          | 0.492639            | 0.783681          | 0.681111            | 752.777588      |"
       ],
       "metadata": {}
      },
      {
       "output_type": "pyout",
       "html": [
        "<pre>PROGRESS: | 52        | 13650    | 1574.400986  | 0.594286          |                     | 0.789451          |                     | 1353.468628     |</pre>"
       ],
       "text": [
        "PROGRESS: | 52        | 13650    | 1574.400986  | 0.594286          |                     | 0.789451          |                     | 1353.468628     |"
       ],
       "metadata": {}
      },
      {
       "output_type": "pyout",
       "html": [
        "<pre>PROGRESS: | 52        | 27450    | 1584.408207  | 0.595956          |                     | 0.791403          |                     | 1379.004272     |</pre>"
       ],
       "text": [
        "PROGRESS: | 52        | 27450    | 1584.408207  | 0.595956          |                     | 0.791403          |                     | 1379.004272     |"
       ],
       "metadata": {}
      },
      {
       "output_type": "pyout",
       "html": [
        "<pre>PROGRESS: | 52        | 28650    | 1588.202021  | 0.595393          | 0.494583            | 0.791065          | 0.681528            | 316.303802      |</pre>"
       ],
       "text": [
        "PROGRESS: | 52        | 28650    | 1588.202021  | 0.595393          | 0.494583            | 0.791065          | 0.681528            | 316.303802      |"
       ],
       "metadata": {}
      },
      {
       "output_type": "pyout",
       "html": [
        "<pre>PROGRESS: | 53        | 10500    | 1598.330900  | 0.587810          |                     | 0.787429          |                     | 1036.665405     |</pre>"
       ],
       "text": [
        "PROGRESS: | 53        | 10500    | 1598.330900  | 0.587810          |                     | 0.787429          |                     | 1036.665405     |"
       ],
       "metadata": {}
      },
      {
       "output_type": "pyout",
       "html": [
        "<pre>PROGRESS: | 53        | 20850    | 1608.368718  | 0.592182          |                     | 0.790360          |                     | 1031.098633     |</pre>"
       ],
       "text": [
        "PROGRESS: | 53        | 20850    | 1608.368718  | 0.592182          |                     | 0.790360          |                     | 1031.098633     |"
       ],
       "metadata": {}
      },
      {
       "output_type": "pyout",
       "html": [
        "<pre>PROGRESS: | 53        | 28650    | 1619.677828  | 0.592391          | 0.493056            | 0.790855          | 0.674583            | 689.707336      |</pre>"
       ],
       "text": [
        "PROGRESS: | 53        | 28650    | 1619.677828  | 0.592391          | 0.493056            | 0.790855          | 0.674583            | 689.707336      |"
       ],
       "metadata": {}
      },
      {
       "output_type": "pyout",
       "html": [
        "<pre>PROGRESS: | 54        | 10800    | 1629.747494  | 0.589722          |                     | 0.787222          |                     | 1072.551758     |</pre>"
       ],
       "text": [
        "PROGRESS: | 54        | 10800    | 1629.747494  | 0.589722          |                     | 0.787222          |                     | 1072.551758     |"
       ],
       "metadata": {}
      },
      {
       "output_type": "pyout",
       "html": [
        "<pre>PROGRESS: | 54        | 21900    | 1639.851153  | 0.595205          |                     | 0.789406          |                     | 1098.612061     |</pre>"
       ],
       "text": [
        "PROGRESS: | 54        | 21900    | 1639.851153  | 0.595205          |                     | 0.789406          |                     | 1098.612061     |"
       ],
       "metadata": {}
      },
      {
       "output_type": "pyout",
       "html": [
        "<pre>PROGRESS: | 54        | 28800    | 1650.009110  | 0.594722          | 0.494861            | 0.789896          | 0.677222            | 679.269958      |</pre>"
       ],
       "text": [
        "PROGRESS: | 54        | 28800    | 1650.009110  | 0.594722          | 0.494861            | 0.789896          | 0.677222            | 679.269958      |"
       ],
       "metadata": {}
      },
      {
       "output_type": "pyout",
       "html": [
        "<pre>PROGRESS: | 55        | 10800    | 1660.063236  | 0.582222          |                     | 0.790741          |                     | 1074.205444     |</pre>"
       ],
       "text": [
        "PROGRESS: | 55        | 10800    | 1660.063236  | 0.582222          |                     | 0.790741          |                     | 1074.205444     |"
       ],
       "metadata": {}
      },
      {
       "output_type": "pyout",
       "html": [
        "<pre>PROGRESS: | 55        | 21450    | 1670.084081  | 0.588392          |                     | 0.792727          |                     | 1062.784668     |</pre>"
       ],
       "text": [
        "PROGRESS: | 55        | 21450    | 1670.084081  | 0.588392          |                     | 0.792727          |                     | 1062.784668     |"
       ],
       "metadata": {}
      },
      {
       "output_type": "pyout",
       "html": [
        "<pre>PROGRESS: | 55        | 28650    | 1680.540619  | 0.588761          | 0.492361            | 0.791902          | 0.675278            | 688.563965      |</pre>"
       ],
       "text": [
        "PROGRESS: | 55        | 28650    | 1680.540619  | 0.588761          | 0.492361            | 0.791902          | 0.675278            | 688.563965      |"
       ],
       "metadata": {}
      },
      {
       "output_type": "pyout",
       "html": [
        "<pre>PROGRESS: Checkpointing model into ~/tmp/chkpt</pre>"
       ],
       "text": [
        "PROGRESS: Checkpointing model into ~/tmp/chkpt"
       ],
       "metadata": {}
      },
      {
       "output_type": "pyout",
       "html": [
        "<pre>PROGRESS: | 56        | 10650    | 1690.604296  | 0.599906          |                     | 0.791174          |                     | 1058.282959     |</pre>"
       ],
       "text": [
        "PROGRESS: | 56        | 10650    | 1690.604296  | 0.599906          |                     | 0.791174          |                     | 1058.282959     |"
       ],
       "metadata": {}
      },
      {
       "output_type": "pyout",
       "html": [
        "<pre>PROGRESS: | 56        | 21300    | 1700.648848  | 0.601549          |                     | 0.792347          |                     | 1060.276489     |</pre>"
       ],
       "text": [
        "PROGRESS: | 56        | 21300    | 1700.648848  | 0.601549          |                     | 0.792347          |                     | 1060.276489     |"
       ],
       "metadata": {}
      },
      {
       "output_type": "pyout",
       "html": [
        "<pre>PROGRESS: | 56        | 28650    | 1711.098032  | 0.602443          | 0.497222            | 0.792007          | 0.678611            | 703.403625      |</pre>"
       ],
       "text": [
        "PROGRESS: | 56        | 28650    | 1711.098032  | 0.602443          | 0.497222            | 0.792007          | 0.678611            | 703.403625      |"
       ],
       "metadata": {}
      },
      {
       "output_type": "pyout",
       "html": [
        "<pre>PROGRESS: | 57        | 10950    | 1721.119061  | 0.586941          |                     | 0.789224          |                     | 1092.721436     |</pre>"
       ],
       "text": [
        "PROGRESS: | 57        | 10950    | 1721.119061  | 0.586941          |                     | 0.789224          |                     | 1092.721436     |"
       ],
       "metadata": {}
      },
      {
       "output_type": "pyout",
       "html": [
        "<pre>PROGRESS: | 57        | 21600    | 1731.191350  | 0.596759          |                     | 0.797454          |                     | 1057.356567     |</pre>"
       ],
       "text": [
        "PROGRESS: | 57        | 21600    | 1731.191350  | 0.596759          |                     | 0.797454          |                     | 1057.356567     |"
       ],
       "metadata": {}
      },
      {
       "output_type": "pyout",
       "html": [
        "<pre>PROGRESS: | 57        | 28800    | 1741.871502  | 0.599688          | 0.489362            | 0.800035          | 0.674894            | 674.147217      |</pre>"
       ],
       "text": [
        "PROGRESS: | 57        | 28800    | 1741.871502  | 0.599688          | 0.489362            | 0.800035          | 0.674894            | 674.147217      |"
       ],
       "metadata": {}
      },
      {
       "output_type": "pyout",
       "html": [
        "<pre>PROGRESS: | 58        | 10800    | 1751.989035  | 0.593796          |                     | 0.792222          |                     | 1067.474487     |</pre>"
       ],
       "text": [
        "PROGRESS: | 58        | 10800    | 1751.989035  | 0.593796          |                     | 0.792222          |                     | 1067.474487     |"
       ],
       "metadata": {}
      },
      {
       "output_type": "pyout",
       "html": [
        "<pre>PROGRESS: | 58        | 21300    | 1762.007917  | 0.599014          |                     | 0.794366          |                     | 1048.020752     |</pre>"
       ],
       "text": [
        "PROGRESS: | 58        | 21300    | 1762.007917  | 0.599014          |                     | 0.794366          |                     | 1048.020752     |"
       ],
       "metadata": {}
      },
      {
       "output_type": "pyout",
       "html": [
        "<pre>PROGRESS: | 58        | 28650    | 1773.020389  | 0.601257          | 0.495556            | 0.797557          | 0.675139            | 667.424683      |</pre>"
       ],
       "text": [
        "PROGRESS: | 58        | 28650    | 1773.020389  | 0.601257          | 0.495556            | 0.797557          | 0.675139            | 667.424683      |"
       ],
       "metadata": {}
      },
      {
       "output_type": "pyout",
       "html": [
        "<pre>PROGRESS: | 59        | 10350    | 1783.163505  | 0.592850          |                     | 0.798164          |                     | 1020.415100     |</pre>"
       ],
       "text": [
        "PROGRESS: | 59        | 10350    | 1783.163505  | 0.592850          |                     | 0.798164          |                     | 1020.415100     |"
       ],
       "metadata": {}
      },
      {
       "output_type": "pyout",
       "html": [
        "<pre>PROGRESS: | 59        | 20850    | 1793.181710  | 0.597554          |                     | 0.798657          |                     | 1048.092651     |</pre>"
       ],
       "text": [
        "PROGRESS: | 59        | 20850    | 1793.181710  | 0.597554          |                     | 0.798657          |                     | 1048.092651     |"
       ],
       "metadata": {}
      },
      {
       "output_type": "pyout",
       "html": [
        "<pre>PROGRESS: | 59        | 28650    | 1804.758810  | 0.599651          | 0.492083            | 0.799372          | 0.679444            | 673.742981      |</pre>"
       ],
       "text": [
        "PROGRESS: | 59        | 28650    | 1804.758810  | 0.599651          | 0.492083            | 0.799372          | 0.679444            | 673.742981      |"
       ],
       "metadata": {}
      },
      {
       "output_type": "pyout",
       "html": [
        "<pre>PROGRESS: | 60        | 10650    | 1814.872225  | 0.594178          |                     | 0.791643          |                     | 1053.843018     |</pre>"
       ],
       "text": [
        "PROGRESS: | 60        | 10650    | 1814.872225  | 0.594178          |                     | 0.791643          |                     | 1053.843018     |"
       ],
       "metadata": {}
      },
      {
       "output_type": "pyout",
       "html": [
        "<pre>PROGRESS: | 60        | 21450    | 1825.035950  | 0.601492          |                     | 0.801305          |                     | 1062.603760     |</pre>"
       ],
       "text": [
        "PROGRESS: | 60        | 21450    | 1825.035950  | 0.601492          |                     | 0.801305          |                     | 1062.603760     |"
       ],
       "metadata": {}
      },
      {
       "output_type": "pyout",
       "html": [
        "<pre>PROGRESS: | 60        | 28650    | 1835.663942  | 0.603874          | 0.493056            | 0.803630          | 0.685833            | 677.454895      |</pre>"
       ],
       "text": [
        "PROGRESS: | 60        | 28650    | 1835.663942  | 0.603874          | 0.493056            | 0.803630          | 0.685833            | 677.454895      |"
       ],
       "metadata": {}
      },
      {
       "output_type": "pyout",
       "html": [
        "<pre>PROGRESS: Checkpointing model into ~/tmp/chkpt</pre>"
       ],
       "text": [
        "PROGRESS: Checkpointing model into ~/tmp/chkpt"
       ],
       "metadata": {}
      },
      {
       "output_type": "pyout",
       "html": [
        "<pre>PROGRESS: | 61        | 10500    | 1845.665015  | 0.601429          |                     | 0.802952          |                     | 1049.929077     |</pre>"
       ],
       "text": [
        "PROGRESS: | 61        | 10500    | 1845.665015  | 0.601429          |                     | 0.802952          |                     | 1049.929077     |"
       ],
       "metadata": {}
      },
      {
       "output_type": "pyout",
       "html": [
        "<pre>PROGRESS: | 61        | 21000    | 1855.735286  | 0.602333          |                     | 0.804524          |                     | 1042.673096     |</pre>"
       ],
       "text": [
        "PROGRESS: | 61        | 21000    | 1855.735286  | 0.602333          |                     | 0.804524          |                     | 1042.673096     |"
       ],
       "metadata": {}
      },
      {
       "output_type": "pyout",
       "html": [
        "<pre>PROGRESS: | 61        | 28800    | 1866.905903  | 0.602014          | 0.491111            | 0.802431          | 0.670556            | 698.259827      |</pre>"
       ],
       "text": [
        "PROGRESS: | 61        | 28800    | 1866.905903  | 0.602014          | 0.491111            | 0.802431          | 0.670556            | 698.259827      |"
       ],
       "metadata": {}
      },
      {
       "output_type": "pyout",
       "html": [
        "<pre>PROGRESS: | 62        | 10350    | 1876.934766  | 0.602319          |                     | 0.805700          |                     | 1032.086060     |</pre>"
       ],
       "text": [
        "PROGRESS: | 62        | 10350    | 1876.934766  | 0.602319          |                     | 0.805700          |                     | 1032.086060     |"
       ],
       "metadata": {}
      },
      {
       "output_type": "pyout",
       "html": [
        "<pre>PROGRESS: | 62        | 20850    | 1887.077406  | 0.607386          |                     | 0.805947          |                     | 1035.232910     |</pre>"
       ],
       "text": [
        "PROGRESS: | 62        | 20850    | 1887.077406  | 0.607386          |                     | 0.805947          |                     | 1035.232910     |"
       ],
       "metadata": {}
      },
      {
       "output_type": "pyout",
       "html": [
        "<pre>PROGRESS: | 62        | 28650    | 1898.240445  | 0.607155          | 0.491111            | 0.806213          | 0.671250            | 698.734009      |</pre>"
       ],
       "text": [
        "PROGRESS: | 62        | 28650    | 1898.240445  | 0.607155          | 0.491111            | 0.806213          | 0.671250            | 698.734009      |"
       ],
       "metadata": {}
      },
      {
       "output_type": "pyout",
       "html": [
        "<pre>PROGRESS: | 63        | 10650    | 1908.363887  | 0.597559          |                     | 0.801127          |                     | 1052.822876     |</pre>"
       ],
       "text": [
        "PROGRESS: | 63        | 10650    | 1908.363887  | 0.597559          |                     | 0.801127          |                     | 1052.822876     |"
       ],
       "metadata": {}
      },
      {
       "output_type": "pyout",
       "html": [
        "<pre>PROGRESS: | 63        | 21150    | 1918.416380  | 0.603310          |                     | 0.802553          |                     | 1044.516968     |</pre>"
       ],
       "text": [
        "PROGRESS: | 63        | 21150    | 1918.416380  | 0.603310          |                     | 0.802553          |                     | 1044.516968     |"
       ],
       "metadata": {}
      },
      {
       "output_type": "pyout",
       "html": [
        "<pre>PROGRESS: | 63        | 28650    | 1929.162128  | 0.606038          | 0.494306            | 0.803106          | 0.682222            | 697.949890      |</pre>"
       ],
       "text": [
        "PROGRESS: | 63        | 28650    | 1929.162128  | 0.606038          | 0.494306            | 0.803106          | 0.682222            | 697.949890      |"
       ],
       "metadata": {}
      },
      {
       "output_type": "pyout",
       "html": [
        "<pre>PROGRESS: | 64        | 10650    | 1939.171478  | 0.604131          |                     | 0.803005          |                     | 1064.039673     |</pre>"
       ],
       "text": [
        "PROGRESS: | 64        | 10650    | 1939.171478  | 0.604131          |                     | 0.803005          |                     | 1064.039673     |"
       ],
       "metadata": {}
      },
      {
       "output_type": "pyout",
       "html": [
        "<pre>PROGRESS: | 64        | 21300    | 1949.295033  | 0.606901          |                     | 0.807183          |                     | 1052.001831     |</pre>"
       ],
       "text": [
        "PROGRESS: | 64        | 21300    | 1949.295033  | 0.606901          |                     | 0.807183          |                     | 1052.001831     |"
       ],
       "metadata": {}
      },
      {
       "output_type": "pyout",
       "html": [
        "<pre>PROGRESS: | 64        | 28800    | 1960.382516  | 0.609965          | 0.494444            | 0.808854          | 0.678750            | 676.437988      |</pre>"
       ],
       "text": [
        "PROGRESS: | 64        | 28800    | 1960.382516  | 0.609965          | 0.494444            | 0.808854          | 0.678750            | 676.437988      |"
       ],
       "metadata": {}
      },
      {
       "output_type": "pyout",
       "html": [
        "<pre>PROGRESS: | 65        | 10650    | 1970.469666  | 0.606385          |                     | 0.805258          |                     | 1055.839478     |</pre>"
       ],
       "text": [
        "PROGRESS: | 65        | 10650    | 1970.469666  | 0.606385          |                     | 0.805258          |                     | 1055.839478     |"
       ],
       "metadata": {}
      },
      {
       "output_type": "pyout",
       "html": [
        "<pre>PROGRESS: | 65        | 21150    | 1980.475687  | 0.610496          |                     | 0.809362          |                     | 1049.368530     |</pre>"
       ],
       "text": [
        "PROGRESS: | 65        | 21150    | 1980.475687  | 0.610496          |                     | 0.809362          |                     | 1049.368530     |"
       ],
       "metadata": {}
      },
      {
       "output_type": "pyout",
       "html": [
        "<pre>PROGRESS: | 65        | 28650    | 1991.586146  | 0.611204          | 0.493472            | 0.809564          | 0.675139            | 675.039124      |</pre>"
       ],
       "text": [
        "PROGRESS: | 65        | 28650    | 1991.586146  | 0.611204          | 0.493472            | 0.809564          | 0.675139            | 675.039124      |"
       ],
       "metadata": {}
      },
      {
       "output_type": "pyout",
       "html": [
        "<pre>PROGRESS: Checkpointing model into ~/tmp/chkpt</pre>"
       ],
       "text": [
        "PROGRESS: Checkpointing model into ~/tmp/chkpt"
       ],
       "metadata": {}
      },
      {
       "output_type": "pyout",
       "html": [
        "<pre>PROGRESS: | 66        | 10650    | 2001.629067  | 0.603474          |                     | 0.801502          |                     | 1060.468506     |</pre>"
       ],
       "text": [
        "PROGRESS: | 66        | 10650    | 2001.629067  | 0.603474          |                     | 0.801502          |                     | 1060.468506     |"
       ],
       "metadata": {}
      },
      {
       "output_type": "pyout",
       "html": [
        "<pre>PROGRESS: | 66        | 21300    | 2011.698905  | 0.607934          |                     | 0.805023          |                     | 1057.613892     |</pre>"
       ],
       "text": [
        "PROGRESS: | 66        | 21300    | 2011.698905  | 0.607934          |                     | 0.805023          |                     | 1057.613892     |"
       ],
       "metadata": {}
      },
      {
       "output_type": "pyout",
       "html": [
        "<pre>PROGRESS: | 66        | 28650    | 2022.752123  | 0.608447          | 0.492222            | 0.803595          | 0.675972            | 664.964233      |</pre>"
       ],
       "text": [
        "PROGRESS: | 66        | 28650    | 2022.752123  | 0.608447          | 0.492222            | 0.803595          | 0.675972            | 664.964233      |"
       ],
       "metadata": {}
      },
      {
       "output_type": "pyout",
       "html": [
        "<pre>PROGRESS: | 67        | 10500    | 2032.800575  | 0.611238          |                     | 0.804190          |                     | 1044.959351     |</pre>"
       ],
       "text": [
        "PROGRESS: | 67        | 10500    | 2032.800575  | 0.611238          |                     | 0.804190          |                     | 1044.959351     |"
       ],
       "metadata": {}
      },
      {
       "output_type": "pyout",
       "html": [
        "<pre>PROGRESS: | 67        | 21000    | 2042.872435  | 0.612048          |                     | 0.805238          |                     | 1042.507202     |</pre>"
       ],
       "text": [
        "PROGRESS: | 67        | 21000    | 2042.872435  | 0.612048          |                     | 0.805238          |                     | 1042.507202     |"
       ],
       "metadata": {}
      },
      {
       "output_type": "pyout",
       "html": [
        "<pre>PROGRESS: | 67        | 28800    | 2054.140410  | 0.612917          | 0.492222            | 0.806597          | 0.679861            | 692.226807      |</pre>"
       ],
       "text": [
        "PROGRESS: | 67        | 28800    | 2054.140410  | 0.612917          | 0.492222            | 0.806597          | 0.679861            | 692.226807      |"
       ],
       "metadata": {}
      },
      {
       "output_type": "pyout",
       "html": [
        "<pre>PROGRESS: | 68        | 10500    | 2064.212119  | 0.607524          |                     | 0.803524          |                     | 1042.564453     |</pre>"
       ],
       "text": [
        "PROGRESS: | 68        | 10500    | 2064.212119  | 0.607524          |                     | 0.803524          |                     | 1042.564453     |"
       ],
       "metadata": {}
      },
      {
       "output_type": "pyout",
       "html": [
        "<pre>PROGRESS: | 68        | 20850    | 2074.231537  | 0.610695          |                     | 0.807578          |                     | 1032.994263     |</pre>"
       ],
       "text": [
        "PROGRESS: | 68        | 20850    | 2074.231537  | 0.610695          |                     | 0.807578          |                     | 1032.994263     |"
       ],
       "metadata": {}
      },
      {
       "output_type": "pyout",
       "html": [
        "<pre>PROGRESS: | 68        | 28650    | 2085.641387  | 0.610052          | 0.492500            | 0.808237          | 0.680417            | 683.619324      |</pre>"
       ],
       "text": [
        "PROGRESS: | 68        | 28650    | 2085.641387  | 0.610052          | 0.492500            | 0.808237          | 0.680417            | 683.619324      |"
       ],
       "metadata": {}
      },
      {
       "output_type": "pyout",
       "html": [
        "<pre>PROGRESS: | 69        | 10500    | 2095.681788  | 0.614286          |                     | 0.809714          |                     | 1045.796265     |</pre>"
       ],
       "text": [
        "PROGRESS: | 69        | 10500    | 2095.681788  | 0.614286          |                     | 0.809714          |                     | 1045.796265     |"
       ],
       "metadata": {}
      },
      {
       "output_type": "pyout",
       "html": [
        "<pre>PROGRESS: | 69        | 21000    | 2105.807452  | 0.613238          |                     | 0.809000          |                     | 1036.969116     |</pre>"
       ],
       "text": [
        "PROGRESS: | 69        | 21000    | 2105.807452  | 0.613238          |                     | 0.809000          |                     | 1036.969116     |"
       ],
       "metadata": {}
      },
      {
       "output_type": "pyout",
       "html": [
        "<pre>PROGRESS: | 69        | 28650    | 2116.816806  | 0.613752          | 0.498472            | 0.808831          | 0.678333            | 694.863159      |</pre>"
       ],
       "text": [
        "PROGRESS: | 69        | 28650    | 2116.816806  | 0.613752          | 0.498472            | 0.808831          | 0.678333            | 694.863159      |"
       ],
       "metadata": {}
      },
      {
       "output_type": "pyout",
       "html": [
        "<pre>PROGRESS: | 70        | 10500    | 2126.975577  | 0.605429          |                     | 0.804857          |                     | 1033.611328     |</pre>"
       ],
       "text": [
        "PROGRESS: | 70        | 10500    | 2126.975577  | 0.605429          |                     | 0.804857          |                     | 1033.611328     |"
       ],
       "metadata": {}
      },
      {
       "output_type": "pyout",
       "html": [
        "<pre>PROGRESS: | 70        | 20700    | 2137.028127  | 0.611014          |                     | 0.807295          |                     | 1014.665283     |</pre>"
       ],
       "text": [
        "PROGRESS: | 70        | 20700    | 2137.028127  | 0.611014          |                     | 0.807295          |                     | 1014.665283     |"
       ],
       "metadata": {}
      },
      {
       "output_type": "pyout",
       "html": [
        "<pre>PROGRESS: | 70        | 28650    | 2145.826974  | 0.611239          | 0.494167            | 0.807086          | 0.679444            | 903.526733      |</pre>"
       ],
       "text": [
        "PROGRESS: | 70        | 28650    | 2145.826974  | 0.611239          | 0.494167            | 0.807086          | 0.679444            | 903.526733      |"
       ],
       "metadata": {}
      },
      {
       "output_type": "pyout",
       "html": [
        "<pre>PROGRESS: Checkpointing model into ~/tmp/chkpt</pre>"
       ],
       "text": [
        "PROGRESS: Checkpointing model into ~/tmp/chkpt"
       ],
       "metadata": {}
      },
      {
       "output_type": "pyout",
       "html": [
        "<pre>PROGRESS: | 71        | 13800    | 2155.862701  | 0.612754          |                     | 0.805870          |                     | 1375.111694     |</pre>"
       ],
       "text": [
        "PROGRESS: | 71        | 13800    | 2155.862701  | 0.612754          |                     | 0.805870          |                     | 1375.111694     |"
       ],
       "metadata": {}
      },
      {
       "output_type": "pyout",
       "html": [
        "<pre>PROGRESS: | 71        | 27000    | 2165.946388  | 0.611630          |                     | 0.808519          |                     | 1309.048218     |</pre>"
       ],
       "text": [
        "PROGRESS: | 71        | 27000    | 2165.946388  | 0.611630          |                     | 0.808519          |                     | 1309.048218     |"
       ],
       "metadata": {}
      },
      {
       "output_type": "pyout",
       "html": [
        "<pre>PROGRESS: | 71        | 28800    | 2171.729651  | 0.611771          | 0.485278            | 0.808229          | 0.670139            | 311.241241      |</pre>"
       ],
       "text": [
        "PROGRESS: | 71        | 28800    | 2171.729651  | 0.611771          | 0.485278            | 0.808229          | 0.670139            | 311.241241      |"
       ],
       "metadata": {}
      },
      {
       "output_type": "pyout",
       "html": [
        "<pre>PROGRESS: | 72        | 10650    | 2181.804821  | 0.610798          |                     | 0.801972          |                     | 1057.074707     |</pre>"
       ],
       "text": [
        "PROGRESS: | 72        | 10650    | 2181.804821  | 0.610798          |                     | 0.801972          |                     | 1057.074707     |"
       ],
       "metadata": {}
      },
      {
       "output_type": "pyout",
       "html": [
        "<pre>PROGRESS: | 72        | 21450    | 2191.807456  | 0.613520          |                     | 0.810769          |                     | 1079.716187     |</pre>"
       ],
       "text": [
        "PROGRESS: | 72        | 21450    | 2191.807456  | 0.613520          |                     | 0.810769          |                     | 1079.716187     |"
       ],
       "metadata": {}
      },
      {
       "output_type": "pyout",
       "html": [
        "<pre>PROGRESS: | 72        | 28650    | 2202.398151  | 0.611937          | 0.485833            | 0.810646          | 0.668611            | 679.841125      |</pre>"
       ],
       "text": [
        "PROGRESS: | 72        | 28650    | 2202.398151  | 0.611937          | 0.485833            | 0.810646          | 0.668611            | 679.841125      |"
       ],
       "metadata": {}
      },
      {
       "output_type": "pyout",
       "html": [
        "<pre>PROGRESS: | 73        | 10800    | 2212.438273  | 0.609907          |                     | 0.813704          |                     | 1075.708984     |</pre>"
       ],
       "text": [
        "PROGRESS: | 73        | 10800    | 2212.438273  | 0.609907          |                     | 0.813704          |                     | 1075.708984     |"
       ],
       "metadata": {}
      },
      {
       "output_type": "pyout",
       "html": [
        "<pre>PROGRESS: | 73        | 21300    | 2222.579071  | 0.614883          |                     | 0.813756          |                     | 1035.421509     |</pre>"
       ],
       "text": [
        "PROGRESS: | 73        | 21300    | 2222.579071  | 0.614883          |                     | 0.813756          |                     | 1035.421509     |"
       ],
       "metadata": {}
      },
      {
       "output_type": "pyout",
       "html": [
        "<pre>PROGRESS: | 73        | 28650    | 2233.220861  | 0.615916          | 0.482500            | 0.815288          | 0.673750            | 690.672791      |</pre>"
       ],
       "text": [
        "PROGRESS: | 73        | 28650    | 2233.220861  | 0.615916          | 0.482500            | 0.815288          | 0.673750            | 690.672791      |"
       ],
       "metadata": {}
      },
      {
       "output_type": "pyout",
       "html": [
        "<pre>PROGRESS: | 74        | 10350    | 2243.287835  | 0.611401          |                     | 0.812560          |                     | 1028.985962     |</pre>"
       ],
       "text": [
        "PROGRESS: | 74        | 10350    | 2243.287835  | 0.611401          |                     | 0.812560          |                     | 1028.985962     |"
       ],
       "metadata": {}
      },
      {
       "output_type": "pyout",
       "html": [
        "<pre>PROGRESS: | 74        | 21000    | 2253.388020  | 0.614810          |                     | 0.812857          |                     | 1054.435791     |</pre>"
       ],
       "text": [
        "PROGRESS: | 74        | 21000    | 2253.388020  | 0.614810          |                     | 0.812857          |                     | 1054.435791     |"
       ],
       "metadata": {}
      },
      {
       "output_type": "pyout",
       "html": [
        "<pre>PROGRESS: | 74        | 28800    | 2264.795696  | 0.616840          | 0.495278            | 0.814271          | 0.670833            | 683.749756      |</pre>"
       ],
       "text": [
        "PROGRESS: | 74        | 28800    | 2264.795696  | 0.616840          | 0.495278            | 0.814271          | 0.670833            | 683.749756      |"
       ],
       "metadata": {}
      },
      {
       "output_type": "pyout",
       "html": [
        "<pre>PROGRESS: | 75        | 10800    | 2274.841798  | 0.612685          |                     | 0.812870          |                     | 1075.065918     |</pre>"
       ],
       "text": [
        "PROGRESS: | 75        | 10800    | 2274.841798  | 0.612685          |                     | 0.812870          |                     | 1075.065918     |"
       ],
       "metadata": {}
      },
      {
       "output_type": "pyout",
       "html": [
        "<pre>PROGRESS: | 75        | 21300    | 2284.908600  | 0.614695          |                     | 0.810470          |                     | 1043.032227     |</pre>"
       ],
       "text": [
        "PROGRESS: | 75        | 21300    | 2284.908600  | 0.614695          |                     | 0.810470          |                     | 1043.032227     |"
       ],
       "metadata": {}
      },
      {
       "output_type": "pyout",
       "html": [
        "<pre>PROGRESS: | 75        | 28650    | 2295.707556  | 0.617068          | 0.494184            | 0.812775          | 0.679858            | 680.620911      |</pre>"
       ],
       "text": [
        "PROGRESS: | 75        | 28650    | 2295.707556  | 0.617068          | 0.494184            | 0.812775          | 0.679858            | 680.620911      |"
       ],
       "metadata": {}
      },
      {
       "output_type": "pyout",
       "html": [
        "<pre>PROGRESS: Checkpointing model into ~/tmp/chkpt</pre>"
       ],
       "text": [
        "PROGRESS: Checkpointing model into ~/tmp/chkpt"
       ],
       "metadata": {}
      },
      {
       "output_type": "pyout",
       "html": [
        "<pre>PROGRESS: | 76        | 10500    | 2305.789725  | 0.619048          |                     | 0.813619          |                     | 1041.466675     |</pre>"
       ],
       "text": [
        "PROGRESS: | 76        | 10500    | 2305.789725  | 0.619048          |                     | 0.813619          |                     | 1041.466675     |"
       ],
       "metadata": {}
      },
      {
       "output_type": "pyout",
       "html": [
        "<pre>PROGRESS: | 76        | 21000    | 2315.856786  | 0.614714          |                     | 0.809667          |                     | 1043.005859     |</pre>"
       ],
       "text": [
        "PROGRESS: | 76        | 21000    | 2315.856786  | 0.614714          |                     | 0.809667          |                     | 1043.005859     |"
       ],
       "metadata": {}
      },
      {
       "output_type": "pyout",
       "html": [
        "<pre>PROGRESS: | 76        | 28650    | 2326.733425  | 0.616579          | 0.501389            | 0.812461          | 0.682361            | 703.340698      |</pre>"
       ],
       "text": [
        "PROGRESS: | 76        | 28650    | 2326.733425  | 0.616579          | 0.501389            | 0.812461          | 0.682361            | 703.340698      |"
       ],
       "metadata": {}
      },
      {
       "output_type": "pyout",
       "html": [
        "<pre>PROGRESS: | 77        | 10650    | 2336.881020  | 0.626761          |                     | 0.821033          |                     | 1049.541016     |</pre>"
       ],
       "text": [
        "PROGRESS: | 77        | 10650    | 2336.881020  | 0.626761          |                     | 0.821033          |                     | 1049.541016     |"
       ],
       "metadata": {}
      },
      {
       "output_type": "pyout",
       "html": [
        "<pre>PROGRESS: | 77        | 21150    | 2347.026489  | 0.623452          |                     | 0.821087          |                     | 1034.944946     |</pre>"
       ],
       "text": [
        "PROGRESS: | 77        | 21150    | 2347.026489  | 0.623452          |                     | 0.821087          |                     | 1034.944946     |"
       ],
       "metadata": {}
      },
      {
       "output_type": "pyout",
       "html": [
        "<pre>PROGRESS: | 77        | 28800    | 2358.223501  | 0.623333          | 0.496806            | 0.819236          | 0.676944            | 683.217468      |</pre>"
       ],
       "text": [
        "PROGRESS: | 77        | 28800    | 2358.223501  | 0.623333          | 0.496806            | 0.819236          | 0.676944            | 683.217468      |"
       ],
       "metadata": {}
      },
      {
       "output_type": "pyout",
       "html": [
        "<pre>PROGRESS: | 78        | 10650    | 2368.261652  | 0.620000          |                     | 0.815869          |                     | 1060.979370     |</pre>"
       ],
       "text": [
        "PROGRESS: | 78        | 10650    | 2368.261652  | 0.620000          |                     | 0.815869          |                     | 1060.979370     |"
       ],
       "metadata": {}
      },
      {
       "output_type": "pyout",
       "html": [
        "<pre>PROGRESS: | 78        | 21000    | 2378.311069  | 0.623476          |                     | 0.821905          |                     | 1029.910522     |</pre>"
       ],
       "text": [
        "PROGRESS: | 78        | 21000    | 2378.311069  | 0.623476          |                     | 0.821905          |                     | 1029.910522     |"
       ],
       "metadata": {}
      },
      {
       "output_type": "pyout",
       "html": [
        "<pre>PROGRESS: | 78        | 28650    | 2389.450095  | 0.624887          | 0.493194            | 0.822897          | 0.680278            | 686.774048      |</pre>"
       ],
       "text": [
        "PROGRESS: | 78        | 28650    | 2389.450095  | 0.624887          | 0.493194            | 0.822897          | 0.680278            | 686.774048      |"
       ],
       "metadata": {}
      },
      {
       "output_type": "pyout",
       "html": [
        "<pre>PROGRESS: | 79        | 10350    | 2399.471542  | 0.623382          |                     | 0.821159          |                     | 1032.805420     |</pre>"
       ],
       "text": [
        "PROGRESS: | 79        | 10350    | 2399.471542  | 0.623382          |                     | 0.821159          |                     | 1032.805420     |"
       ],
       "metadata": {}
      },
      {
       "output_type": "pyout",
       "html": [
        "<pre>PROGRESS: | 79        | 21150    | 2409.591678  | 0.620851          |                     | 0.815886          |                     | 1067.177612     |</pre>"
       ],
       "text": [
        "PROGRESS: | 79        | 21150    | 2409.591678  | 0.620851          |                     | 0.815886          |                     | 1067.177612     |"
       ],
       "metadata": {}
      },
      {
       "output_type": "pyout",
       "html": [
        "<pre>PROGRESS: | 79        | 28650    | 2420.238339  | 0.618534          | 0.493194            | 0.814520          | 0.667083            | 704.445740      |</pre>"
       ],
       "text": [
        "PROGRESS: | 79        | 28650    | 2420.238339  | 0.618534          | 0.493194            | 0.814520          | 0.667083            | 704.445740      |"
       ],
       "metadata": {}
      },
      {
       "output_type": "pyout",
       "html": [
        "<pre>PROGRESS: | 80        | 10800    | 2430.300313  | 0.619352          |                     | 0.818981          |                     | 1073.366699     |</pre>"
       ],
       "text": [
        "PROGRESS: | 80        | 10800    | 2430.300313  | 0.619352          |                     | 0.818981          |                     | 1073.366699     |"
       ],
       "metadata": {}
      },
      {
       "output_type": "pyout",
       "html": [
        "<pre>PROGRESS: | 80        | 21600    | 2440.346156  | 0.625324          |                     | 0.820463          |                     | 1075.071655     |</pre>"
       ],
       "text": [
        "PROGRESS: | 80        | 21600    | 2440.346156  | 0.625324          |                     | 0.820463          |                     | 1075.071655     |"
       ],
       "metadata": {}
      },
      {
       "output_type": "pyout",
       "html": [
        "<pre>PROGRESS: | 80        | 28650    | 2451.446969  | 0.624607          | 0.487361            | 0.820175          | 0.669444            | 635.088135      |</pre>"
       ],
       "text": [
        "PROGRESS: | 80        | 28650    | 2451.446969  | 0.624607          | 0.487361            | 0.820175          | 0.669444            | 635.088135      |"
       ],
       "metadata": {}
      },
      {
       "output_type": "pyout",
       "html": [
        "<pre>PROGRESS: Checkpointing model into ~/tmp/chkpt</pre>"
       ],
       "text": [
        "PROGRESS: Checkpointing model into ~/tmp/chkpt"
       ],
       "metadata": {}
      },
      {
       "output_type": "pyout",
       "html": [
        "<pre>PROGRESS: | 81        | 10200    | 2461.461643  | 0.618529          |                     | 0.816373          |                     | 1018.553955     |</pre>"
       ],
       "text": [
        "PROGRESS: | 81        | 10200    | 2461.461643  | 0.618529          |                     | 0.816373          |                     | 1018.553955     |"
       ],
       "metadata": {}
      },
      {
       "output_type": "pyout",
       "html": [
        "<pre>PROGRESS: | 81        | 19500    | 2471.560915  | 0.619692          |                     | 0.817026          |                     | 920.859619      |</pre>"
       ],
       "text": [
        "PROGRESS: | 81        | 19500    | 2471.560915  | 0.619692          |                     | 0.817026          |                     | 920.859619      |"
       ],
       "metadata": {}
      },
      {
       "output_type": "pyout",
       "html": [
        "<pre>PROGRESS: | 81        | 28800    | 2484.753070  | 0.622986          | 0.494444            | 0.820521          | 0.673056            | 704.963440      |</pre>"
       ],
       "text": [
        "PROGRESS: | 81        | 28800    | 2484.753070  | 0.622986          | 0.494444            | 0.820521          | 0.673056            | 704.963440      |"
       ],
       "metadata": {}
      },
      {
       "output_type": "pyout",
       "html": [
        "<pre>PROGRESS: | 82        | 10800    | 2494.803292  | 0.621389          |                     | 0.820185          |                     | 1074.651733     |</pre>"
       ],
       "text": [
        "PROGRESS: | 82        | 10800    | 2494.803292  | 0.621389          |                     | 0.820185          |                     | 1074.651733     |"
       ],
       "metadata": {}
      },
      {
       "output_type": "pyout",
       "html": [
        "<pre>PROGRESS: | 82        | 21600    | 2504.917603  | 0.624028          |                     | 0.823102          |                     | 1067.795410     |</pre>"
       ],
       "text": [
        "PROGRESS: | 82        | 21600    | 2504.917603  | 0.624028          |                     | 0.823102          |                     | 1067.795410     |"
       ],
       "metadata": {}
      },
      {
       "output_type": "pyout",
       "html": [
        "<pre>PROGRESS: | 82        | 28650    | 2515.057772  | 0.622443          | 0.487917            | 0.821955          | 0.674722            | 695.253174      |</pre>"
       ],
       "text": [
        "PROGRESS: | 82        | 28650    | 2515.057772  | 0.622443          | 0.487917            | 0.821955          | 0.674722            | 695.253174      |"
       ],
       "metadata": {}
      },
      {
       "output_type": "pyout",
       "html": [
        "<pre>PROGRESS: | 83        | 10950    | 2525.136991  | 0.621279          |                     | 0.819726          |                     | 1086.412109     |</pre>"
       ],
       "text": [
        "PROGRESS: | 83        | 10950    | 2525.136991  | 0.621279          |                     | 0.819726          |                     | 1086.412109     |"
       ],
       "metadata": {}
      },
      {
       "output_type": "pyout",
       "html": [
        "<pre>PROGRESS: | 83        | 21750    | 2535.139434  | 0.628184          |                     | 0.822483          |                     | 1079.736572     |</pre>"
       ],
       "text": [
        "PROGRESS: | 83        | 21750    | 2535.139434  | 0.628184          |                     | 0.822483          |                     | 1079.736572     |"
       ],
       "metadata": {}
      },
      {
       "output_type": "pyout",
       "html": [
        "<pre>PROGRESS: | 83        | 28650    | 2545.032332  | 0.624956          | 0.491250            | 0.822234          | 0.678333            | 697.469360      |</pre>"
       ],
       "text": [
        "PROGRESS: | 83        | 28650    | 2545.032332  | 0.624956          | 0.491250            | 0.822234          | 0.678333            | 697.469360      |"
       ],
       "metadata": {}
      },
      {
       "output_type": "pyout",
       "html": [
        "<pre>PROGRESS: | 84        | 10800    | 2555.170844  | 0.622130          |                     | 0.817500          |                     | 1065.284424     |</pre>"
       ],
       "text": [
        "PROGRESS: | 84        | 10800    | 2555.170844  | 0.622130          |                     | 0.817500          |                     | 1065.284424     |"
       ],
       "metadata": {}
      },
      {
       "output_type": "pyout",
       "html": [
        "<pre>PROGRESS: | 84        | 21600    | 2565.307485  | 0.625093          |                     | 0.821250          |                     | 1065.441650     |</pre>"
       ],
       "text": [
        "PROGRESS: | 84        | 21600    | 2565.307485  | 0.625093          |                     | 0.821250          |                     | 1065.441650     |"
       ],
       "metadata": {}
      },
      {
       "output_type": "pyout",
       "html": [
        "<pre>PROGRESS: | 84        | 28800    | 2575.988129  | 0.626806          | 0.489722            | 0.822118          | 0.674028            | 674.116089      |</pre>"
       ],
       "text": [
        "PROGRESS: | 84        | 28800    | 2575.988129  | 0.626806          | 0.489722            | 0.822118          | 0.674028            | 674.116089      |"
       ],
       "metadata": {}
      },
      {
       "output_type": "pyout",
       "html": [
        "<pre>PROGRESS: | 85        | 10800    | 2586.121245  | 0.628704          |                     | 0.825648          |                     | 1065.848633     |</pre>"
       ],
       "text": [
        "PROGRESS: | 85        | 10800    | 2586.121245  | 0.628704          |                     | 0.825648          |                     | 1065.848633     |"
       ],
       "metadata": {}
      },
      {
       "output_type": "pyout",
       "html": [
        "<pre>PROGRESS: | 85        | 21600    | 2596.197295  | 0.626852          |                     | 0.821852          |                     | 1071.848633     |</pre>"
       ],
       "text": [
        "PROGRESS: | 85        | 21600    | 2596.197295  | 0.626852          |                     | 0.821852          |                     | 1071.848633     |"
       ],
       "metadata": {}
      },
      {
       "output_type": "pyout",
       "html": [
        "<pre>PROGRESS: | 85        | 28650    | 2606.769457  | 0.627819          | 0.488056            | 0.821955          | 0.675694            | 666.845215      |</pre>"
       ],
       "text": [
        "PROGRESS: | 85        | 28650    | 2606.769457  | 0.627819          | 0.488056            | 0.821955          | 0.675694            | 666.845215      |"
       ],
       "metadata": {}
      },
      {
       "output_type": "pyout",
       "html": [
        "<pre>PROGRESS: Checkpointing model into ~/tmp/chkpt</pre>"
       ],
       "text": [
        "PROGRESS: Checkpointing model into ~/tmp/chkpt"
       ],
       "metadata": {}
      },
      {
       "output_type": "pyout",
       "html": [
        "<pre>PROGRESS: | 86        | 10650    | 2616.838730  | 0.623850          |                     | 0.822911          |                     | 1057.715698     |</pre>"
       ],
       "text": [
        "PROGRESS: | 86        | 10650    | 2616.838730  | 0.623850          |                     | 0.822911          |                     | 1057.715698     |"
       ],
       "metadata": {}
      },
      {
       "output_type": "pyout",
       "html": [
        "<pre>PROGRESS: | 86        | 20700    | 2626.889676  | 0.626473          |                     | 0.825362          |                     | 999.906006      |</pre>"
       ],
       "text": [
        "PROGRESS: | 86        | 20700    | 2626.889676  | 0.626473          |                     | 0.825362          |                     | 999.906006      |"
       ],
       "metadata": {}
      },
      {
       "output_type": "pyout",
       "html": [
        "<pre>PROGRESS: | 86        | 28650    | 2638.437716  | 0.629808          | 0.486944            | 0.825934          | 0.677083            | 688.428101      |</pre>"
       ],
       "text": [
        "PROGRESS: | 86        | 28650    | 2638.437716  | 0.629808          | 0.486944            | 0.825934          | 0.677083            | 688.428101      |"
       ],
       "metadata": {}
      },
      {
       "output_type": "pyout",
       "html": [
        "<pre>PROGRESS: | 87        | 9450     | 2648.473892  | 0.629206          |                     | 0.826773          |                     | 941.743713      |</pre>"
       ],
       "text": [
        "PROGRESS: | 87        | 9450     | 2648.473892  | 0.629206          |                     | 0.826773          |                     | 941.743713      |"
       ],
       "metadata": {}
      },
      {
       "output_type": "pyout",
       "html": [
        "<pre>PROGRESS: | 87        | 21450    | 2658.477759  | 0.631049          |                     | 0.827319          |                     | 1199.533325     |</pre>"
       ],
       "text": [
        "PROGRESS: | 87        | 21450    | 2658.477759  | 0.631049          |                     | 0.827319          |                     | 1199.533325     |"
       ],
       "metadata": {}
      },
      {
       "output_type": "pyout",
       "html": [
        "<pre>PROGRESS: | 87        | 28800    | 2667.114438  | 0.629826          | 0.493611            | 0.827118          | 0.675556            | 851.021057      |</pre>"
       ],
       "text": [
        "PROGRESS: | 87        | 28800    | 2667.114438  | 0.629826          | 0.493611            | 0.827118          | 0.675556            | 851.021057      |"
       ],
       "metadata": {}
      },
      {
       "output_type": "pyout",
       "html": [
        "<pre>PROGRESS: | 88        | 11100    | 2677.242624  | 0.626216          |                     | 0.822432          |                     | 1095.991333     |</pre>"
       ],
       "text": [
        "PROGRESS: | 88        | 11100    | 2677.242624  | 0.626216          |                     | 0.822432          |                     | 1095.991333     |"
       ],
       "metadata": {}
      },
      {
       "output_type": "pyout",
       "html": [
        "<pre>PROGRESS: | 88        | 21300    | 2687.419281  | 0.626761          |                     | 0.823005          |                     | 1002.293762     |</pre>"
       ],
       "text": [
        "PROGRESS: | 88        | 21300    | 2687.419281  | 0.626761          |                     | 0.823005          |                     | 1002.293762     |"
       ],
       "metadata": {}
      },
      {
       "output_type": "pyout",
       "html": [
        "<pre>PROGRESS: | 88        | 28650    | 2696.869386  | 0.627225          | 0.487361            | 0.822932          | 0.671528            | 777.768738      |</pre>"
       ],
       "text": [
        "PROGRESS: | 88        | 28650    | 2696.869386  | 0.627225          | 0.487361            | 0.822932          | 0.671528            | 777.768738      |"
       ],
       "metadata": {}
      },
      {
       "output_type": "pyout",
       "html": [
        "<pre>PROGRESS: | 89        | 12450    | 2706.885725  | 0.628916          |                     | 0.823775          |                     | 1242.995239     |</pre>"
       ],
       "text": [
        "PROGRESS: | 89        | 12450    | 2706.885725  | 0.628916          |                     | 0.823775          |                     | 1242.995239     |"
       ],
       "metadata": {}
      },
      {
       "output_type": "pyout",
       "html": [
        "<pre>PROGRESS: | 89        | 24300    | 2717.018496  | 0.620864          |                     | 0.821728          |                     | 1169.472412     |</pre>"
       ],
       "text": [
        "PROGRESS: | 89        | 24300    | 2717.018496  | 0.620864          |                     | 0.821728          |                     | 1169.472412     |"
       ],
       "metadata": {}
      },
      {
       "output_type": "pyout",
       "html": [
        "<pre>PROGRESS: | 89        | 28650    | 2725.822014  | 0.620419          | 0.491528            | 0.822129          | 0.672083            | 494.120361      |</pre>"
       ],
       "text": [
        "PROGRESS: | 89        | 28650    | 2725.822014  | 0.620419          | 0.491528            | 0.822129          | 0.672083            | 494.120361      |"
       ],
       "metadata": {}
      },
      {
       "output_type": "pyout",
       "html": [
        "<pre>PROGRESS: | 90        | 9600     | 2735.906413  | 0.618021          |                     | 0.820417          |                     | 952.007019      |</pre>"
       ],
       "text": [
        "PROGRESS: | 90        | 9600     | 2735.906413  | 0.618021          |                     | 0.820417          |                     | 952.007019      |"
       ],
       "metadata": {}
      },
      {
       "output_type": "pyout",
       "html": [
        "<pre>PROGRESS: | 90        | 19350    | 2745.957522  | 0.627700          |                     | 0.825426          |                     | 970.042236      |</pre>"
       ],
       "text": [
        "PROGRESS: | 90        | 19350    | 2745.957522  | 0.627700          |                     | 0.825426          |                     | 970.042236      |"
       ],
       "metadata": {}
      },
      {
       "output_type": "pyout",
       "html": [
        "<pre>PROGRESS: | 90        | 28650    | 2759.841655  | 0.633333          | 0.490278            | 0.828028          | 0.674028            | 669.828979      |</pre>"
       ],
       "text": [
        "PROGRESS: | 90        | 28650    | 2759.841655  | 0.633333          | 0.490278            | 0.828028          | 0.674028            | 669.828979      |"
       ],
       "metadata": {}
      },
      {
       "output_type": "pyout",
       "html": [
        "<pre>PROGRESS: Checkpointing model into ~/tmp/chkpt</pre>"
       ],
       "text": [
        "PROGRESS: Checkpointing model into ~/tmp/chkpt"
       ],
       "metadata": {}
      },
      {
       "output_type": "pyout",
       "html": [
        "<pre>PROGRESS: | 91        | 9750     | 2769.908331  | 0.621538          |                     | 0.824923          |                     | 968.559875      |</pre>"
       ],
       "text": [
        "PROGRESS: | 91        | 9750     | 2769.908331  | 0.621538          |                     | 0.824923          |                     | 968.559875      |"
       ],
       "metadata": {}
      },
      {
       "output_type": "pyout",
       "html": [
        "<pre>PROGRESS: | 91        | 19800    | 2780.004223  | 0.625101          |                     | 0.824495          |                     | 995.454407      |</pre>"
       ],
       "text": [
        "PROGRESS: | 91        | 19800    | 2780.004223  | 0.625101          |                     | 0.824495          |                     | 995.454407      |"
       ],
       "metadata": {}
      },
      {
       "output_type": "pyout",
       "html": [
        "<pre>PROGRESS: | 91        | 28800    | 2793.185792  | 0.628750          | 0.486528            | 0.826354          | 0.671111            | 682.771179      |</pre>"
       ],
       "text": [
        "PROGRESS: | 91        | 28800    | 2793.185792  | 0.628750          | 0.486528            | 0.826354          | 0.671111            | 682.771179      |"
       ],
       "metadata": {}
      },
      {
       "output_type": "pyout",
       "html": [
        "<pre>PROGRESS: | 92        | 9750     | 2803.322223  | 0.622256          |                     | 0.823487          |                     | 961.895264      |</pre>"
       ],
       "text": [
        "PROGRESS: | 92        | 9750     | 2803.322223  | 0.622256          |                     | 0.823487          |                     | 961.895264      |"
       ],
       "metadata": {}
      },
      {
       "output_type": "pyout",
       "html": [
        "<pre>PROGRESS: | 92        | 19650    | 2813.549508  | 0.628397          |                     | 0.826972          |                     | 967.998840      |</pre>"
       ],
       "text": [
        "PROGRESS: | 92        | 19650    | 2813.549508  | 0.628397          |                     | 0.826972          |                     | 967.998840      |"
       ],
       "metadata": {}
      },
      {
       "output_type": "pyout",
       "html": [
        "<pre>PROGRESS: | 92        | 28650    | 2826.952420  | 0.632949          | 0.477778            | 0.828133          | 0.667778            | 671.495300      |</pre>"
       ],
       "text": [
        "PROGRESS: | 92        | 28650    | 2826.952420  | 0.632949          | 0.477778            | 0.828133          | 0.667778            | 671.495300      |"
       ],
       "metadata": {}
      },
      {
       "output_type": "pyout",
       "html": [
        "<pre>PROGRESS: | 93        | 9600     | 2837.015936  | 0.627292          |                     | 0.821458          |                     | 953.965515      |</pre>"
       ],
       "text": [
        "PROGRESS: | 93        | 9600     | 2837.015936  | 0.627292          |                     | 0.821458          |                     | 953.965515      |"
       ],
       "metadata": {}
      },
      {
       "output_type": "pyout",
       "html": [
        "<pre>PROGRESS: | 93        | 17700    | 2847.067107  | 0.628927          |                     | 0.822825          |                     | 805.876221      |</pre>"
       ],
       "text": [
        "PROGRESS: | 93        | 17700    | 2847.067107  | 0.628927          |                     | 0.822825          |                     | 805.876221      |"
       ],
       "metadata": {}
      },
      {
       "output_type": "pyout",
       "html": [
        "<pre>PROGRESS: | 93        | 27000    | 2857.133053  | 0.630889          |                     | 0.827296          |                     | 923.907104      |</pre>"
       ],
       "text": [
        "PROGRESS: | 93        | 27000    | 2857.133053  | 0.630889          |                     | 0.827296          |                     | 923.907104      |"
       ],
       "metadata": {}
      },
      {
       "output_type": "pyout",
       "html": [
        "<pre>PROGRESS: | 93        | 28650    | 2862.323842  | 0.631134          | 0.481528            | 0.826841          | 0.669722            | 317.870392      |</pre>"
       ],
       "text": [
        "PROGRESS: | 93        | 28650    | 2862.323842  | 0.631134          | 0.481528            | 0.826841          | 0.669722            | 317.870392      |"
       ],
       "metadata": {}
      },
      {
       "output_type": "pyout",
       "html": [
        "<pre>PROGRESS: | 94        | 10950    | 2872.390423  | 0.627580          |                     | 0.824840          |                     | 1087.781250     |</pre>"
       ],
       "text": [
        "PROGRESS: | 94        | 10950    | 2872.390423  | 0.627580          |                     | 0.824840          |                     | 1087.781250     |"
       ],
       "metadata": {}
      },
      {
       "output_type": "pyout",
       "html": [
        "<pre>PROGRESS: | 94        | 21300    | 2882.395802  | 0.631221          |                     | 0.827230          |                     | 1034.441772     |</pre>"
       ],
       "text": [
        "PROGRESS: | 94        | 21300    | 2882.395802  | 0.631221          |                     | 0.827230          |                     | 1034.441772     |"
       ],
       "metadata": {}
      },
      {
       "output_type": "pyout",
       "html": [
        "<pre>PROGRESS: | 94        | 28800    | 2892.979987  | 0.631389          | 0.490355            | 0.828993          | 0.673617            | 708.603821      |</pre>"
       ],
       "text": [
        "PROGRESS: | 94        | 28800    | 2892.979987  | 0.631389          | 0.490355            | 0.828993          | 0.673617            | 708.603821      |"
       ],
       "metadata": {}
      },
      {
       "output_type": "pyout",
       "html": [
        "<pre>PROGRESS: | 95        | 13800    | 2903.076275  | 0.631522          |                     | 0.825580          |                     | 1366.863403     |</pre>"
       ],
       "text": [
        "PROGRESS: | 95        | 13800    | 2903.076275  | 0.631522          |                     | 0.825580          |                     | 1366.863403     |"
       ],
       "metadata": {}
      },
      {
       "output_type": "pyout",
       "html": [
        "<pre>PROGRESS: | 95        | 27900    | 2913.170533  | 0.630143          |                     | 0.828853          |                     | 1396.833618     |</pre>"
       ],
       "text": [
        "PROGRESS: | 95        | 27900    | 2913.170533  | 0.630143          |                     | 0.828853          |                     | 1396.833618     |"
       ],
       "metadata": {}
      },
      {
       "output_type": "pyout",
       "html": [
        "<pre>PROGRESS: | 95        | 28650    | 2916.555040  | 0.629878          | 0.485278            | 0.828586          | 0.662361            | 221.597549      |</pre>"
       ],
       "text": [
        "PROGRESS: | 95        | 28650    | 2916.555040  | 0.629878          | 0.485278            | 0.828586          | 0.662361            | 221.597549      |"
       ],
       "metadata": {}
      },
      {
       "output_type": "pyout",
       "html": [
        "<pre>PROGRESS: Checkpointing model into ~/tmp/chkpt</pre>"
       ],
       "text": [
        "PROGRESS: Checkpointing model into ~/tmp/chkpt"
       ],
       "metadata": {}
      },
      {
       "output_type": "pyout",
       "html": [
        "<pre>PROGRESS: | 96        | 10950    | 2926.676632  | 0.631598          |                     | 0.825845          |                     | 1081.864624     |</pre>"
       ],
       "text": [
        "PROGRESS: | 96        | 10950    | 2926.676632  | 0.631598          |                     | 0.825845          |                     | 1081.864624     |"
       ],
       "metadata": {}
      },
      {
       "output_type": "pyout",
       "html": [
        "<pre>PROGRESS: | 96        | 21750    | 2936.740008  | 0.636276          |                     | 0.832092          |                     | 1073.198975     |</pre>"
       ],
       "text": [
        "PROGRESS: | 96        | 21750    | 2936.740008  | 0.636276          |                     | 0.832092          |                     | 1073.198975     |"
       ],
       "metadata": {}
      },
      {
       "output_type": "pyout",
       "html": [
        "<pre>PROGRESS: | 96        | 28650    | 2946.778370  | 0.635253          | 0.486944            | 0.830960          | 0.677778            | 687.362305      |</pre>"
       ],
       "text": [
        "PROGRESS: | 96        | 28650    | 2946.778370  | 0.635253          | 0.486944            | 0.830960          | 0.677778            | 687.362305      |"
       ],
       "metadata": {}
      },
      {
       "output_type": "pyout",
       "html": [
        "<pre>PROGRESS: | 97        | 11250    | 2956.853657  | 0.630044          |                     | 0.824267          |                     | 1116.627319     |</pre>"
       ],
       "text": [
        "PROGRESS: | 97        | 11250    | 2956.853657  | 0.630044          |                     | 0.824267          |                     | 1116.627319     |"
       ],
       "metadata": {}
      },
      {
       "output_type": "pyout",
       "html": [
        "<pre>PROGRESS: | 97        | 22350    | 2966.953783  | 0.634989          |                     | 0.826398          |                     | 1098.994263     |</pre>"
       ],
       "text": [
        "PROGRESS: | 97        | 22350    | 2966.953783  | 0.634989          |                     | 0.826398          |                     | 1098.994263     |"
       ],
       "metadata": {}
      },
      {
       "output_type": "pyout",
       "html": [
        "<pre>PROGRESS: | 97        | 28800    | 2976.459646  | 0.634549          | 0.484167            | 0.827708          | 0.668194            | 678.527954      |</pre>"
       ],
       "text": [
        "PROGRESS: | 97        | 28800    | 2976.459646  | 0.634549          | 0.484167            | 0.827708          | 0.668194            | 678.527954      |"
       ],
       "metadata": {}
      },
      {
       "output_type": "pyout",
       "html": [
        "<pre>PROGRESS: | 98        | 10950    | 2986.583440  | 0.636256          |                     | 0.830137          |                     | 1081.640991     |</pre>"
       ],
       "text": [
        "PROGRESS: | 98        | 10950    | 2986.583440  | 0.636256          |                     | 0.830137          |                     | 1081.640991     |"
       ],
       "metadata": {}
      },
      {
       "output_type": "pyout",
       "html": [
        "<pre>PROGRESS: | 98        | 21300    | 2996.658786  | 0.636948          |                     | 0.831925          |                     | 1027.260132     |</pre>"
       ],
       "text": [
        "PROGRESS: | 98        | 21300    | 2996.658786  | 0.636948          |                     | 0.831925          |                     | 1027.260132     |"
       ],
       "metadata": {}
      },
      {
       "output_type": "pyout",
       "html": [
        "<pre>PROGRESS: | 98        | 28650    | 3009.915008  | 0.637347          | 0.485000            | 0.832600          | 0.672500            | 554.456299      |</pre>"
       ],
       "text": [
        "PROGRESS: | 98        | 28650    | 3009.915008  | 0.637347          | 0.485000            | 0.832600          | 0.672500            | 554.456299      |"
       ],
       "metadata": {}
      },
      {
       "output_type": "pyout",
       "html": [
        "<pre>PROGRESS: | 99        | 10950    | 3019.927720  | 0.634977          |                     | 0.828493          |                     | 1093.634521     |</pre>"
       ],
       "text": [
        "PROGRESS: | 99        | 10950    | 3019.927720  | 0.634977          |                     | 0.828493          |                     | 1093.634521     |"
       ],
       "metadata": {}
      },
      {
       "output_type": "pyout",
       "html": [
        "<pre>PROGRESS: | 99        | 23850    | 3030.028869  | 0.636772          |                     | 0.829602          |                     | 1277.082520     |</pre>"
       ],
       "text": [
        "PROGRESS: | 99        | 23850    | 3030.028869  | 0.636772          |                     | 0.829602          |                     | 1277.082520     |"
       ],
       "metadata": {}
      },
      {
       "output_type": "pyout",
       "html": [
        "<pre>PROGRESS: | 99        | 28650    | 3038.105527  | 0.636230          | 0.483194            | 0.830192          | 0.677083            | 594.304565      |</pre>"
       ],
       "text": [
        "PROGRESS: | 99        | 28650    | 3038.105527  | 0.636230          | 0.483194            | 0.830192          | 0.677083            | 594.304565      |"
       ],
       "metadata": {}
      },
      {
       "output_type": "pyout",
       "html": [
        "<pre>PROGRESS: | 100       | 11250    | 3048.214504  | 0.645333          |                     | 0.840089          |                     | 1112.897217     |</pre>"
       ],
       "text": [
        "PROGRESS: | 100       | 11250    | 3048.214504  | 0.645333          |                     | 0.840089          |                     | 1112.897217     |"
       ],
       "metadata": {}
      },
      {
       "output_type": "pyout",
       "html": [
        "<pre>PROGRESS: | 100       | 19950    | 3058.254987  | 0.638847          |                     | 0.836591          |                     | 866.492249      |</pre>"
       ],
       "text": [
        "PROGRESS: | 100       | 19950    | 3058.254987  | 0.638847          |                     | 0.836591          |                     | 866.492249      |"
       ],
       "metadata": {}
      },
      {
       "output_type": "pyout",
       "html": [
        "<pre>PROGRESS: | 100       | 28650    | 3073.264100  | 0.637243          | 0.489722            | 0.836021          | 0.682778            | 579.647522      |</pre>"
       ],
       "text": [
        "PROGRESS: | 100       | 28650    | 3073.264100  | 0.637243          | 0.489722            | 0.836021          | 0.682778            | 579.647522      |"
       ],
       "metadata": {}
      },
      {
       "output_type": "pyout",
       "html": [
        "<pre>PROGRESS: Checkpointing model into ~/tmp/chkpt</pre>"
       ],
       "text": [
        "PROGRESS: Checkpointing model into ~/tmp/chkpt"
       ],
       "metadata": {}
      },
      {
       "output_type": "pyout",
       "html": [
        "<pre>PROGRESS: +-----------+----------+--------------+-------------------+---------------------+-------------------+---------------------+-----------------+</pre>"
       ],
       "text": [
        "PROGRESS: +-----------+----------+--------------+-------------------+---------------------+-------------------+---------------------+-----------------+"
       ],
       "metadata": {}
>>>>>>> bc79861cbf0691f851d3145e1a94af6ae0cca89c
      },
      {
       "output_type": "stream",
       "stream": "stdout",
       "text": [
        "Using network:\n",
        "\n",
        "### network layers ###\n",
        "layer[0]: ConvolutionLayer\n",
        "  init_random = gaussian\n",
        "  padding = 0\n",
        "  stride = 2\n",
        "  num_channels = 10\n",
        "  num_groups = 1\n",
        "  kernel_size = 3\n",
        "layer[1]: MaxPoolingLayer\n",
        "  padding = 0\n",
        "  stride = 2\n",
        "  kernel_size = 3\n",
        "layer[2]: FlattenLayer\n",
        "layer[3]: FullConnectionLayer\n",
        "  init_sigma = 0.01\n",
        "  init_random = gaussian\n",
        "  init_bias = 0\n",
        "  num_hidden_units = 100\n",
        "layer[4]: RectifiedLinearLayer\n",
        "layer[5]: DropoutLayer\n",
        "  threshold = 0.5\n",
        "layer[6]: FullConnectionLayer\n",
        "  init_sigma = 0.01\n",
        "  init_random = gaussian\n",
        "  init_bias = 0\n",
        "  num_hidden_units = 7\n",
        "layer[7]: SoftmaxLayer\n",
        "### end network layers ###\n",
        "\n",
        "### network parameters ###\n",
        "model_checkpoint_path = ~/tmp/chkpt\n",
        "learning_rate = 0.001\n",
        "batch_size = 150\n",
        "model_checkpoint_interval = 5\n",
        "metric = accuracy,recall@2\n",
        "momentum = 0.9\n",
        "### end network parameters ###\n",
        "\n",
        "CPU times: user 1.95 s, sys: 1.74 s, total: 3.69 s"
       ]
      },
      {
       "output_type": "stream",
       "stream": "stdout",
       "text": [
        "\n",
        "Wall time: 51min 13s\n"
       ]
      }
     ],
<<<<<<< HEAD
=======
     "input": [
      "%time m = train()"
     ],
     "language": "python",
>>>>>>> bc79861cbf0691f851d3145e1a94af6ae0cca89c
     "prompt_number": 15
    },
    {
     "cell_type": "code",
<<<<<<< HEAD
     "collapsed": false,
     "input": [
      "pred = m.classify(test_data)\n",
      "pred"
     ],
     "language": "python",
     "metadata": {},
     "outputs": [
      {
=======
     "metadata": {},
     "outputs": [
      {
       "output_type": "pyout",
>>>>>>> bc79861cbf0691f851d3145e1a94af6ae0cca89c
       "html": [
        "<div style=\"max-height:1000px;max-width:1500px;overflow:auto;\"><table frame=\"box\" rules=\"cols\">\n",
        "    <tr>\n",
        "        <th style=\"padding-left: 1em; padding-right: 1em; text-align: center\">row_id</th>\n",
        "        <th style=\"padding-left: 1em; padding-right: 1em; text-align: center\">class</th>\n",
        "        <th style=\"padding-left: 1em; padding-right: 1em; text-align: center\">score</th>\n",
        "    </tr>\n",
        "    <tr>\n",
        "        <td style=\"padding-left: 1em; padding-right: 1em; text-align: center; vertical-align: top\">0</td>\n",
        "        <td style=\"padding-left: 1em; padding-right: 1em; text-align: center; vertical-align: top\">6</td>\n",
        "        <td style=\"padding-left: 1em; padding-right: 1em; text-align: center; vertical-align: top\">0.560347080231</td>\n",
        "    </tr>\n",
        "    <tr>\n",
        "        <td style=\"padding-left: 1em; padding-right: 1em; text-align: center; vertical-align: top\">1</td>\n",
        "        <td style=\"padding-left: 1em; padding-right: 1em; text-align: center; vertical-align: top\">6</td>\n",
        "        <td style=\"padding-left: 1em; padding-right: 1em; text-align: center; vertical-align: top\">0.662757396698</td>\n",
        "    </tr>\n",
        "    <tr>\n",
        "        <td style=\"padding-left: 1em; padding-right: 1em; text-align: center; vertical-align: top\">2</td>\n",
        "        <td style=\"padding-left: 1em; padding-right: 1em; text-align: center; vertical-align: top\">6</td>\n",
        "        <td style=\"padding-left: 1em; padding-right: 1em; text-align: center; vertical-align: top\">0.575888395309</td>\n",
        "    </tr>\n",
        "    <tr>\n",
        "        <td style=\"padding-left: 1em; padding-right: 1em; text-align: center; vertical-align: top\">3</td>\n",
        "        <td style=\"padding-left: 1em; padding-right: 1em; text-align: center; vertical-align: top\">0</td>\n",
        "        <td style=\"padding-left: 1em; padding-right: 1em; text-align: center; vertical-align: top\">0.742978155613</td>\n",
        "    </tr>\n",
        "    <tr>\n",
        "        <td style=\"padding-left: 1em; padding-right: 1em; text-align: center; vertical-align: top\">4</td>\n",
        "        <td style=\"padding-left: 1em; padding-right: 1em; text-align: center; vertical-align: top\">3</td>\n",
        "        <td style=\"padding-left: 1em; padding-right: 1em; text-align: center; vertical-align: top\">0.441538691521</td>\n",
        "    </tr>\n",
        "    <tr>\n",
        "        <td style=\"padding-left: 1em; padding-right: 1em; text-align: center; vertical-align: top\">5</td>\n",
        "        <td style=\"padding-left: 1em; padding-right: 1em; text-align: center; vertical-align: top\">5</td>\n",
        "        <td style=\"padding-left: 1em; padding-right: 1em; text-align: center; vertical-align: top\">0.298762112856</td>\n",
        "    </tr>\n",
        "    <tr>\n",
        "        <td style=\"padding-left: 1em; padding-right: 1em; text-align: center; vertical-align: top\">6</td>\n",
        "        <td style=\"padding-left: 1em; padding-right: 1em; text-align: center; vertical-align: top\">2</td>\n",
        "        <td style=\"padding-left: 1em; padding-right: 1em; text-align: center; vertical-align: top\">0.477362930775</td>\n",
        "    </tr>\n",
        "    <tr>\n",
        "        <td style=\"padding-left: 1em; padding-right: 1em; text-align: center; vertical-align: top\">7</td>\n",
        "        <td style=\"padding-left: 1em; padding-right: 1em; text-align: center; vertical-align: top\">4</td>\n",
        "        <td style=\"padding-left: 1em; padding-right: 1em; text-align: center; vertical-align: top\">0.307330280542</td>\n",
        "    </tr>\n",
        "    <tr>\n",
        "        <td style=\"padding-left: 1em; padding-right: 1em; text-align: center; vertical-align: top\">8</td>\n",
        "        <td style=\"padding-left: 1em; padding-right: 1em; text-align: center; vertical-align: top\">3</td>\n",
        "        <td style=\"padding-left: 1em; padding-right: 1em; text-align: center; vertical-align: top\">0.480702191591</td>\n",
        "    </tr>\n",
        "    <tr>\n",
        "        <td style=\"padding-left: 1em; padding-right: 1em; text-align: center; vertical-align: top\">9</td>\n",
        "        <td style=\"padding-left: 1em; padding-right: 1em; text-align: center; vertical-align: top\">5</td>\n",
        "        <td style=\"padding-left: 1em; padding-right: 1em; text-align: center; vertical-align: top\">0.319266170263</td>\n",
        "    </tr>\n",
        "    <tr>\n",
        "        <td style=\"padding-left: 1em; padding-right: 1em; text-align: center; vertical-align: top\">...</td>\n",
        "        <td style=\"padding-left: 1em; padding-right: 1em; text-align: center; vertical-align: top\">...</td>\n",
        "        <td style=\"padding-left: 1em; padding-right: 1em; text-align: center; vertical-align: top\">...</td>\n",
        "    </tr>\n",
        "</table>\n",
        "[3567 rows x 3 columns]<br/>Note: Only the head of the SFrame is printed.<br/>You can use print_rows(num_rows=m, num_columns=n) to print more rows and columns.\n",
        "</div>"
       ],
<<<<<<< HEAD
       "metadata": {},
       "output_type": "pyout",
=======
>>>>>>> bc79861cbf0691f851d3145e1a94af6ae0cca89c
       "text": [
        "Columns:\n",
        "\trow_id\tint\n",
        "\tclass\tint\n",
        "\tscore\tfloat\n",
        "\n",
        "Rows: 3567\n",
        "\n",
        "Data:\n",
        "+--------+-------+----------------+\n",
        "| row_id | class |     score      |\n",
        "+--------+-------+----------------+\n",
        "|   0    |   6   | 0.560347080231 |\n",
        "|   1    |   6   | 0.662757396698 |\n",
        "|   2    |   6   | 0.575888395309 |\n",
        "|   3    |   0   | 0.742978155613 |\n",
        "|   4    |   3   | 0.441538691521 |\n",
        "|   5    |   5   | 0.298762112856 |\n",
        "|   6    |   2   | 0.477362930775 |\n",
        "|   7    |   4   | 0.307330280542 |\n",
        "|   8    |   3   | 0.480702191591 |\n",
        "|   9    |   5   | 0.319266170263 |\n",
        "|  ...   |  ...  |      ...       |\n",
        "+--------+-------+----------------+\n",
        "[3567 rows x 3 columns]\n",
        "Note: Only the head of the SFrame is printed.\n",
        "You can use print_rows(num_rows=m, num_columns=n) to print more rows and columns."
<<<<<<< HEAD
       ]
      }
     ],
=======
       ],
       "metadata": {}
      }
     ],
     "input": [
      "pred = m.classify(test_data)\n",
      "pred"
     ],
     "language": "python",
>>>>>>> bc79861cbf0691f851d3145e1a94af6ae0cca89c
     "prompt_number": 24
    },
    {
     "cell_type": "code",
<<<<<<< HEAD
     "collapsed": false,
=======
     "metadata": {},
     "outputs": [],
>>>>>>> bc79861cbf0691f851d3145e1a94af6ae0cca89c
     "input": [
      "eval_ = m.evaluate(test_data)"
     ],
     "language": "python",
<<<<<<< HEAD
     "metadata": {},
     "outputs": [],
=======
>>>>>>> bc79861cbf0691f851d3145e1a94af6ae0cca89c
     "prompt_number": 25
    },
    {
     "cell_type": "code",
<<<<<<< HEAD
     "collapsed": false,
     "input": [
      "eval_"
     ],
     "language": "python",
     "metadata": {},
     "outputs": [
      {
       "metadata": {},
=======
     "metadata": {},
     "outputs": [
      {
>>>>>>> bc79861cbf0691f851d3145e1a94af6ae0cca89c
       "output_type": "pyout",
       "prompt_number": 26,
       "text": [
        "{'accuracy': 0.5922222137451172, 'confusion_matrix': Columns:\n",
        " \ttarget_label\tint\n",
        " \tpredicted_label\tint\n",
        " \tcount\tint\n",
        " \n",
        " Rows: 44\n",
        " \n",
        " Data:\n",
        " +--------------+-----------------+-------+\n",
        " | target_label | predicted_label | count |\n",
        " +--------------+-----------------+-------+\n",
        " |      5       |        5        |  297  |\n",
        " |      6       |        5        |   9   |\n",
        " |      3       |        5        |   12  |\n",
        " |      0       |        5        |   9   |\n",
        " |      4       |        5        |   4   |\n",
        " |      2       |        5        |   48  |\n",
        " |      1       |        5        |   3   |\n",
        " |      5       |        6        |   22  |\n",
        " |      6       |        6        |  353  |\n",
        " |      3       |        6        |   47  |\n",
        " |     ...      |       ...       |  ...  |\n",
        " +--------------+-----------------+-------+\n",
        " [44 rows x 3 columns]\n",
        " Note: Only the head of the SFrame is printed.\n",
        " You can use print_rows(num_rows=m, num_columns=n) to print more rows and columns.}"
<<<<<<< HEAD
       ]
      }
     ],
=======
       ],
       "metadata": {}
      }
     ],
     "input": [
      "eval_"
     ],
     "language": "python",
>>>>>>> bc79861cbf0691f851d3145e1a94af6ae0cca89c
     "prompt_number": 26
    },
    {
     "cell_type": "code",
<<<<<<< HEAD
     "collapsed": false,
     "input": [
      "gl.deeplearning.get_builtin_neuralnet('imagenet')"
     ],
     "language": "python",
     "metadata": {},
     "outputs": [
      {
       "metadata": {},
=======
     "metadata": {},
     "outputs": [
      {
>>>>>>> bc79861cbf0691f851d3145e1a94af6ae0cca89c
       "output_type": "pyout",
       "prompt_number": 3,
       "text": [
        "\n",
        "### network layers ###\n",
        "layer[0]: ConvolutionLayer\n",
        "  init_random = gaussian\n",
        "  padding = 0\n",
        "  stride = 4\n",
        "  num_channels = 96\n",
        "  num_groups = 1\n",
        "  kernel_size = 11\n",
        "layer[1]: RectifiedLinearLayer\n",
        "layer[2]: MaxPoolingLayer\n",
        "  padding = 0\n",
        "  stride = 2\n",
        "  kernel_size = 3\n",
        "layer[3]: LocalResponseNormalizationLayer\n",
        "  alpha = 0.001\n",
        "  beta = 0.75\n",
        "  knorm = 1\n",
        "  local_size = 5\n",
        "layer[4]: ConvolutionLayer\n",
        "  init_random = gaussian\n",
        "  padding = 2\n",
        "  stride = 1\n",
        "  num_channels = 256\n",
        "  num_groups = 2\n",
        "  kernel_size = 5\n",
        "layer[5]: RectifiedLinearLayer\n",
        "layer[6]: MaxPoolingLayer\n",
        "  padding = 0\n",
        "  stride = 2\n",
        "  kernel_size = 3\n",
        "layer[7]: LocalResponseNormalizationLayer\n",
        "  alpha = 0.001\n",
        "  beta = 0.75\n",
        "  knorm = 1\n",
        "  local_size = 5\n",
        "layer[8]: ConvolutionLayer\n",
        "  init_random = gaussian\n",
        "  padding = 1\n",
        "  stride = 1\n",
        "  num_channels = 384\n",
        "  num_groups = 1\n",
        "  kernel_size = 3\n",
        "layer[9]: RectifiedLinearLayer\n",
        "layer[10]: ConvolutionLayer\n",
        "  init_random = gaussian\n",
        "  padding = 1\n",
        "  stride = 1\n",
        "  num_channels = 384\n",
        "  num_groups = 2\n",
        "  kernel_size = 3\n",
        "layer[11]: RectifiedLinearLayer\n",
        "layer[12]: ConvolutionLayer\n",
        "  init_random = gaussian\n",
        "  padding = 1\n",
        "  stride = 1\n",
        "  init_bias = 1.0\n",
        "  num_channels = 256\n",
        "  num_groups = 2\n",
        "  kernel_size = 3\n",
        "layer[13]: RectifiedLinearLayer\n",
        "layer[14]: MaxPoolingLayer\n",
        "  padding = 0\n",
        "  stride = 2\n",
        "  kernel_size = 3\n",
        "layer[15]: FlattenLayer\n",
        "layer[16]: FullConnectionLayer\n",
        "  init_sigma = 0.005\n",
        "  init_random = gaussian\n",
        "  init_bias = 1.0\n",
        "  num_hidden_units = 4096\n",
        "layer[17]: RectifiedLinearLayer\n",
        "layer[18]: DropoutLayer\n",
        "  threshold = 0.5\n",
        "layer[19]: FullConnectionLayer\n",
        "  init_sigma = 0.005\n",
        "  init_random = gaussian\n",
        "  init_bias = 1.0\n",
        "  num_hidden_units = 4096\n",
        "layer[20]: RectifiedLinearLayer\n",
        "layer[21]: DropoutLayer\n",
        "  threshold = 0.5\n",
        "layer[22]: FullConnectionLayer\n",
        "  init_sigma = 0.01\n",
        "  init_random = gaussian\n",
        "  init_bias = 0\n",
        "  num_hidden_units = 1000\n",
        "layer[23]: SoftmaxLayer\n",
        "### end network layers ###\n",
        "\n",
        "### network parameters ###\n",
        "init_random = gaussian\n",
        "random_mirror = 1\n",
        "learning_rate = 0.01\n",
        "input_shape = 3,227,227\n",
        "learning_rate_gamma = 0.1\n",
        "learning_rate_schedule = exponential_decay\n",
        "init_sigma = 0.01\n",
        "learning_rate_step = 100000\n",
        "random_crop = 1\n",
        "bias_learning_rate = 0.02\n",
        "l2_regularization = 0.0005\n",
        "momentum = 0.9\n",
        "### end network parameters ###"
<<<<<<< HEAD
       ]
      }
     ],
=======
       ],
       "metadata": {}
      }
     ],
     "input": [
      "gl.deeplearning.get_builtin_neuralnet('imagenet')"
     ],
     "language": "python",
>>>>>>> bc79861cbf0691f851d3145e1a94af6ae0cca89c
     "prompt_number": 3
    },
    {
     "cell_type": "code",
<<<<<<< HEAD
     "collapsed": false,
     "input": [
      "gl.deeplearning.get_builtin_neuralnet('mnist')"
     ],
     "language": "python",
     "metadata": {},
     "outputs": [
      {
       "metadata": {},
=======
     "metadata": {},
     "outputs": [
      {
>>>>>>> bc79861cbf0691f851d3145e1a94af6ae0cca89c
       "output_type": "pyout",
       "prompt_number": 4,
       "text": [
        "\n",
        "### network layers ###\n",
        "layer[0]: ConvolutionLayer\n",
        "  init_random = gaussian\n",
        "  random_type = xavier\n",
        "  padding = 1\n",
        "  stride = 2\n",
        "  num_channels = 32\n",
        "  num_groups = 1\n",
        "  kernel_size = 3\n",
        "layer[1]: MaxPoolingLayer\n",
        "  padding = 0\n",
        "  stride = 2\n",
        "  kernel_size = 3\n",
        "layer[2]: FlattenLayer\n",
        "layer[3]: DropoutLayer\n",
        "  threshold = 0.5\n",
        "layer[4]: FullConnectionLayer\n",
        "  init_sigma = 0.01\n",
        "  init_random = gaussian\n",
        "  init_bias = 0\n",
        "  num_hidden_units = 100\n",
        "layer[5]: SigmoidLayer\n",
        "layer[6]: FullConnectionLayer\n",
        "  init_sigma = 0.01\n",
        "  init_random = gaussian\n",
        "  init_bias = 0\n",
        "  num_hidden_units = 10\n",
        "layer[7]: SoftmaxLayer\n",
        "### end network layers ###\n",
        "\n",
        "### network parameters ###\n",
        "init_random = gaussian\n",
        "learning_rate = 0.1\n",
        "input_shape = 1,28,28\n",
        "batch_size = 100\n",
        "divideby = 255\n",
        "l2_regularization = 0.0\n",
        "momentum = 0.9\n",
        "### end network parameters ###"
<<<<<<< HEAD
       ]
      }
     ],
=======
       ],
       "metadata": {}
      }
     ],
     "input": [
      "gl.deeplearning.get_builtin_neuralnet('mnist')"
     ],
     "language": "python",
>>>>>>> bc79861cbf0691f851d3145e1a94af6ae0cca89c
     "prompt_number": 4
    },
    {
     "cell_type": "code",
<<<<<<< HEAD
     "collapsed": false,
     "input": [
      "net"
     ],
     "language": "python",
     "metadata": {},
     "outputs": [
      {
       "metadata": {},
=======
     "metadata": {},
     "outputs": [
      {
>>>>>>> bc79861cbf0691f851d3145e1a94af6ae0cca89c
       "output_type": "pyout",
       "prompt_number": 9,
       "text": [
        "\n",
        "### network layers ###\n",
        "layer[0]: ConvolutionLayer\n",
        "  init_random = gaussian\n",
        "  padding = 0\n",
        "  stride = 2\n",
        "  num_channels = 10\n",
        "  num_groups = 1\n",
        "  kernel_size = 3\n",
        "layer[1]: MaxPoolingLayer\n",
        "  padding = 0\n",
        "  stride = 2\n",
        "  kernel_size = 3\n",
        "layer[2]: FlattenLayer\n",
        "layer[3]: FullConnectionLayer\n",
        "  init_sigma = 0.01\n",
        "  init_random = gaussian\n",
        "  init_bias = 0\n",
        "  num_hidden_units = 100\n",
        "layer[4]: RectifiedLinearLayer\n",
        "layer[5]: DropoutLayer\n",
        "  threshold = 0.5\n",
        "layer[6]: FullConnectionLayer\n",
        "  init_sigma = 0.01\n",
        "  init_random = gaussian\n",
        "  init_bias = 0\n",
        "  num_hidden_units = 7\n",
        "layer[7]: SoftmaxLayer\n",
        "### end network layers ###\n",
        "\n",
        "### network parameters ###\n",
        "learning_rate = 0.001\n",
        "momentum = 0.9\n",
        "### end network parameters ###"
<<<<<<< HEAD
       ]
      }
     ],
=======
       ],
       "metadata": {}
      }
     ],
     "input": [
      "net"
     ],
     "language": "python",
>>>>>>> bc79861cbf0691f851d3145e1a94af6ae0cca89c
     "prompt_number": 9
    },
    {
     "cell_type": "code",
<<<<<<< HEAD
     "collapsed": false,
     "input": [
      "%time x = 1 + 1"
     ],
     "language": "python",
=======
>>>>>>> bc79861cbf0691f851d3145e1a94af6ae0cca89c
     "metadata": {},
     "outputs": [
      {
       "output_type": "stream",
       "stream": "stdout",
       "text": [
<<<<<<< HEAD
        "CPU times: user 6 \u00b5s, sys: 4 \u00b5s, total: 10 \u00b5s\n",
        "Wall time: 14.1 \u00b5s\n"
       ]
      }
     ],
=======
        "CPU times: user 6 µs, sys: 4 µs, total: 10 µs\n",
        "Wall time: 14.1 µs\n"
       ]
      }
     ],
     "input": [
      "%time x = 1 + 1"
     ],
     "language": "python",
>>>>>>> bc79861cbf0691f851d3145e1a94af6ae0cca89c
     "prompt_number": 11
    },
    {
     "cell_type": "code",
<<<<<<< HEAD
     "collapsed": false,
     "input": [],
     "language": "python",
     "metadata": {},
     "outputs": []
    }
   ],
   "metadata": {}
  }
 ]
=======
     "metadata": {},
     "outputs": [],
     "input": [
      ""
     ],
     "language": "python"
    }
   ]
  }
 ],
 "cells": [],
 "metadata": {
  "name": "",
  "signature": "sha256:45e44e0f7fc2af0629ca5e51723b410318de31bf61342df3cc79f25d8df4d349"
 },
 "nbformat": 3,
 "nbformat_minor": 0
>>>>>>> bc79861cbf0691f851d3145e1a94af6ae0cca89c
}